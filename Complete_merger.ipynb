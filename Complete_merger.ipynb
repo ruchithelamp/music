{
 "cells": [
  {
   "cell_type": "code",
   "execution_count": 1,
   "id": "72926fc8",
   "metadata": {},
   "outputs": [
    {
     "name": "stderr",
     "output_type": "stream",
     "text": [
      "/home/smacieje/.local/lib/python3.9/site-packages/pandas/core/computation/expressions.py:21: UserWarning: Pandas requires version '2.8.4' or newer of 'numexpr' (version '2.7.3' currently installed).\n",
      "  from pandas.core.computation.check import NUMEXPR_INSTALLED\n",
      "/home/smacieje/.local/lib/python3.9/site-packages/pandas/core/arrays/masked.py:61: UserWarning: Pandas requires version '1.3.6' or newer of 'bottleneck' (version '1.3.2' currently installed).\n",
      "  from pandas.core import (\n"
     ]
    }
   ],
   "source": [
    "import pandas as pd\n",
    "\n",
    "df1 = pd.read_csv('/home/smacieje/data/all_discogs_lyrics_concated.csv', low_memory=False)\n",
    "df2 = pd.read_csv('/home/smacieje/data/all_discogs_releases_concated.csv', low_memory=False)"
   ]
  },
  {
   "cell_type": "code",
   "execution_count": 2,
   "id": "c124a70b",
   "metadata": {},
   "outputs": [
    {
     "data": {
      "text/plain": [
       "(52282, 12)"
      ]
     },
     "execution_count": 2,
     "metadata": {},
     "output_type": "execute_result"
    }
   ],
   "source": [
    "concated = pd.concat([df1, df2], ignore_index=True)\n",
    "concated.shape"
   ]
  },
  {
   "cell_type": "code",
   "execution_count": 3,
   "id": "3b55107b",
   "metadata": {},
   "outputs": [],
   "source": [
    "concated.drop(columns=['Unnamed: 0'], inplace=True)"
   ]
  },
  {
   "cell_type": "code",
   "execution_count": 4,
   "id": "434cad40",
   "metadata": {},
   "outputs": [],
   "source": [
    "concated.rename(columns={'release_id':'id'}, inplace=True)"
   ]
  },
  {
   "cell_type": "code",
   "execution_count": 5,
   "id": "de6ff0ba",
   "metadata": {},
   "outputs": [],
   "source": [
    "def convert_to_seconds(value):\n",
    "    \"\"\"Convert duration from MM:SS format to seconds.\"\"\"\n",
    "    try:\n",
    "        minutes, seconds = map(int, str(value).split(':'))\n",
    "        return minutes * 60 + seconds\n",
    "    except:\n",
    "        return None"
   ]
  },
  {
   "cell_type": "code",
   "execution_count": 6,
   "id": "2bcd6838",
   "metadata": {},
   "outputs": [],
   "source": [
    "concated['duration'] = concated['duration'].apply(convert_to_seconds)"
   ]
  },
  {
   "cell_type": "code",
   "execution_count": 7,
   "id": "0fd21249",
   "metadata": {},
   "outputs": [],
   "source": [
    "column_order = ['title', 'duration', 'album', 'year', 'artist',\n",
    "                'id', 'country', 'genre', 'style', 'source', 'lyrics']\n",
    "    \n",
    "concated = concated[column_order]"
   ]
  },
  {
   "cell_type": "code",
   "execution_count": 8,
   "id": "c12eb849",
   "metadata": {},
   "outputs": [],
   "source": [
    "concated.insert(3, \"date\", None)\n",
    "concated.insert(5, \"month\", None)\n",
    "concated.insert(6, \"day\", None)"
   ]
  },
  {
   "cell_type": "code",
   "execution_count": 9,
   "id": "01838726",
   "metadata": {},
   "outputs": [
    {
     "data": {
      "text/html": [
       "<div>\n",
       "<style scoped>\n",
       "    .dataframe tbody tr th:only-of-type {\n",
       "        vertical-align: middle;\n",
       "    }\n",
       "\n",
       "    .dataframe tbody tr th {\n",
       "        vertical-align: top;\n",
       "    }\n",
       "\n",
       "    .dataframe thead th {\n",
       "        text-align: right;\n",
       "    }\n",
       "</style>\n",
       "<table border=\"1\" class=\"dataframe\">\n",
       "  <thead>\n",
       "    <tr style=\"text-align: right;\">\n",
       "      <th></th>\n",
       "      <th>title</th>\n",
       "      <th>duration</th>\n",
       "      <th>album</th>\n",
       "      <th>date</th>\n",
       "      <th>year</th>\n",
       "      <th>month</th>\n",
       "      <th>day</th>\n",
       "      <th>artist</th>\n",
       "      <th>id</th>\n",
       "      <th>country</th>\n",
       "      <th>genre</th>\n",
       "      <th>style</th>\n",
       "      <th>source</th>\n",
       "      <th>lyrics</th>\n",
       "    </tr>\n",
       "  </thead>\n",
       "  <tbody>\n",
       "    <tr>\n",
       "      <th>0</th>\n",
       "      <td>Last Dance Of A Dying King</td>\n",
       "      <td>NaN</td>\n",
       "      <td>Anthems Of Resistance</td>\n",
       "      <td>None</td>\n",
       "      <td>2007</td>\n",
       "      <td>None</td>\n",
       "      <td>None</td>\n",
       "      <td>Wolfpack Unleashed</td>\n",
       "      <td>4274581</td>\n",
       "      <td>Europe</td>\n",
       "      <td>Rock</td>\n",
       "      <td>Thrash</td>\n",
       "      <td>discogs</td>\n",
       "      <td>NaN</td>\n",
       "    </tr>\n",
       "    <tr>\n",
       "      <th>1</th>\n",
       "      <td>Religion Of Control (Radio Edit)</td>\n",
       "      <td>NaN</td>\n",
       "      <td>Anthems Of Resistance</td>\n",
       "      <td>None</td>\n",
       "      <td>2007</td>\n",
       "      <td>None</td>\n",
       "      <td>None</td>\n",
       "      <td>Wolfpack Unleashed</td>\n",
       "      <td>4274581</td>\n",
       "      <td>Europe</td>\n",
       "      <td>Rock</td>\n",
       "      <td>Thrash</td>\n",
       "      <td>discogs</td>\n",
       "      <td>NaN</td>\n",
       "    </tr>\n",
       "    <tr>\n",
       "      <th>2</th>\n",
       "      <td>Next Victim</td>\n",
       "      <td>NaN</td>\n",
       "      <td>Anthems Of Resistance</td>\n",
       "      <td>None</td>\n",
       "      <td>2007</td>\n",
       "      <td>None</td>\n",
       "      <td>None</td>\n",
       "      <td>Wolfpack Unleashed</td>\n",
       "      <td>4274581</td>\n",
       "      <td>Europe</td>\n",
       "      <td>Rock</td>\n",
       "      <td>Thrash</td>\n",
       "      <td>discogs</td>\n",
       "      <td>NaN</td>\n",
       "    </tr>\n",
       "    <tr>\n",
       "      <th>3</th>\n",
       "      <td>Killing Fields</td>\n",
       "      <td>NaN</td>\n",
       "      <td>Anthems Of Resistance</td>\n",
       "      <td>None</td>\n",
       "      <td>2007</td>\n",
       "      <td>None</td>\n",
       "      <td>None</td>\n",
       "      <td>Wolfpack Unleashed</td>\n",
       "      <td>4274581</td>\n",
       "      <td>Europe</td>\n",
       "      <td>Rock</td>\n",
       "      <td>Thrash</td>\n",
       "      <td>discogs</td>\n",
       "      <td>NaN</td>\n",
       "    </tr>\n",
       "    <tr>\n",
       "      <th>4</th>\n",
       "      <td>Disgrace Erased</td>\n",
       "      <td>NaN</td>\n",
       "      <td>Anthems Of Resistance</td>\n",
       "      <td>None</td>\n",
       "      <td>2007</td>\n",
       "      <td>None</td>\n",
       "      <td>None</td>\n",
       "      <td>Wolfpack Unleashed</td>\n",
       "      <td>4274581</td>\n",
       "      <td>Europe</td>\n",
       "      <td>Rock</td>\n",
       "      <td>Thrash</td>\n",
       "      <td>discogs</td>\n",
       "      <td>NaN</td>\n",
       "    </tr>\n",
       "  </tbody>\n",
       "</table>\n",
       "</div>"
      ],
      "text/plain": [
       "                              title  duration                  album  date  \\\n",
       "0        Last Dance Of A Dying King       NaN  Anthems Of Resistance  None   \n",
       "1  Religion Of Control (Radio Edit)       NaN  Anthems Of Resistance  None   \n",
       "2                       Next Victim       NaN  Anthems Of Resistance  None   \n",
       "3                    Killing Fields       NaN  Anthems Of Resistance  None   \n",
       "4                   Disgrace Erased       NaN  Anthems Of Resistance  None   \n",
       "\n",
       "   year month   day              artist       id country genre   style  \\\n",
       "0  2007  None  None  Wolfpack Unleashed  4274581  Europe  Rock  Thrash   \n",
       "1  2007  None  None  Wolfpack Unleashed  4274581  Europe  Rock  Thrash   \n",
       "2  2007  None  None  Wolfpack Unleashed  4274581  Europe  Rock  Thrash   \n",
       "3  2007  None  None  Wolfpack Unleashed  4274581  Europe  Rock  Thrash   \n",
       "4  2007  None  None  Wolfpack Unleashed  4274581  Europe  Rock  Thrash   \n",
       "\n",
       "    source lyrics  \n",
       "0  discogs    NaN  \n",
       "1  discogs    NaN  \n",
       "2  discogs    NaN  \n",
       "3  discogs    NaN  \n",
       "4  discogs    NaN  "
      ]
     },
     "execution_count": 9,
     "metadata": {},
     "output_type": "execute_result"
    }
   ],
   "source": [
    "concated.head()"
   ]
  },
  {
   "cell_type": "code",
   "execution_count": 10,
   "id": "05cc78b5",
   "metadata": {},
   "outputs": [],
   "source": [
    "df3 = pd.read_csv('/home/smacieje/data/concat_musicbrainz_lyrics.csv', low_memory=False)\n",
    "df4 = pd.read_csv('/home/smacieje/data/concat_musicbrainz_releases.csv', low_memory=False)"
   ]
  },
  {
   "cell_type": "code",
   "execution_count": 11,
   "id": "b4d1a70b",
   "metadata": {},
   "outputs": [
    {
     "data": {
      "text/plain": [
       "(2197845, 10)"
      ]
     },
     "execution_count": 11,
     "metadata": {},
     "output_type": "execute_result"
    }
   ],
   "source": [
    "concated2 = pd.concat([df3, df4], ignore_index=True)\n",
    "concated2.shape"
   ]
  },
  {
   "cell_type": "code",
   "execution_count": 12,
   "id": "fdaf1752",
   "metadata": {},
   "outputs": [],
   "source": [
    "concated2.drop(columns=['Unnamed: 0'], inplace=True)"
   ]
  },
  {
   "cell_type": "code",
   "execution_count": 13,
   "id": "45d845fd",
   "metadata": {},
   "outputs": [],
   "source": [
    "concated2.rename(columns={'MBID':'id', 'track_length_ms':'duration'}, inplace=True)"
   ]
  },
  {
   "cell_type": "code",
   "execution_count": 14,
   "id": "6511348e",
   "metadata": {},
   "outputs": [],
   "source": [
    "import re\n",
    "from datetime import datetime\n",
    "\n",
    "def extract_date_components(value):\n",
    "    \"\"\"Extract year, month, day from string representations of lists\"\"\"\n",
    "\n",
    "    if pd.isna(value) or value is None:\n",
    "        return None, None, None\n",
    "\n",
    "        try:\n",
    "            parsed = datetime.strptime(date_str[:10], '%Y-%m-%d')\n",
    "            return parsed.year, parsed.month, parsed.day\n",
    "        except ValueError:\n",
    "            return None, None, None\n",
    "    \n",
    "    return None, None, None"
   ]
  },
  {
   "cell_type": "code",
   "execution_count": null,
   "id": "88fef06a",
   "metadata": {},
   "outputs": [],
   "source": [
    "concated2[['year', 'month', 'day']] = concated2['date'].apply(lambda x: pd.Series(extract_date_components(x)))"
   ]
  },
  {
   "cell_type": "code",
   "execution_count": null,
   "id": "4201491d",
   "metadata": {},
   "outputs": [],
   "source": [
    "concated2['duration'] = (concated2['duration'] / 1000).round(2)"
   ]
  },
  {
   "cell_type": "code",
   "execution_count": null,
   "id": "b5910d9e",
   "metadata": {},
   "outputs": [],
   "source": [
    "# add 'month' and 'day' to discogs before merger"
   ]
  },
  {
   "cell_type": "code",
   "execution_count": null,
   "id": "4e9d804e",
   "metadata": {},
   "outputs": [],
   "source": [
    "#concated.drop_duplicates(subset=['id'], keep='first', inplace=True)\n",
    "#concated2.drop_duplicates(subset=['id'], keep='first', inplace=True)"
   ]
  }
 ],
 "metadata": {
  "kernelspec": {
   "display_name": "Python 3 (ipykernel)",
   "language": "python",
   "name": "python3"
  },
  "language_info": {
   "codemirror_mode": {
    "name": "ipython",
    "version": 3
   },
   "file_extension": ".py",
   "mimetype": "text/x-python",
   "name": "python",
   "nbconvert_exporter": "python",
   "pygments_lexer": "ipython3",
   "version": "3.9.7"
  }
 },
 "nbformat": 4,
 "nbformat_minor": 5
}
