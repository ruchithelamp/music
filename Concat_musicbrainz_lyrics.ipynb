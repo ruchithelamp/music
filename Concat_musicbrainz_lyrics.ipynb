{
 "cells": [
  {
   "cell_type": "code",
   "execution_count": 3,
   "id": "711225b2",
   "metadata": {},
   "outputs": [],
   "source": [
    "import pandas as pd\n",
    "\n",
    "df1 = pd.read_csv('/home/smacieje/data/musicbrainz_tracks_with_lyrics_2007.csv', low_memory=False)\n",
    "df2 = pd.read_csv('/home/smacieje/data/musicbrainz_tracks_with_lyrics_2008.csv', low_memory=False)\n",
    "df3 = pd.read_csv('/home/smacieje/data/musicbrainz_tracks_with_lyrics_2009.csv', low_memory=False)\n",
    "df4 = pd.read_csv('/home/smacieje/data/musicbrainz_tracks_with_lyrics_2020.csv', low_memory=False)\n",
    "df5 = pd.read_csv('/home/smacieje/data/musicbrainz_tracks_with_lyrics_2025.csv', on_bad_lines='skip', engine='python')"
   ]
  },
  {
   "cell_type": "code",
   "execution_count": 4,
   "id": "e3f4d227",
   "metadata": {},
   "outputs": [
    {
     "data": {
      "text/plain": [
       "(1644822, 10)"
      ]
     },
     "execution_count": 4,
     "metadata": {},
     "output_type": "execute_result"
    }
   ],
   "source": [
    "concated = pd.concat([df1, df2, df3, df4, df5], ignore_index=True)\n",
    "concated.shape"
   ]
  },
  {
   "cell_type": "code",
   "execution_count": 6,
   "id": "c3f8d34b",
   "metadata": {},
   "outputs": [],
   "source": [
    "concated = concated.rename(columns={'release_date':'date'})"
   ]
  },
  {
   "cell_type": "code",
   "execution_count": 7,
   "id": "1c417f2f",
   "metadata": {},
   "outputs": [],
   "source": [
    "concated.drop(columns=['Unnamed: 0', 'lyrics_found'], inplace=True)"
   ]
  },
  {
   "cell_type": "code",
   "execution_count": 8,
   "id": "279d4203",
   "metadata": {},
   "outputs": [],
   "source": [
    "concated.insert(6, \"country\", None)"
   ]
  },
  {
   "cell_type": "code",
   "execution_count": 9,
   "id": "698f3c30",
   "metadata": {},
   "outputs": [
    {
     "data": {
      "text/html": [
       "<div>\n",
       "<style scoped>\n",
       "    .dataframe tbody tr th:only-of-type {\n",
       "        vertical-align: middle;\n",
       "    }\n",
       "\n",
       "    .dataframe tbody tr th {\n",
       "        vertical-align: top;\n",
       "    }\n",
       "\n",
       "    .dataframe thead th {\n",
       "        text-align: right;\n",
       "    }\n",
       "</style>\n",
       "<table border=\"1\" class=\"dataframe\">\n",
       "  <thead>\n",
       "    <tr style=\"text-align: right;\">\n",
       "      <th></th>\n",
       "      <th>title</th>\n",
       "      <th>track_length_ms</th>\n",
       "      <th>album</th>\n",
       "      <th>date</th>\n",
       "      <th>artist</th>\n",
       "      <th>MBID</th>\n",
       "      <th>country</th>\n",
       "      <th>source</th>\n",
       "      <th>lyrics</th>\n",
       "    </tr>\n",
       "  </thead>\n",
       "  <tbody>\n",
       "    <tr>\n",
       "      <th>0</th>\n",
       "      <td>Gets Me Through</td>\n",
       "      <td>299560.0</td>\n",
       "      <td>Down to Earth</td>\n",
       "      <td>2007-06-20</td>\n",
       "      <td>Ozzy Osbourne</td>\n",
       "      <td>f1ebd447-325e-3a09-af16-98081409171f</td>\n",
       "      <td>None</td>\n",
       "      <td>musicbrainz</td>\n",
       "      <td>NaN</td>\n",
       "    </tr>\n",
       "    <tr>\n",
       "      <th>1</th>\n",
       "      <td>Facing Hell</td>\n",
       "      <td>266160.0</td>\n",
       "      <td>Down to Earth</td>\n",
       "      <td>2007-06-20</td>\n",
       "      <td>Ozzy Osbourne</td>\n",
       "      <td>03508bfb-4611-397c-b587-e8c4e0a57c39</td>\n",
       "      <td>None</td>\n",
       "      <td>musicbrainz</td>\n",
       "      <td>NaN</td>\n",
       "    </tr>\n",
       "    <tr>\n",
       "      <th>2</th>\n",
       "      <td>Dreamer</td>\n",
       "      <td>284933.0</td>\n",
       "      <td>Down to Earth</td>\n",
       "      <td>2007-06-20</td>\n",
       "      <td>Ozzy Osbourne</td>\n",
       "      <td>174dbd70-0a6a-3712-af48-0a39b99494ad</td>\n",
       "      <td>None</td>\n",
       "      <td>musicbrainz</td>\n",
       "      <td>NaN</td>\n",
       "    </tr>\n",
       "    <tr>\n",
       "      <th>3</th>\n",
       "      <td>No Easy Way Out</td>\n",
       "      <td>306093.0</td>\n",
       "      <td>Down to Earth</td>\n",
       "      <td>2007-06-20</td>\n",
       "      <td>Ozzy Osbourne</td>\n",
       "      <td>6525bea4-f6a4-3803-8141-fc1965937954</td>\n",
       "      <td>None</td>\n",
       "      <td>musicbrainz</td>\n",
       "      <td>NaN</td>\n",
       "    </tr>\n",
       "    <tr>\n",
       "      <th>4</th>\n",
       "      <td>That I Never Had</td>\n",
       "      <td>263146.0</td>\n",
       "      <td>Down to Earth</td>\n",
       "      <td>2007-06-20</td>\n",
       "      <td>Ozzy Osbourne</td>\n",
       "      <td>b6ffe8c7-02c1-3507-97d4-5bd09824d234</td>\n",
       "      <td>None</td>\n",
       "      <td>musicbrainz</td>\n",
       "      <td>NaN</td>\n",
       "    </tr>\n",
       "  </tbody>\n",
       "</table>\n",
       "</div>"
      ],
      "text/plain": [
       "              title  track_length_ms          album        date  \\\n",
       "0   Gets Me Through         299560.0  Down to Earth  2007-06-20   \n",
       "1       Facing Hell         266160.0  Down to Earth  2007-06-20   \n",
       "2           Dreamer         284933.0  Down to Earth  2007-06-20   \n",
       "3   No Easy Way Out         306093.0  Down to Earth  2007-06-20   \n",
       "4  That I Never Had         263146.0  Down to Earth  2007-06-20   \n",
       "\n",
       "          artist                                  MBID country       source  \\\n",
       "0  Ozzy Osbourne  f1ebd447-325e-3a09-af16-98081409171f    None  musicbrainz   \n",
       "1  Ozzy Osbourne  03508bfb-4611-397c-b587-e8c4e0a57c39    None  musicbrainz   \n",
       "2  Ozzy Osbourne  174dbd70-0a6a-3712-af48-0a39b99494ad    None  musicbrainz   \n",
       "3  Ozzy Osbourne  6525bea4-f6a4-3803-8141-fc1965937954    None  musicbrainz   \n",
       "4  Ozzy Osbourne  b6ffe8c7-02c1-3507-97d4-5bd09824d234    None  musicbrainz   \n",
       "\n",
       "  lyrics  \n",
       "0    NaN  \n",
       "1    NaN  \n",
       "2    NaN  \n",
       "3    NaN  \n",
       "4    NaN  "
      ]
     },
     "execution_count": 9,
     "metadata": {},
     "output_type": "execute_result"
    }
   ],
   "source": [
    "concated.head()"
   ]
  },
  {
   "cell_type": "code",
   "execution_count": 12,
   "id": "2c012d7c",
   "metadata": {},
   "outputs": [],
   "source": [
    "concated.to_csv('/home/smacieje/data/concat_musicbrainz_lyrics.csv')"
   ]
  }
 ],
 "metadata": {
  "kernelspec": {
   "display_name": "Python 3 (ipykernel)",
   "language": "python",
   "name": "python3"
  },
  "language_info": {
   "codemirror_mode": {
    "name": "ipython",
    "version": 3
   },
   "file_extension": ".py",
   "mimetype": "text/x-python",
   "name": "python",
   "nbconvert_exporter": "python",
   "pygments_lexer": "ipython3",
   "version": "3.9.7"
  }
 },
 "nbformat": 4,
 "nbformat_minor": 5
}
