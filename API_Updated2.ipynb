{
 "cells": [
  {
   "cell_type": "code",
   "execution_count": 11,
   "id": "8ebb1f3e-ac69-4b7d-80cd-e7a52ca442cd",
   "metadata": {},
   "outputs": [],
   "source": [
    "import lyricsgenius\n",
    "import pandas as pd\n",
    "import time\n",
    "import requests\n",
    "\n",
    "# API setup \n",
    "\n",
    "DISCOGS_TOKEN = \"xmWNqVMtvKoFllImiTkEbgIMpgmdVRVggXqrWJPQ\"\n",
    "GENIUS_API_TOKEN = \"r6vW9hyUck05RRuvBF4L1f5MjirVAeuHO0tauARd-aB1pt7xscCUVzMnFoFC2WTS\"\n",
    "\n",
    "# Genius setup \n",
    "genius = lyricsgenius.Genius(GENIUS_API_TOKEN)\n",
    "genius.verbose = False\n",
    "genius.remove_section_headers = True\n",
    "genius.skip_non_songs = True\n",
    "genius.retries = 3\n",
    "\n",
    "# Discogs song data\n",
    "\n",
    "def search_discogs_by_year(year, per_page=10, page=1):\n",
    "    url = \"https://api.discogs.com/database/search\"\n",
    "    params = {\n",
    "        \"year\": year,\n",
    "        \"type\": \"release\",\n",
    "        \"per_page\": per_page,\n",
    "        \"page\": page,\n",
    "        \"token\": DISCOGS_TOKEN\n",
    "    }\n",
    "    response = requests.get(url, params=params)\n",
    "    if response.status_code != 200:\n",
    "        print(f\"Discogs API error: {response.status_code}\")\n",
    "        return []\n",
    "    return response.json().get(\"results\", [])\n",
    "\n",
    "# Lyrics data\n",
    "\n",
    "def get_lyrics(title, artist):\n",
    "    try:\n",
    "        song = genius.search_song(title=title, artist=artist)\n",
    "        if song:\n",
    "            return song.lyrics\n",
    "    except Exception as e:\n",
    "        print(f\"Lyrics fetch failed: {title} by {artist} - {e}\")\n",
    "    return None\n",
    "\n",
    "# Put into df fomrat\n",
    "def build_dataset_from_discogs(year, max_releases=10):\n",
    "    print(f\"\\nSearching Discogs releases for {year}\")\n",
    "    results = search_discogs_by_year(year, per_page=max_releases)\n",
    "    songs = []\n",
    "\n",
    "    for release in results:\n",
    "        try:\n",
    "            title = release.get(\"title\", \"\")\n",
    "            split_title = title.split(\" - \", 1)\n",
    "            if len(split_title) < 2:\n",
    "                continue\n",
    "            artist, track_title = split_title\n",
    "            artist = artist.strip()\n",
    "            track_title = track_title.strip()\n",
    "\n",
    "            song_data = {\n",
    "                \"title\": track_title,\n",
    "                \"artist\": artist,\n",
    "                \"year\": year,\n",
    "                \"country\": release.get(\"country\"),\n",
    "                \"genres\": \";\".join(release.get(\"genre\", [])),\n",
    "                \"styles\": \";\".join(release.get(\"style\", []))\n",
    "            }\n",
    "\n",
    "            print(f\"Fetching lyrics: {track_title} by {artist}\")\n",
    "            lyrics = get_lyrics(track_title, artist)\n",
    "            if lyrics:\n",
    "                song_data[\"lyrics\"] = lyrics\n",
    "                songs.append(song_data)\n",
    "\n",
    "            time.sleep(1)\n",
    "        except Exception as e:\n",
    "            print(f\"Error processing release: {e}\")\n",
    "            continue\n",
    "\n",
    "    return pd.DataFrame(songs)"
   ]
  },
  {
   "cell_type": "code",
   "execution_count": null,
   "id": "43dabd81-145e-42a0-ad19-66ce65329eef",
   "metadata": {},
   "outputs": [],
   "source": []
  },
  {
   "cell_type": "code",
   "execution_count": 13,
   "id": "484d2694-274a-454e-ab32-666286dcc039",
   "metadata": {},
   "outputs": [
    {
     "name": "stdout",
     "output_type": "stream",
     "text": [
      "\n",
      "📅 Searching Discogs releases for 2008\n",
      "🎵 Fetching lyrics: Junglist (98 Remix) / Junglist (Original Dubplate) by Tribe Of Issachar\n",
      "🎵 Fetching lyrics: Cult Of Destruction by Perversor\n",
      "🎵 Fetching lyrics: Digital Shades [Vol. I] by M83\n",
      "🎵 Fetching lyrics: Settling Son (Demo) by Less Than Jake\n",
      "🎵 Fetching lyrics: 4th Bouquet by Various\n",
      "\n",
      "✅ Sample data:\n"
     ]
    },
    {
     "ename": "KeyError",
     "evalue": "\"None of [Index(['title', 'artist', 'year', 'country', 'genres', 'styles'], dtype='object')] are in the [columns]\"",
     "output_type": "error",
     "traceback": [
      "\u001b[1;31m---------------------------------------------------------------------------\u001b[0m",
      "\u001b[1;31mKeyError\u001b[0m                                  Traceback (most recent call last)",
      "Cell \u001b[1;32mIn[13], line 5\u001b[0m\n\u001b[0;32m      3\u001b[0m df \u001b[38;5;241m=\u001b[39m build_dataset_from_discogs(\u001b[38;5;241m2008\u001b[39m, max_releases\u001b[38;5;241m=\u001b[39m\u001b[38;5;241m5\u001b[39m)\n\u001b[0;32m      4\u001b[0m \u001b[38;5;28mprint\u001b[39m(\u001b[38;5;124m\"\u001b[39m\u001b[38;5;130;01m\\n\u001b[39;00m\u001b[38;5;124m✅ Sample data:\u001b[39m\u001b[38;5;124m\"\u001b[39m)\n\u001b[1;32m----> 5\u001b[0m \u001b[38;5;28mprint\u001b[39m(df[[\u001b[38;5;124m\"\u001b[39m\u001b[38;5;124mtitle\u001b[39m\u001b[38;5;124m\"\u001b[39m, \u001b[38;5;124m\"\u001b[39m\u001b[38;5;124martist\u001b[39m\u001b[38;5;124m\"\u001b[39m, \u001b[38;5;124m\"\u001b[39m\u001b[38;5;124myear\u001b[39m\u001b[38;5;124m\"\u001b[39m, \u001b[38;5;124m\"\u001b[39m\u001b[38;5;124mcountry\u001b[39m\u001b[38;5;124m\"\u001b[39m, \u001b[38;5;124m\"\u001b[39m\u001b[38;5;124mgenres\u001b[39m\u001b[38;5;124m\"\u001b[39m, \u001b[38;5;124m\"\u001b[39m\u001b[38;5;124mstyles\u001b[39m\u001b[38;5;124m\"\u001b[39m]]\u001b[38;5;241m.\u001b[39mhead())\n",
      "File \u001b[1;32m~\\anaconda3\\Lib\\site-packages\\pandas\\core\\frame.py:3767\u001b[0m, in \u001b[0;36mDataFrame.__getitem__\u001b[1;34m(self, key)\u001b[0m\n\u001b[0;32m   3765\u001b[0m     \u001b[38;5;28;01mif\u001b[39;00m is_iterator(key):\n\u001b[0;32m   3766\u001b[0m         key \u001b[38;5;241m=\u001b[39m \u001b[38;5;28mlist\u001b[39m(key)\n\u001b[1;32m-> 3767\u001b[0m     indexer \u001b[38;5;241m=\u001b[39m \u001b[38;5;28mself\u001b[39m\u001b[38;5;241m.\u001b[39mcolumns\u001b[38;5;241m.\u001b[39m_get_indexer_strict(key, \u001b[38;5;124m\"\u001b[39m\u001b[38;5;124mcolumns\u001b[39m\u001b[38;5;124m\"\u001b[39m)[\u001b[38;5;241m1\u001b[39m]\n\u001b[0;32m   3769\u001b[0m \u001b[38;5;66;03m# take() does not accept boolean indexers\u001b[39;00m\n\u001b[0;32m   3770\u001b[0m \u001b[38;5;28;01mif\u001b[39;00m \u001b[38;5;28mgetattr\u001b[39m(indexer, \u001b[38;5;124m\"\u001b[39m\u001b[38;5;124mdtype\u001b[39m\u001b[38;5;124m\"\u001b[39m, \u001b[38;5;28;01mNone\u001b[39;00m) \u001b[38;5;241m==\u001b[39m \u001b[38;5;28mbool\u001b[39m:\n",
      "File \u001b[1;32m~\\anaconda3\\Lib\\site-packages\\pandas\\core\\indexes\\base.py:5877\u001b[0m, in \u001b[0;36mIndex._get_indexer_strict\u001b[1;34m(self, key, axis_name)\u001b[0m\n\u001b[0;32m   5874\u001b[0m \u001b[38;5;28;01melse\u001b[39;00m:\n\u001b[0;32m   5875\u001b[0m     keyarr, indexer, new_indexer \u001b[38;5;241m=\u001b[39m \u001b[38;5;28mself\u001b[39m\u001b[38;5;241m.\u001b[39m_reindex_non_unique(keyarr)\n\u001b[1;32m-> 5877\u001b[0m \u001b[38;5;28mself\u001b[39m\u001b[38;5;241m.\u001b[39m_raise_if_missing(keyarr, indexer, axis_name)\n\u001b[0;32m   5879\u001b[0m keyarr \u001b[38;5;241m=\u001b[39m \u001b[38;5;28mself\u001b[39m\u001b[38;5;241m.\u001b[39mtake(indexer)\n\u001b[0;32m   5880\u001b[0m \u001b[38;5;28;01mif\u001b[39;00m \u001b[38;5;28misinstance\u001b[39m(key, Index):\n\u001b[0;32m   5881\u001b[0m     \u001b[38;5;66;03m# GH 42790 - Preserve name from an Index\u001b[39;00m\n",
      "File \u001b[1;32m~\\anaconda3\\Lib\\site-packages\\pandas\\core\\indexes\\base.py:5938\u001b[0m, in \u001b[0;36mIndex._raise_if_missing\u001b[1;34m(self, key, indexer, axis_name)\u001b[0m\n\u001b[0;32m   5936\u001b[0m     \u001b[38;5;28;01mif\u001b[39;00m use_interval_msg:\n\u001b[0;32m   5937\u001b[0m         key \u001b[38;5;241m=\u001b[39m \u001b[38;5;28mlist\u001b[39m(key)\n\u001b[1;32m-> 5938\u001b[0m     \u001b[38;5;28;01mraise\u001b[39;00m \u001b[38;5;167;01mKeyError\u001b[39;00m(\u001b[38;5;124mf\u001b[39m\u001b[38;5;124m\"\u001b[39m\u001b[38;5;124mNone of [\u001b[39m\u001b[38;5;132;01m{\u001b[39;00mkey\u001b[38;5;132;01m}\u001b[39;00m\u001b[38;5;124m] are in the [\u001b[39m\u001b[38;5;132;01m{\u001b[39;00maxis_name\u001b[38;5;132;01m}\u001b[39;00m\u001b[38;5;124m]\u001b[39m\u001b[38;5;124m\"\u001b[39m)\n\u001b[0;32m   5940\u001b[0m not_found \u001b[38;5;241m=\u001b[39m \u001b[38;5;28mlist\u001b[39m(ensure_index(key)[missing_mask\u001b[38;5;241m.\u001b[39mnonzero()[\u001b[38;5;241m0\u001b[39m]]\u001b[38;5;241m.\u001b[39munique())\n\u001b[0;32m   5941\u001b[0m \u001b[38;5;28;01mraise\u001b[39;00m \u001b[38;5;167;01mKeyError\u001b[39;00m(\u001b[38;5;124mf\u001b[39m\u001b[38;5;124m\"\u001b[39m\u001b[38;5;132;01m{\u001b[39;00mnot_found\u001b[38;5;132;01m}\u001b[39;00m\u001b[38;5;124m not in index\u001b[39m\u001b[38;5;124m\"\u001b[39m)\n",
      "\u001b[1;31mKeyError\u001b[0m: \"None of [Index(['title', 'artist', 'year', 'country', 'genres', 'styles'], dtype='object')] are in the [columns]\""
     ]
    }
   ],
   "source": [
    "# Testing\n",
    "\n",
    "df = build_dataset_from_discogs(2008, max_releases=5)\n",
    "print(\"\\nSample data:\")\n",
    "print(df.head())"
   ]
  },
  {
   "cell_type": "code",
   "execution_count": 15,
   "id": "c8ec2f07-25dd-4670-9315-d96ab550c3bd",
   "metadata": {},
   "outputs": [
    {
     "data": {
      "text/html": [
       "<div>\n",
       "<style scoped>\n",
       "    .dataframe tbody tr th:only-of-type {\n",
       "        vertical-align: middle;\n",
       "    }\n",
       "\n",
       "    .dataframe tbody tr th {\n",
       "        vertical-align: top;\n",
       "    }\n",
       "\n",
       "    .dataframe thead th {\n",
       "        text-align: right;\n",
       "    }\n",
       "</style>\n",
       "<table border=\"1\" class=\"dataframe\">\n",
       "  <thead>\n",
       "    <tr style=\"text-align: right;\">\n",
       "      <th></th>\n",
       "    </tr>\n",
       "  </thead>\n",
       "  <tbody>\n",
       "  </tbody>\n",
       "</table>\n",
       "</div>"
      ],
      "text/plain": [
       "Empty DataFrame\n",
       "Columns: []\n",
       "Index: []"
      ]
     },
     "execution_count": 15,
     "metadata": {},
     "output_type": "execute_result"
    }
   ],
   "source": [
    "df.head()"
   ]
  },
  {
   "cell_type": "code",
   "execution_count": null,
   "id": "5147f718-2e63-4412-80fc-3d197e9da421",
   "metadata": {},
   "outputs": [],
   "source": [
    "# Save to CSV ...eventually\n",
    "#df.to_csv(\"discogs_genius_2008.csv\", index=False)"
   ]
  }
 ],
 "metadata": {
  "kernelspec": {
   "display_name": "Python 3 (ipykernel)",
   "language": "python",
   "name": "python3"
  },
  "language_info": {
   "codemirror_mode": {
    "name": "ipython",
    "version": 3
   },
   "file_extension": ".py",
   "mimetype": "text/x-python",
   "name": "python",
   "nbconvert_exporter": "python",
   "pygments_lexer": "ipython3",
   "version": "3.11.5"
  }
 },
 "nbformat": 4,
 "nbformat_minor": 5
}
