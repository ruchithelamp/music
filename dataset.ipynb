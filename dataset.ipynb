{
 "cells": [
  {
   "cell_type": "code",
   "execution_count": null,
   "id": "0318871a",
   "metadata": {},
   "outputs": [],
   "source": []
  },
  {
   "cell_type": "code",
   "execution_count": 7,
   "id": "bb6e3690",
   "metadata": {},
   "outputs": [],
   "source": [
    "import os\n",
    "from dotenv import load_dotenv\n",
    "import musicbrainzngs\n"
   ]
  },
  {
   "cell_type": "code",
   "execution_count": null,
   "id": "4dcba719",
   "metadata": {},
   "outputs": [],
   "source": []
  },
  {
   "cell_type": "code",
   "execution_count": null,
   "id": "cfd49245",
   "metadata": {},
   "outputs": [],
   "source": []
  },
  {
   "cell_type": "code",
   "execution_count": null,
   "id": "30c91c84",
   "metadata": {},
   "outputs": [],
   "source": []
  },
  {
   "cell_type": "code",
   "execution_count": 8,
   "id": "150f2575",
   "metadata": {},
   "outputs": [
    {
     "name": "stdout",
     "output_type": "stream",
     "text": [
      "🎵 Title: Euphoria Euphoria\n",
      "🧑‍🎤 Artist: The Spacious Mind\n",
      "🔑 MBID: 6e248010-0457-4986-91d5-4f5460a6473b\n"
     ]
    }
   ],
   "source": [
    "\n",
    "# Set a user agent\n",
    "musicbrainzngs.set_useragent(\"music-trend-project\", \"0.1\", \"your_email@example.com\")\n",
    "\n",
    "# Search for a track\n",
    "result = musicbrainzngs.search_recordings(query=\"Euphoria\", limit=1)\n",
    "track = result['recording-list'][0]\n",
    "\n",
    "print(\"🎵 Title:\", track['title'])\n",
    "print(\"🧑‍🎤 Artist:\", track['artist-credit'][0]['name'])\n",
    "print(\"🔑 MBID:\", track['id'])\n"
   ]
  },
  {
   "cell_type": "code",
   "execution_count": null,
   "id": "306fbec6",
   "metadata": {},
   "outputs": [],
   "source": []
  },
  {
   "cell_type": "code",
   "execution_count": 9,
   "id": "5bc1d03c",
   "metadata": {},
   "outputs": [
    {
     "name": "stdout",
     "output_type": "stream",
     "text": [
      "❌ Could not fetch features for 6e248010-0457-4986-91d5-4f5460a6473b\n"
     ]
    }
   ],
   "source": [
    "import requests\n",
    "\n",
    "mbid = track['id']  # from previous step\n",
    "url = f\"https://acousticbrainz.org/api/v1/{mbid}/high-level\"\n",
    "\n",
    "response = requests.get(url)\n",
    "if response.status_code == 200:\n",
    "    data = response.json()\n",
    "    print(\"🎛️ Acoustic Features (high-level):\")\n",
    "    print(data[\"highlevel\"])\n",
    "else:\n",
    "    print(f\"❌ Could not fetch features for {mbid}\")\n"
   ]
  },
  {
   "cell_type": "code",
   "execution_count": null,
   "id": "75baf74d",
   "metadata": {},
   "outputs": [],
   "source": []
  },
  {
   "cell_type": "code",
   "execution_count": 10,
   "id": "82549dba",
   "metadata": {},
   "outputs": [
    {
     "name": "stdout",
     "output_type": "stream",
     "text": [
      "🎧 Playcount: 11778090\n",
      "🏷️ Tags: ['Diss', 'diss track', 'MySpotigramBot', 'Hip-Hop', '2024']\n"
     ]
    }
   ],
   "source": [
    "\n",
    "\n",
    "load_dotenv()\n",
    "\n",
    "lastfm_key = os.getenv(\"LAST_FM_API_KEY\")\n",
    "artist = \"Kendrick Lamar\"\n",
    "track_name = \"Euphoria\"\n",
    "\n",
    "url = f\"http://ws.audioscrobbler.com/2.0/?method=track.getInfo&artist={artist}&track={track_name}&api_key={lastfm_key}&format=json\"\n",
    "response = requests.get(url)\n",
    "if response.status_code == 200:\n",
    "    info = response.json()\n",
    "    print(\"🎧 Playcount:\", info['track']['playcount'])\n",
    "    print(\"🏷️ Tags:\", [tag['name'] for tag in info['track']['toptags']['tag']])\n",
    "else:\n",
    "    print(\"❌ Last.fm request failed\")\n"
   ]
  },
  {
   "cell_type": "code",
   "execution_count": null,
   "id": "1e1eedb1",
   "metadata": {},
   "outputs": [],
   "source": []
  },
  {
   "cell_type": "code",
   "execution_count": 16,
   "id": "d08d7f37",
   "metadata": {
    "scrolled": true
   },
   "outputs": [
    {
     "name": "stdout",
     "output_type": "stream",
     "text": [
      "Searching for \"Euphoria\" by BTS...\n"
     ]
    },
    {
     "ename": "HTTPError",
     "evalue": "[Errno 401] 401 Client Error: Unauthorized for url: https://api.genius.com/songs/3629701?text_format=plain\nThe access token provided is expired, revoked, malformed or invalid for other reasons.",
     "output_type": "error",
     "traceback": [
      "\u001b[0;31m---------------------------------------------------------------------------\u001b[0m",
      "\u001b[0;31mHTTPError\u001b[0m                                 Traceback (most recent call last)",
      "File \u001b[0;32m~/anaconda3/lib/python3.11/site-packages/lyricsgenius/api/base.py:86\u001b[0m, in \u001b[0;36mSender._make_request\u001b[0;34m(self, path, method, params_, public_api, web, **kwargs)\u001b[0m\n\u001b[1;32m     81\u001b[0m     response \u001b[38;5;241m=\u001b[39m \u001b[38;5;28mself\u001b[39m\u001b[38;5;241m.\u001b[39m_session\u001b[38;5;241m.\u001b[39mrequest(method, uri,\n\u001b[1;32m     82\u001b[0m                                      timeout\u001b[38;5;241m=\u001b[39m\u001b[38;5;28mself\u001b[39m\u001b[38;5;241m.\u001b[39mtimeout,\n\u001b[1;32m     83\u001b[0m                                      params\u001b[38;5;241m=\u001b[39mparams_,\n\u001b[1;32m     84\u001b[0m                                      headers\u001b[38;5;241m=\u001b[39mheader,\n\u001b[1;32m     85\u001b[0m                                      \u001b[38;5;241m*\u001b[39m\u001b[38;5;241m*\u001b[39mkwargs)\n\u001b[0;32m---> 86\u001b[0m     response\u001b[38;5;241m.\u001b[39mraise_for_status()\n\u001b[1;32m     87\u001b[0m \u001b[38;5;28;01mexcept\u001b[39;00m Timeout \u001b[38;5;28;01mas\u001b[39;00m e:\n",
      "File \u001b[0;32m~/anaconda3/lib/python3.11/site-packages/requests/models.py:1021\u001b[0m, in \u001b[0;36mResponse.raise_for_status\u001b[0;34m(self)\u001b[0m\n\u001b[1;32m   1020\u001b[0m \u001b[38;5;28;01mif\u001b[39;00m http_error_msg:\n\u001b[0;32m-> 1021\u001b[0m     \u001b[38;5;28;01mraise\u001b[39;00m HTTPError(http_error_msg, response\u001b[38;5;241m=\u001b[39m\u001b[38;5;28mself\u001b[39m)\n",
      "\u001b[0;31mHTTPError\u001b[0m: 401 Client Error: Unauthorized for url: https://api.genius.com/songs/3629701?text_format=plain",
      "\nThe above exception was the direct cause of the following exception:\n",
      "\u001b[0;31mHTTPError\u001b[0m                                 Traceback (most recent call last)",
      "Cell \u001b[0;32mIn[16], line 6\u001b[0m\n\u001b[1;32m      3\u001b[0m genius_token \u001b[38;5;241m=\u001b[39m os\u001b[38;5;241m.\u001b[39mgetenv(\u001b[38;5;124m\"\u001b[39m\u001b[38;5;124mGENIUS_SECRET\u001b[39m\u001b[38;5;124m\"\u001b[39m)\n\u001b[1;32m      4\u001b[0m genius \u001b[38;5;241m=\u001b[39m lyricsgenius\u001b[38;5;241m.\u001b[39mGenius(genius_token)\n\u001b[0;32m----> 6\u001b[0m song \u001b[38;5;241m=\u001b[39m genius\u001b[38;5;241m.\u001b[39msearch_song(\u001b[38;5;124m\"\u001b[39m\u001b[38;5;124mEuphoria\u001b[39m\u001b[38;5;124m\"\u001b[39m, \u001b[38;5;124m\"\u001b[39m\u001b[38;5;124mBTS\u001b[39m\u001b[38;5;124m\"\u001b[39m)\n\u001b[1;32m      7\u001b[0m \u001b[38;5;28mprint\u001b[39m(song\u001b[38;5;241m.\u001b[39mlyrics[:\u001b[38;5;241m500\u001b[39m])\n",
      "File \u001b[0;32m~/anaconda3/lib/python3.11/site-packages/lyricsgenius/genius.py:435\u001b[0m, in \u001b[0;36mGenius.search_song\u001b[0;34m(self, title, artist, song_id, get_full_info)\u001b[0m\n\u001b[1;32m    433\u001b[0m \u001b[38;5;66;03m# Download full song info (an API call) unless told not to by user\u001b[39;00m\n\u001b[1;32m    434\u001b[0m \u001b[38;5;28;01mif\u001b[39;00m song_id \u001b[38;5;129;01mis\u001b[39;00m \u001b[38;5;28;01mNone\u001b[39;00m \u001b[38;5;129;01mand\u001b[39;00m get_full_info:\n\u001b[0;32m--> 435\u001b[0m     song_info\u001b[38;5;241m.\u001b[39mupdate(\u001b[38;5;28mself\u001b[39m\u001b[38;5;241m.\u001b[39msong(song_info[\u001b[38;5;124m'\u001b[39m\u001b[38;5;124mid\u001b[39m\u001b[38;5;124m'\u001b[39m])[\u001b[38;5;124m'\u001b[39m\u001b[38;5;124msong\u001b[39m\u001b[38;5;124m'\u001b[39m])\n\u001b[1;32m    437\u001b[0m \u001b[38;5;28;01mif\u001b[39;00m (song_info[\u001b[38;5;124m'\u001b[39m\u001b[38;5;124mlyrics_state\u001b[39m\u001b[38;5;124m'\u001b[39m] \u001b[38;5;241m==\u001b[39m \u001b[38;5;124m'\u001b[39m\u001b[38;5;124mcomplete\u001b[39m\u001b[38;5;124m'\u001b[39m\n\u001b[1;32m    438\u001b[0m         \u001b[38;5;129;01mand\u001b[39;00m \u001b[38;5;129;01mnot\u001b[39;00m song_info\u001b[38;5;241m.\u001b[39mget(\u001b[38;5;124m'\u001b[39m\u001b[38;5;124minstrumental\u001b[39m\u001b[38;5;124m'\u001b[39m)):\n\u001b[1;32m    439\u001b[0m     lyrics \u001b[38;5;241m=\u001b[39m \u001b[38;5;28mself\u001b[39m\u001b[38;5;241m.\u001b[39mlyrics(song_url\u001b[38;5;241m=\u001b[39msong_info[\u001b[38;5;124m'\u001b[39m\u001b[38;5;124murl\u001b[39m\u001b[38;5;124m'\u001b[39m])\n",
      "File \u001b[0;32m~/anaconda3/lib/python3.11/site-packages/lyricsgenius/api/api.py:443\u001b[0m, in \u001b[0;36mAPI.song\u001b[0;34m(self, song_id, text_format)\u001b[0m\n\u001b[1;32m    441\u001b[0m endpoint \u001b[38;5;241m=\u001b[39m \u001b[38;5;124m\"\u001b[39m\u001b[38;5;124msongs/\u001b[39m\u001b[38;5;132;01m{id}\u001b[39;00m\u001b[38;5;124m\"\u001b[39m\u001b[38;5;241m.\u001b[39mformat(\u001b[38;5;28mid\u001b[39m\u001b[38;5;241m=\u001b[39msong_id)\n\u001b[1;32m    442\u001b[0m params \u001b[38;5;241m=\u001b[39m {\u001b[38;5;124m'\u001b[39m\u001b[38;5;124mtext_format\u001b[39m\u001b[38;5;124m'\u001b[39m: text_format \u001b[38;5;129;01mor\u001b[39;00m \u001b[38;5;28mself\u001b[39m\u001b[38;5;241m.\u001b[39mresponse_format}\n\u001b[0;32m--> 443\u001b[0m \u001b[38;5;28;01mreturn\u001b[39;00m \u001b[38;5;28mself\u001b[39m\u001b[38;5;241m.\u001b[39m_make_request(endpoint, params_\u001b[38;5;241m=\u001b[39mparams)\n",
      "File \u001b[0;32m~/anaconda3/lib/python3.11/site-packages/lyricsgenius/api/base.py:94\u001b[0m, in \u001b[0;36mSender._make_request\u001b[0;34m(self, path, method, params_, public_api, web, **kwargs)\u001b[0m\n\u001b[1;32m     92\u001b[0m     error \u001b[38;5;241m=\u001b[39m get_description(e)\n\u001b[1;32m     93\u001b[0m     \u001b[38;5;28;01mif\u001b[39;00m response\u001b[38;5;241m.\u001b[39mstatus_code \u001b[38;5;241m<\u001b[39m \u001b[38;5;241m500\u001b[39m \u001b[38;5;129;01mor\u001b[39;00m tries \u001b[38;5;241m>\u001b[39m \u001b[38;5;28mself\u001b[39m\u001b[38;5;241m.\u001b[39mretries:\n\u001b[0;32m---> 94\u001b[0m         \u001b[38;5;28;01mraise\u001b[39;00m HTTPError(response\u001b[38;5;241m.\u001b[39mstatus_code, error) \u001b[38;5;28;01mfrom\u001b[39;00m \u001b[38;5;21;01me\u001b[39;00m\n\u001b[1;32m     96\u001b[0m \u001b[38;5;66;03m# Enforce rate limiting\u001b[39;00m\n\u001b[1;32m     97\u001b[0m time\u001b[38;5;241m.\u001b[39msleep(\u001b[38;5;28mself\u001b[39m\u001b[38;5;241m.\u001b[39msleep_time)\n",
      "\u001b[0;31mHTTPError\u001b[0m: [Errno 401] 401 Client Error: Unauthorized for url: https://api.genius.com/songs/3629701?text_format=plain\nThe access token provided is expired, revoked, malformed or invalid for other reasons."
     ]
    }
   ],
   "source": [
    "import lyricsgenius\n",
    "load_dotenv()\n",
    "genius_token = os.getenv(\"GENIUS_SECRET\")\n",
    "genius = lyricsgenius.Genius(genius_token)\n",
    "\n",
    "song = genius.search_song(\"Euphoria\", \"BTS\")\n",
    "print(song.lyrics[:500])  # show first 500 chars\n"
   ]
  },
  {
   "cell_type": "code",
   "execution_count": null,
   "id": "c6842968",
   "metadata": {},
   "outputs": [],
   "source": []
  },
  {
   "cell_type": "code",
   "execution_count": null,
   "id": "8022607e",
   "metadata": {},
   "outputs": [],
   "source": []
  },
  {
   "cell_type": "code",
   "execution_count": null,
   "id": "21805b12",
   "metadata": {},
   "outputs": [],
   "source": []
  },
  {
   "cell_type": "code",
   "execution_count": null,
   "id": "3629365e",
   "metadata": {},
   "outputs": [],
   "source": []
  },
  {
   "cell_type": "code",
   "execution_count": null,
   "id": "1f4252a3",
   "metadata": {},
   "outputs": [],
   "source": []
  },
  {
   "cell_type": "code",
   "execution_count": null,
   "id": "aa45fc40",
   "metadata": {},
   "outputs": [],
   "source": []
  },
  {
   "cell_type": "code",
   "execution_count": null,
   "id": "e0a95de2",
   "metadata": {},
   "outputs": [],
   "source": []
  },
  {
   "cell_type": "code",
   "execution_count": null,
   "id": "788f1430",
   "metadata": {},
   "outputs": [],
   "source": []
  },
  {
   "cell_type": "code",
   "execution_count": null,
   "id": "76624180",
   "metadata": {},
   "outputs": [],
   "source": []
  },
  {
   "cell_type": "code",
   "execution_count": null,
   "id": "35e31645",
   "metadata": {},
   "outputs": [],
   "source": []
  },
  {
   "cell_type": "code",
   "execution_count": null,
   "id": "fd78d698",
   "metadata": {},
   "outputs": [],
   "source": []
  },
  {
   "cell_type": "code",
   "execution_count": null,
   "id": "061c1488",
   "metadata": {},
   "outputs": [],
   "source": []
  },
  {
   "cell_type": "code",
   "execution_count": null,
   "id": "f41dcfcd",
   "metadata": {},
   "outputs": [],
   "source": []
  }
 ],
 "metadata": {
  "kernelspec": {
   "display_name": "Python 3 (ipykernel)",
   "language": "python",
   "name": "python3"
  },
  "language_info": {
   "codemirror_mode": {
    "name": "ipython",
    "version": 3
   },
   "file_extension": ".py",
   "mimetype": "text/x-python",
   "name": "python",
   "nbconvert_exporter": "python",
   "pygments_lexer": "ipython3",
   "version": "3.11.5"
  }
 },
 "nbformat": 4,
 "nbformat_minor": 5
}
