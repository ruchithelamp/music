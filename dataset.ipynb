{
 "cells": [
  {
   "cell_type": "code",
   "execution_count": null,
   "id": "c0b4b7a6",
   "metadata": {},
   "outputs": [],
   "source": []
  },
  {
   "cell_type": "code",
   "execution_count": 7,
   "id": "c9682b8f",
   "metadata": {},
   "outputs": [],
   "source": [
    "import os\n",
    "from dotenv import load_dotenv\n",
    "import musicbrainzngs\n"
   ]
  },
  {
   "cell_type": "code",
   "execution_count": null,
   "id": "9dfbf98c",
   "metadata": {},
   "outputs": [],
   "source": []
  },
  {
   "cell_type": "code",
   "execution_count": null,
   "id": "1be6738d",
   "metadata": {},
   "outputs": [],
   "source": []
  },
  {
   "cell_type": "code",
   "execution_count": null,
   "id": "30c91c84",
   "metadata": {},
   "outputs": [],
   "source": []
  },
  {
   "cell_type": "code",
   "execution_count": 8,
   "id": "150f2575",
   "metadata": {},
   "outputs": [
    {
     "name": "stdout",
     "output_type": "stream",
     "text": [
      "🎵 Title: Euphoria Euphoria\n",
      "🧑‍🎤 Artist: The Spacious Mind\n",
      "🔑 MBID: 6e248010-0457-4986-91d5-4f5460a6473b\n"
     ]
    }
   ],
   "source": [
    "\n",
    "# Set a user agent\n",
    "musicbrainzngs.set_useragent(\"music-trend-project\", \"0.1\", \"your_email@example.com\")\n",
    "\n",
    "# Search for a track\n",
    "result = musicbrainzngs.search_recordings(query=\"Euphoria\", limit=1)\n",
    "track = result['recording-list'][0]\n",
    "\n",
    "print(\"🎵 Title:\", track['title'])\n",
    "print(\"🧑‍🎤 Artist:\", track['artist-credit'][0]['name'])\n",
    "print(\"🔑 MBID:\", track['id'])\n"
   ]
  },
  {
   "cell_type": "code",
   "execution_count": null,
   "id": "306fbec6",
   "metadata": {},
   "outputs": [],
   "source": []
  },
  {
   "cell_type": "code",
   "execution_count": 9,
   "id": "5bc1d03c",
   "metadata": {},
   "outputs": [
    {
     "name": "stdout",
     "output_type": "stream",
     "text": [
      "❌ Could not fetch features for 6e248010-0457-4986-91d5-4f5460a6473b\n"
     ]
    }
   ],
   "source": [
    "import requests\n",
    "\n",
    "mbid = track['id']  # from previous step\n",
    "url = f\"https://acousticbrainz.org/api/v1/{mbid}/high-level\"\n",
    "\n",
    "response = requests.get(url)\n",
    "if response.status_code == 200:\n",
    "    data = response.json()\n",
    "    print(\"🎛️ Acoustic Features (high-level):\")\n",
    "    print(data[\"highlevel\"])\n",
    "else:\n",
    "    print(f\"❌ Could not fetch features for {mbid}\")\n"
   ]
  },
  {
   "cell_type": "code",
   "execution_count": null,
   "id": "75baf74d",
   "metadata": {},
   "outputs": [],
   "source": []
  },
  {
   "cell_type": "code",
   "execution_count": 10,
   "id": "82549dba",
   "metadata": {},
   "outputs": [
    {
     "name": "stdout",
     "output_type": "stream",
     "text": [
      "🎧 Playcount: 11778090\n",
      "🏷️ Tags: ['Diss', 'diss track', 'MySpotigramBot', 'Hip-Hop', '2024']\n"
     ]
    }
   ],
   "source": [
    "\n",
    "\n",
    "load_dotenv()\n",
    "\n",
    "lastfm_key = os.getenv(\"LAST_FM_API_KEY\")\n",
    "artist = \"Kendrick Lamar\"\n",
    "track_name = \"Euphoria\"\n",
    "\n",
    "url = f\"http://ws.audioscrobbler.com/2.0/?method=track.getInfo&artist={artist}&track={track_name}&api_key={lastfm_key}&format=json\"\n",
    "response = requests.get(url)\n",
    "if response.status_code == 200:\n",
    "    info = response.json()\n",
    "    print(\"🎧 Playcount:\", info['track']['playcount'])\n",
    "    print(\"🏷️ Tags:\", [tag['name'] for tag in info['track']['toptags']['tag']])\n",
    "else:\n",
    "    print(\"❌ Last.fm request failed\")\n"
   ]
  },
  {
   "cell_type": "code",
   "execution_count": null,
   "id": "1e1eedb1",
   "metadata": {},
   "outputs": [],
   "source": []
  },
  {
   "cell_type": "code",
   "execution_count": 18,
   "id": "d08d7f37",
   "metadata": {
    "scrolled": true
   },
   "outputs": [
    {
     "name": "stdout",
     "output_type": "stream",
     "text": [
      "Searching for \"Womanizer\" by britney spears...\n",
      "Done.\n",
      "67 ContributorsTranslations한국어日本語Womanizer Lyrics[Verse 1]\n",
      "Superstar, where you from? How's it goin'?\n",
      "I know you got a clue what you're doin'\n",
      "You can play brand new to all the other chicks out here\n",
      "But I know what you are, what you are, baby\n",
      "Look at you, gettin' more than just a re-up\n",
      "Baby, you got all the puppets with their strings up\n",
      "Fakin' like a good one, but I call 'em like I see 'em\n",
      "I know what you are, what you are, baby\n",
      "\n",
      "[Pre-Chorus]\n",
      "Womanizer, woman-womanizer, you're a womanizer\n",
      "Oh, wom\n"
     ]
    }
   ],
   "source": [
    "import lyricsgenius\n",
    "load_dotenv()\n",
    "genius_token = os.getenv(\"GENIUS_API_TOKEN\")\n",
    "genius = lyricsgenius.Genius(genius_token)\n",
    "\n",
    "song = genius.search_song(\"Womanizer\", \"britney spears\")\n",
    "print(song.lyrics[:500])  # show first 500 chars\n"
   ]
  },
  {
   "cell_type": "code",
   "execution_count": null,
   "id": "c6842968",
   "metadata": {},
   "outputs": [],
   "source": []
  },
  {
   "cell_type": "code",
   "execution_count": null,
   "id": "8022607e",
   "metadata": {},
   "outputs": [],
   "source": []
  },
  {
   "cell_type": "code",
   "execution_count": null,
   "id": "21805b12",
   "metadata": {},
   "outputs": [],
   "source": []
  },
  {
   "cell_type": "code",
   "execution_count": null,
   "id": "3629365e",
   "metadata": {},
   "outputs": [],
   "source": []
  },
  {
   "cell_type": "code",
   "execution_count": null,
   "id": "1f4252a3",
   "metadata": {},
   "outputs": [],
   "source": []
  },
  {
   "cell_type": "code",
   "execution_count": null,
   "id": "aa45fc40",
   "metadata": {},
   "outputs": [],
   "source": []
  },
  {
   "cell_type": "code",
   "execution_count": null,
   "id": "e0a95de2",
   "metadata": {},
   "outputs": [],
   "source": []
  },
  {
   "cell_type": "code",
   "execution_count": null,
   "id": "788f1430",
   "metadata": {},
   "outputs": [],
   "source": []
  },
  {
   "cell_type": "code",
   "execution_count": null,
   "id": "76624180",
   "metadata": {},
   "outputs": [],
   "source": []
  },
  {
   "cell_type": "code",
   "execution_count": null,
   "id": "35e31645",
   "metadata": {},
   "outputs": [],
   "source": []
  },
  {
   "cell_type": "code",
   "execution_count": null,
   "id": "fd78d698",
   "metadata": {},
   "outputs": [],
   "source": []
  },
  {
   "cell_type": "code",
   "execution_count": null,
   "id": "061c1488",
   "metadata": {},
   "outputs": [],
   "source": []
  },
  {
   "cell_type": "code",
   "execution_count": null,
   "id": "f41dcfcd",
   "metadata": {},
   "outputs": [],
   "source": []
  }
 ],
 "metadata": {
  "kernelspec": {
   "display_name": "Python 3 (ipykernel)",
   "language": "python",
   "name": "python3"
  },
  "language_info": {
   "codemirror_mode": {
    "name": "ipython",
    "version": 3
   },
   "file_extension": ".py",
   "mimetype": "text/x-python",
   "name": "python",
   "nbconvert_exporter": "python",
   "pygments_lexer": "ipython3",
   "version": "3.11.5"
  }
 },
 "nbformat": 4,
 "nbformat_minor": 5
}
