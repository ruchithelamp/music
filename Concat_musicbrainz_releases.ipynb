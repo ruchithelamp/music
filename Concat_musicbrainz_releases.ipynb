{
 "cells": [
  {
   "cell_type": "code",
   "execution_count": 1,
   "id": "1a9974db",
   "metadata": {},
   "outputs": [
    {
     "name": "stderr",
     "output_type": "stream",
     "text": [
      "/home/smacieje/.local/lib/python3.9/site-packages/pandas/core/computation/expressions.py:21: UserWarning: Pandas requires version '2.8.4' or newer of 'numexpr' (version '2.7.3' currently installed).\n",
      "  from pandas.core.computation.check import NUMEXPR_INSTALLED\n",
      "/home/smacieje/.local/lib/python3.9/site-packages/pandas/core/arrays/masked.py:61: UserWarning: Pandas requires version '1.3.6' or newer of 'bottleneck' (version '1.3.2' currently installed).\n",
      "  from pandas.core import (\n"
     ]
    }
   ],
   "source": [
    "import pandas as pd\n",
    "\n",
    "df1 = pd.read_csv('/home/smacieje/data/musicbrainz_2007_releases.csv', low_memory=False)\n",
    "df2 = pd.read_csv('/home/smacieje/data/musicbrainz_2008_releases.csv', low_memory=False)\n",
    "df3 = pd.read_csv('/home/smacieje/data/musicbrainz_2009_releases.csv', low_memory=False)\n",
    "df4 = pd.read_csv('/home/smacieje/data/musicbrainz_2020_releases.csv', low_memory=False)\n",
    "df5 = pd.read_csv('/home/smacieje/data/musicbrainz_2025_releases.csv', low_memory=False)"
   ]
  },
  {
   "cell_type": "code",
   "execution_count": 2,
   "id": "0a589556",
   "metadata": {},
   "outputs": [
    {
     "data": {
      "text/plain": [
       "(553023, 14)"
      ]
     },
     "execution_count": 2,
     "metadata": {},
     "output_type": "execute_result"
    }
   ],
   "source": [
    "concated = pd.concat([df1, df2, df3, df4, df5], ignore_index=True)\n",
    "concated.shape"
   ]
  },
  {
   "cell_type": "code",
   "execution_count": 3,
   "id": "17f57278",
   "metadata": {},
   "outputs": [],
   "source": [
    "concated.drop(columns=['primary_type', 'secondary_types', 'format', 'label', \n",
    "                       'catalog_number', 'barcode', 'asin', 'track_count'], inplace=True)"
   ]
  },
  {
   "cell_type": "code",
   "execution_count": 4,
   "id": "9e0184f3",
   "metadata": {},
   "outputs": [],
   "source": [
    "concated = concated.rename(columns={'release_id':'MBID', 'title': 'album'})"
   ]
  },
  {
   "cell_type": "code",
   "execution_count": 5,
   "id": "5f9aa3f6",
   "metadata": {},
   "outputs": [
    {
     "data": {
      "text/html": [
       "<div>\n",
       "<style scoped>\n",
       "    .dataframe tbody tr th:only-of-type {\n",
       "        vertical-align: middle;\n",
       "    }\n",
       "\n",
       "    .dataframe tbody tr th {\n",
       "        vertical-align: top;\n",
       "    }\n",
       "\n",
       "    .dataframe thead th {\n",
       "        text-align: right;\n",
       "    }\n",
       "</style>\n",
       "<table border=\"1\" class=\"dataframe\">\n",
       "  <thead>\n",
       "    <tr style=\"text-align: right;\">\n",
       "      <th></th>\n",
       "      <th>MBID</th>\n",
       "      <th>album</th>\n",
       "      <th>artist</th>\n",
       "      <th>date</th>\n",
       "      <th>country</th>\n",
       "      <th>source</th>\n",
       "    </tr>\n",
       "  </thead>\n",
       "  <tbody>\n",
       "    <tr>\n",
       "      <th>0</th>\n",
       "      <td>8aedddf8-7803-45d6-b210-c79803ebb98b</td>\n",
       "      <td>What's the Time Mr. Wolf?</td>\n",
       "      <td>Noisettes</td>\n",
       "      <td>2007-02-05</td>\n",
       "      <td>GB</td>\n",
       "      <td>musicbrainz</td>\n",
       "    </tr>\n",
       "    <tr>\n",
       "      <th>1</th>\n",
       "      <td>42d9cd2f-bdfa-34c7-93de-bb0a3e63dc37</td>\n",
       "      <td>The Confessions Tour</td>\n",
       "      <td>Madonna</td>\n",
       "      <td>2007-01-29</td>\n",
       "      <td>GB</td>\n",
       "      <td>musicbrainz</td>\n",
       "    </tr>\n",
       "    <tr>\n",
       "      <th>2</th>\n",
       "      <td>1799dc5b-048f-4b88-a6c1-629fe5cd0bf2</td>\n",
       "      <td>Year of Desolation</td>\n",
       "      <td>Year of Desolation</td>\n",
       "      <td>2007-01-23</td>\n",
       "      <td>US</td>\n",
       "      <td>musicbrainz</td>\n",
       "    </tr>\n",
       "    <tr>\n",
       "      <th>3</th>\n",
       "      <td>ba484aba-68ca-4d42-b3dd-9b4df89fc384</td>\n",
       "      <td>Workmanship</td>\n",
       "      <td>Joy Electric</td>\n",
       "      <td>2007-01-10</td>\n",
       "      <td>US</td>\n",
       "      <td>musicbrainz</td>\n",
       "    </tr>\n",
       "    <tr>\n",
       "      <th>4</th>\n",
       "      <td>6e976599-8ab6-4f2b-b41c-fe255ba80815</td>\n",
       "      <td>Beste Welt</td>\n",
       "      <td>Pascal Finkenauer</td>\n",
       "      <td>2007-01-19</td>\n",
       "      <td>DE</td>\n",
       "      <td>musicbrainz</td>\n",
       "    </tr>\n",
       "  </tbody>\n",
       "</table>\n",
       "</div>"
      ],
      "text/plain": [
       "                                   MBID                      album  \\\n",
       "0  8aedddf8-7803-45d6-b210-c79803ebb98b  What's the Time Mr. Wolf?   \n",
       "1  42d9cd2f-bdfa-34c7-93de-bb0a3e63dc37       The Confessions Tour   \n",
       "2  1799dc5b-048f-4b88-a6c1-629fe5cd0bf2         Year of Desolation   \n",
       "3  ba484aba-68ca-4d42-b3dd-9b4df89fc384                Workmanship   \n",
       "4  6e976599-8ab6-4f2b-b41c-fe255ba80815                 Beste Welt   \n",
       "\n",
       "               artist        date country       source  \n",
       "0           Noisettes  2007-02-05      GB  musicbrainz  \n",
       "1             Madonna  2007-01-29      GB  musicbrainz  \n",
       "2  Year of Desolation  2007-01-23      US  musicbrainz  \n",
       "3        Joy Electric  2007-01-10      US  musicbrainz  \n",
       "4   Pascal Finkenauer  2007-01-19      DE  musicbrainz  "
      ]
     },
     "execution_count": 5,
     "metadata": {},
     "output_type": "execute_result"
    }
   ],
   "source": [
    "concated.head()"
   ]
  },
  {
   "cell_type": "code",
   "execution_count": 6,
   "id": "158daec0",
   "metadata": {},
   "outputs": [],
   "source": [
    "concated.insert(0, \"title\", None)\n",
    "concated.insert(1, \"track_length_ms\", None)\n",
    "concated.insert(7, \"lyrics\", None)"
   ]
  },
  {
   "cell_type": "code",
   "execution_count": 7,
   "id": "96dc2224",
   "metadata": {},
   "outputs": [
    {
     "data": {
      "text/html": [
       "<div>\n",
       "<style scoped>\n",
       "    .dataframe tbody tr th:only-of-type {\n",
       "        vertical-align: middle;\n",
       "    }\n",
       "\n",
       "    .dataframe tbody tr th {\n",
       "        vertical-align: top;\n",
       "    }\n",
       "\n",
       "    .dataframe thead th {\n",
       "        text-align: right;\n",
       "    }\n",
       "</style>\n",
       "<table border=\"1\" class=\"dataframe\">\n",
       "  <thead>\n",
       "    <tr style=\"text-align: right;\">\n",
       "      <th></th>\n",
       "      <th>title</th>\n",
       "      <th>track_length_ms</th>\n",
       "      <th>MBID</th>\n",
       "      <th>album</th>\n",
       "      <th>artist</th>\n",
       "      <th>date</th>\n",
       "      <th>country</th>\n",
       "      <th>lyrics</th>\n",
       "      <th>source</th>\n",
       "    </tr>\n",
       "  </thead>\n",
       "  <tbody>\n",
       "    <tr>\n",
       "      <th>0</th>\n",
       "      <td>None</td>\n",
       "      <td>None</td>\n",
       "      <td>8aedddf8-7803-45d6-b210-c79803ebb98b</td>\n",
       "      <td>What's the Time Mr. Wolf?</td>\n",
       "      <td>Noisettes</td>\n",
       "      <td>2007-02-05</td>\n",
       "      <td>GB</td>\n",
       "      <td>None</td>\n",
       "      <td>musicbrainz</td>\n",
       "    </tr>\n",
       "    <tr>\n",
       "      <th>1</th>\n",
       "      <td>None</td>\n",
       "      <td>None</td>\n",
       "      <td>42d9cd2f-bdfa-34c7-93de-bb0a3e63dc37</td>\n",
       "      <td>The Confessions Tour</td>\n",
       "      <td>Madonna</td>\n",
       "      <td>2007-01-29</td>\n",
       "      <td>GB</td>\n",
       "      <td>None</td>\n",
       "      <td>musicbrainz</td>\n",
       "    </tr>\n",
       "    <tr>\n",
       "      <th>2</th>\n",
       "      <td>None</td>\n",
       "      <td>None</td>\n",
       "      <td>1799dc5b-048f-4b88-a6c1-629fe5cd0bf2</td>\n",
       "      <td>Year of Desolation</td>\n",
       "      <td>Year of Desolation</td>\n",
       "      <td>2007-01-23</td>\n",
       "      <td>US</td>\n",
       "      <td>None</td>\n",
       "      <td>musicbrainz</td>\n",
       "    </tr>\n",
       "    <tr>\n",
       "      <th>3</th>\n",
       "      <td>None</td>\n",
       "      <td>None</td>\n",
       "      <td>ba484aba-68ca-4d42-b3dd-9b4df89fc384</td>\n",
       "      <td>Workmanship</td>\n",
       "      <td>Joy Electric</td>\n",
       "      <td>2007-01-10</td>\n",
       "      <td>US</td>\n",
       "      <td>None</td>\n",
       "      <td>musicbrainz</td>\n",
       "    </tr>\n",
       "    <tr>\n",
       "      <th>4</th>\n",
       "      <td>None</td>\n",
       "      <td>None</td>\n",
       "      <td>6e976599-8ab6-4f2b-b41c-fe255ba80815</td>\n",
       "      <td>Beste Welt</td>\n",
       "      <td>Pascal Finkenauer</td>\n",
       "      <td>2007-01-19</td>\n",
       "      <td>DE</td>\n",
       "      <td>None</td>\n",
       "      <td>musicbrainz</td>\n",
       "    </tr>\n",
       "  </tbody>\n",
       "</table>\n",
       "</div>"
      ],
      "text/plain": [
       "  title track_length_ms                                  MBID  \\\n",
       "0  None            None  8aedddf8-7803-45d6-b210-c79803ebb98b   \n",
       "1  None            None  42d9cd2f-bdfa-34c7-93de-bb0a3e63dc37   \n",
       "2  None            None  1799dc5b-048f-4b88-a6c1-629fe5cd0bf2   \n",
       "3  None            None  ba484aba-68ca-4d42-b3dd-9b4df89fc384   \n",
       "4  None            None  6e976599-8ab6-4f2b-b41c-fe255ba80815   \n",
       "\n",
       "                       album              artist        date country lyrics  \\\n",
       "0  What's the Time Mr. Wolf?           Noisettes  2007-02-05      GB   None   \n",
       "1       The Confessions Tour             Madonna  2007-01-29      GB   None   \n",
       "2         Year of Desolation  Year of Desolation  2007-01-23      US   None   \n",
       "3                Workmanship        Joy Electric  2007-01-10      US   None   \n",
       "4                 Beste Welt   Pascal Finkenauer  2007-01-19      DE   None   \n",
       "\n",
       "        source  \n",
       "0  musicbrainz  \n",
       "1  musicbrainz  \n",
       "2  musicbrainz  \n",
       "3  musicbrainz  \n",
       "4  musicbrainz  "
      ]
     },
     "execution_count": 7,
     "metadata": {},
     "output_type": "execute_result"
    }
   ],
   "source": [
    "concated.head()"
   ]
  },
  {
   "cell_type": "code",
   "execution_count": 8,
   "id": "bbc6d9b5",
   "metadata": {},
   "outputs": [],
   "source": [
    "new_order = ['title', 'track_length_ms', 'album', 'date', 'artist', 'MBID',\n",
    "       'country', 'source', 'lyrics']\n",
    "concated = concated[new_order]"
   ]
  },
  {
   "cell_type": "code",
   "execution_count": 9,
   "id": "369cd96d",
   "metadata": {},
   "outputs": [
    {
     "data": {
      "text/html": [
       "<div>\n",
       "<style scoped>\n",
       "    .dataframe tbody tr th:only-of-type {\n",
       "        vertical-align: middle;\n",
       "    }\n",
       "\n",
       "    .dataframe tbody tr th {\n",
       "        vertical-align: top;\n",
       "    }\n",
       "\n",
       "    .dataframe thead th {\n",
       "        text-align: right;\n",
       "    }\n",
       "</style>\n",
       "<table border=\"1\" class=\"dataframe\">\n",
       "  <thead>\n",
       "    <tr style=\"text-align: right;\">\n",
       "      <th></th>\n",
       "      <th>title</th>\n",
       "      <th>track_length_ms</th>\n",
       "      <th>album</th>\n",
       "      <th>date</th>\n",
       "      <th>artist</th>\n",
       "      <th>MBID</th>\n",
       "      <th>country</th>\n",
       "      <th>source</th>\n",
       "      <th>lyrics</th>\n",
       "    </tr>\n",
       "  </thead>\n",
       "  <tbody>\n",
       "    <tr>\n",
       "      <th>0</th>\n",
       "      <td>None</td>\n",
       "      <td>None</td>\n",
       "      <td>What's the Time Mr. Wolf?</td>\n",
       "      <td>2007-02-05</td>\n",
       "      <td>Noisettes</td>\n",
       "      <td>8aedddf8-7803-45d6-b210-c79803ebb98b</td>\n",
       "      <td>GB</td>\n",
       "      <td>musicbrainz</td>\n",
       "      <td>None</td>\n",
       "    </tr>\n",
       "    <tr>\n",
       "      <th>1</th>\n",
       "      <td>None</td>\n",
       "      <td>None</td>\n",
       "      <td>The Confessions Tour</td>\n",
       "      <td>2007-01-29</td>\n",
       "      <td>Madonna</td>\n",
       "      <td>42d9cd2f-bdfa-34c7-93de-bb0a3e63dc37</td>\n",
       "      <td>GB</td>\n",
       "      <td>musicbrainz</td>\n",
       "      <td>None</td>\n",
       "    </tr>\n",
       "    <tr>\n",
       "      <th>2</th>\n",
       "      <td>None</td>\n",
       "      <td>None</td>\n",
       "      <td>Year of Desolation</td>\n",
       "      <td>2007-01-23</td>\n",
       "      <td>Year of Desolation</td>\n",
       "      <td>1799dc5b-048f-4b88-a6c1-629fe5cd0bf2</td>\n",
       "      <td>US</td>\n",
       "      <td>musicbrainz</td>\n",
       "      <td>None</td>\n",
       "    </tr>\n",
       "    <tr>\n",
       "      <th>3</th>\n",
       "      <td>None</td>\n",
       "      <td>None</td>\n",
       "      <td>Workmanship</td>\n",
       "      <td>2007-01-10</td>\n",
       "      <td>Joy Electric</td>\n",
       "      <td>ba484aba-68ca-4d42-b3dd-9b4df89fc384</td>\n",
       "      <td>US</td>\n",
       "      <td>musicbrainz</td>\n",
       "      <td>None</td>\n",
       "    </tr>\n",
       "    <tr>\n",
       "      <th>4</th>\n",
       "      <td>None</td>\n",
       "      <td>None</td>\n",
       "      <td>Beste Welt</td>\n",
       "      <td>2007-01-19</td>\n",
       "      <td>Pascal Finkenauer</td>\n",
       "      <td>6e976599-8ab6-4f2b-b41c-fe255ba80815</td>\n",
       "      <td>DE</td>\n",
       "      <td>musicbrainz</td>\n",
       "      <td>None</td>\n",
       "    </tr>\n",
       "  </tbody>\n",
       "</table>\n",
       "</div>"
      ],
      "text/plain": [
       "  title track_length_ms                      album        date  \\\n",
       "0  None            None  What's the Time Mr. Wolf?  2007-02-05   \n",
       "1  None            None       The Confessions Tour  2007-01-29   \n",
       "2  None            None         Year of Desolation  2007-01-23   \n",
       "3  None            None                Workmanship  2007-01-10   \n",
       "4  None            None                 Beste Welt  2007-01-19   \n",
       "\n",
       "               artist                                  MBID country  \\\n",
       "0           Noisettes  8aedddf8-7803-45d6-b210-c79803ebb98b      GB   \n",
       "1             Madonna  42d9cd2f-bdfa-34c7-93de-bb0a3e63dc37      GB   \n",
       "2  Year of Desolation  1799dc5b-048f-4b88-a6c1-629fe5cd0bf2      US   \n",
       "3        Joy Electric  ba484aba-68ca-4d42-b3dd-9b4df89fc384      US   \n",
       "4   Pascal Finkenauer  6e976599-8ab6-4f2b-b41c-fe255ba80815      DE   \n",
       "\n",
       "        source lyrics  \n",
       "0  musicbrainz   None  \n",
       "1  musicbrainz   None  \n",
       "2  musicbrainz   None  \n",
       "3  musicbrainz   None  \n",
       "4  musicbrainz   None  "
      ]
     },
     "execution_count": 9,
     "metadata": {},
     "output_type": "execute_result"
    }
   ],
   "source": [
    "concated.head()"
   ]
  },
  {
   "cell_type": "code",
   "execution_count": 10,
   "id": "e069f1ee",
   "metadata": {},
   "outputs": [
    {
     "data": {
      "text/plain": [
       "(553023, 9)"
      ]
     },
     "execution_count": 10,
     "metadata": {},
     "output_type": "execute_result"
    }
   ],
   "source": [
    "concated.shape"
   ]
  },
  {
   "cell_type": "code",
   "execution_count": 12,
   "id": "00307b58",
   "metadata": {},
   "outputs": [],
   "source": [
    "concated.to_csv('/home/smacieje/data/concat_musicbrainz_releases.csv')"
   ]
  },
  {
   "cell_type": "code",
   "execution_count": null,
   "id": "0b118dea",
   "metadata": {},
   "outputs": [],
   "source": []
  },
  {
   "cell_type": "code",
   "execution_count": null,
   "id": "a6ed6dec",
   "metadata": {},
   "outputs": [],
   "source": []
  },
  {
   "cell_type": "code",
   "execution_count": null,
   "id": "80c83a92",
   "metadata": {},
   "outputs": [],
   "source": []
  },
  {
   "cell_type": "code",
   "execution_count": null,
   "id": "d90947e2",
   "metadata": {},
   "outputs": [],
   "source": []
  },
  {
   "cell_type": "code",
   "execution_count": null,
   "id": "72bf51e2",
   "metadata": {},
   "outputs": [],
   "source": []
  }
 ],
 "metadata": {
  "kernelspec": {
   "display_name": "Python 3 (ipykernel)",
   "language": "python",
   "name": "python3"
  },
  "language_info": {
   "codemirror_mode": {
    "name": "ipython",
    "version": 3
   },
   "file_extension": ".py",
   "mimetype": "text/x-python",
   "name": "python",
   "nbconvert_exporter": "python",
   "pygments_lexer": "ipython3",
   "version": "3.9.7"
  }
 },
 "nbformat": 4,
 "nbformat_minor": 5
}
