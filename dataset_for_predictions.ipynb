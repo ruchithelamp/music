{
 "cells": [
  {
   "cell_type": "code",
   "execution_count": null,
   "id": "c0b4b7a6",
   "metadata": {},
   "outputs": [],
   "source": []
  },
  {
   "cell_type": "code",
   "execution_count": 34,
   "id": "c9682b8f",
   "metadata": {},
   "outputs": [],
   "source": [
    "import os\n",
    "from dotenv import load_dotenv\n",
    "import musicbrainzngs\n",
    "import pprint\n",
    "import requests\n",
    "import lyricsgenius\n",
    "import pandas as pd\n",
    "import pprint\n",
    "import spotipy\n",
    "from spotipy.oauth2 import SpotifyClientCredentials\n",
    "\n",
    "\n",
    "load_dotenv()\n",
    "# Load API Keys\n",
    "GENIUS_API_TOKEN = os.getenv(\"GENIUS_API_TOKEN\")\n",
    "LASTFM_API_KEY = os.getenv(\"LAST_FM_API_KEY\")\n",
    "SPOTIPY_CLIENT_ID = os.getenv(\"SPOTIPY_CLIENT_ID\")\n",
    "SPOTIPY_SECRET = os.getenv(\"SPOTIPY_CLIENT_SECRET\")\n",
    "\n",
    "# GENIUS Lyrics Init\n",
    "genius = lyricsgenius.Genius(GENIUS_API_TOKEN, skip_non_songs=True, remove_section_headers=True)\n",
    "\n",
    "# MusicBrainz MetaData Init\n",
    "musicbrainzngs.set_useragent(\"music-study\", \"0.1\", \"email@email.com\")\n",
    "\n",
    "# spotify\n",
    "sp = spotipy.Spotify(auth_manager=SpotifyClientCredentials(\n",
    "client_id=SPOTIPY_CLIENT_ID, client_secret=SPOTIPY_SECRET))"
   ]
  },
  {
   "cell_type": "markdown",
   "id": "54d97639",
   "metadata": {},
   "source": [
    "Building the records for each data point. Each row will contain info about the song, like the name, artist, playcount, listeners, and other features. We are looking to have some columns that are the end point (y) and a lot of columns that lead to the descisions (features). \n"
   ]
  },
  {
   "cell_type": "markdown",
   "id": "28bf4375",
   "metadata": {},
   "source": [
    "Ok so there are going to be songs in musicBrainz that are not there in AcousticBrainz. This will likely introduce null values. In the automation process, when we are zipping together data to create our dataset, i guess its inevitable to have null values happen in front of us. To be dealt with later (cleeeaaaaningggg)."
   ]
  },
  {
   "cell_type": "markdown",
   "id": "274c1f73",
   "metadata": {},
   "source": [
    "There is some temporal bias involved here, in terms of the age of the song which accumulates playcount and listeners, potentially, which could tamper with the idea of the populairty here. The playcounts and listener numbers should be normalized or averaged per year (even thats not enough, considering how mediums of listening to song have changed form as well -> this is a question for another day, but lets keep in mind that we are dealing with temporal bias here. "
   ]
  },
  {
   "cell_type": "code",
   "execution_count": null,
   "id": "df9f1d8f",
   "metadata": {},
   "outputs": [],
   "source": []
  },
  {
   "cell_type": "markdown",
   "id": "d1fad33b",
   "metadata": {},
   "source": [
    "Ok going a different direction -> using One Million Song database idk mann"
   ]
  },
  {
   "cell_type": "code",
   "execution_count": 3,
   "id": "ee7a6190",
   "metadata": {},
   "outputs": [],
   "source": [
    "csv_name = \"acousticbrainz_sample_1.csv\""
   ]
  },
  {
   "cell_type": "code",
   "execution_count": 6,
   "id": "84aad772",
   "metadata": {},
   "outputs": [
    {
     "name": "stdout",
     "output_type": "stream",
     "text": [
      "✅ Parsed 999999 tracks and saved to acousticbrainz_sample.csv\n"
     ]
    }
   ],
   "source": [
    "import os\n",
    "import json\n",
    "import pandas as pd\n",
    "\n",
    "# Folder with the extracted JSONs\n",
    "# DATA_DIR = \"/Users/ruchipatil/acousticbrainz_dumps/acousticbrainz-highlevel-json-20220623\"  # ← update this if your path is different\n",
    "\n",
    "def parse_highlevel_features(json_path):\n",
    "    with open(json_path, 'r') as f:\n",
    "        data = json.load(f)\n",
    "\n",
    "    hl = data.get('highlevel', {})\n",
    "    return {\n",
    "        \"mbid\": os.path.basename(json_path).replace('.json', ''),\n",
    "        \"danceability\": hl.get('danceability', {}).get('value'),\n",
    "        \"mood\": hl.get('mood_acoustic', {}).get('value'),\n",
    "        \"genre\": hl.get('genre_dortmund', {}).get('value'),\n",
    "        \"voice_instrumental\": hl.get('voice_instrumental', {}).get('value'),\n",
    "        \"gender\": hl.get('gender', {}).get('value'),\n",
    "        \"timbre\": hl.get('timbre', {}).get('value'),\n",
    "        \"tonality\": hl.get('tonal_atonal', {}).get('value'),\n",
    "    }\n",
    "\n",
    "# Grab the first 10k files for now\n",
    "all_files = [os.path.join(DATA_DIR, f) for f in os.listdir(DATA_DIR) if f.endswith(\".json\")]\n",
    "# sample_files = all_files[:10000]\n",
    "\n",
    "# records = []\n",
    "all_files = []\n",
    "for root, dirs, files in os.walk(DATA_DIR):\n",
    "    for f in files:\n",
    "        if f.endswith(\".json\"):\n",
    "            all_files.append(os.path.join(root, f))\n",
    "records = []\n",
    "\n",
    "for path in all_files[:999999]:\n",
    "    try: \n",
    "        record = parse_highlevel_features(path)\n",
    "        records.append(record)\n",
    "    except Exception as e:\n",
    "        print(f\"Error with parsing record at path {path}: {e}\")\n",
    "\n",
    "df = pd.DataFrame(records)\n",
    "\n",
    "# Save it for future use\n",
    "df.to_csv(csv_name, index=False)\n",
    "print(f\"Parsed {len(df)} tracks and saved to {csv_name}\")\n"
   ]
  },
  {
   "cell_type": "code",
   "execution_count": null,
   "id": "28144ce2",
   "metadata": {},
   "outputs": [],
   "source": []
  },
  {
   "cell_type": "code",
   "execution_count": 4,
   "id": "9a607a9f",
   "metadata": {},
   "outputs": [],
   "source": [
    "DATA_DIR = \"/Users/ruchipatil/acousticbrainz_dumps/acousticbrainz-highlevel-json-20220623/highlevel\""
   ]
  },
  {
   "cell_type": "code",
   "execution_count": 3,
   "id": "dcc67452",
   "metadata": {},
   "outputs": [
    {
     "name": "stdout",
     "output_type": "stream",
     "text": [
      "(999999, 8)\n",
      "                                     mbid   danceability          mood  \\\n",
      "0  619f63d9-9303-431b-b413-1681b49ae1f7-0  not_danceable  not_acoustic   \n",
      "1  619f60fa-b680-4735-a635-fc0f03715227-0      danceable  not_acoustic   \n",
      "\n",
      "        genre voice_instrumental  gender  timbre tonality  \n",
      "0  electronic              voice    male  bright   atonal  \n",
      "1  electronic       instrumental  female  bright   atonal  \n",
      "Index(['mbid', 'danceability', 'mood', 'genre', 'voice_instrumental', 'gender',\n",
      "       'timbre', 'tonality'],\n",
      "      dtype='object')\n"
     ]
    }
   ],
   "source": [
    "df = pd.read_csv(\"acousticbrainz_sample_1.csv\")\n",
    "print(df.shape)\n",
    "print(df.head(2))\n",
    "print(df.columns)"
   ]
  },
  {
   "cell_type": "markdown",
   "id": "f6f49f77",
   "metadata": {},
   "source": [
    "ok so that was the starting point, our dataset is defined by what is there in acousticbrainz. no we stitch it with last fm and genius data"
   ]
  },
  {
   "cell_type": "markdown",
   "id": "2d9ebf83",
   "metadata": {},
   "source": [
    "so now\n",
    "1. last FM -> playcount, listeners, tags\n",
    "2. genius -> lyrics text (tbh this can be a whole nother thing of its own)"
   ]
  },
  {
   "cell_type": "code",
   "execution_count": 35,
   "id": "3176ea62",
   "metadata": {},
   "outputs": [],
   "source": [
    "acoustic_df = pd.read_csv(csv_name)"
   ]
  },
  {
   "cell_type": "code",
   "execution_count": 42,
   "id": "2f769c03",
   "metadata": {},
   "outputs": [],
   "source": [
    "def connect_lastfm(row):\n",
    "    mbid = \"-\".join(row['mbid'].split(\"-\")[:-1])\n",
    "    title = row.get(\"title\")\n",
    "    artist = row.get(\"artist\")\n",
    "    print(f\"acoustic {mbid} --------  {title} by {artist}\")\n",
    "    if pd.isna(mbid)or mbid == \"\":\n",
    "        return pd.Series({\"playcount\": None, \"listeners\": None, \"tags\": None})\n",
    "    url = f\"http://ws.audioscrobbler.com/2.0/?method=track.getInfo&mbid={mbid}&api_key={LASTFM_API_KEY}&format=json\"\n",
    "    \n",
    "    try:\n",
    "        response = requests.get(url)\n",
    "        if response.status_code == 200:\n",
    "            #we got something back\n",
    "            print(response.json().get('track', {}))\n",
    "    except Exception as e: \n",
    "        print(f\"error retreiving LAST FM info on mbid {mbid} with error: {e}\")\n",
    "        return pd.Series({\"playcount\": None, \"listeners\": None, \"tags\": None})\n",
    "\n",
    "def get_metadata(mbid):\n",
    "    mbid = \"-\".join(mbid.split(\"-\")[:-1])\n",
    "    try:\n",
    "        result = musicbrainzngs.get_recording_by_id(mbid, includes=[\"artists\"])\n",
    "        title = result[\"recording\"][\"title\"]\n",
    "        artist = result[\"recording\"][\"artist-credit\"][0][\"artist\"][\"name\"]\n",
    "        return pd.Series({\"title\": title, \"artist\": artist})\n",
    "    except Exception as e: \n",
    "        print(f\"Could not retrieve musicBrainz result for {mbid} : {e}\")\n",
    "        return pd.Series({\"title\": None, \"artist\": None})\n",
    "            \n",
    "              \n",
    "              "
   ]
  },
  {
   "cell_type": "code",
   "execution_count": null,
   "id": "b7c3c29e",
   "metadata": {},
   "outputs": [],
   "source": [
    "\n",
    "    "
   ]
  },
  {
   "cell_type": "code",
   "execution_count": 44,
   "id": "b934a16f",
   "metadata": {},
   "outputs": [
    {
     "data": {
      "text/plain": [
       "title            Sukhi Evvaro\n",
       "artist    Sanjay Subrahmanyan\n",
       "dtype: object"
      ]
     },
     "execution_count": 44,
     "metadata": {},
     "output_type": "execute_result"
    }
   ],
   "source": [
    "sukhi = get_metadata(acoustic_df.iloc[56576][\"mbid\"])\n",
    "connec"
   ]
  },
  {
   "cell_type": "code",
   "execution_count": null,
   "id": "da375b32",
   "metadata": {},
   "outputs": [],
   "source": []
  },
  {
   "cell_type": "code",
   "execution_count": 36,
   "id": "329a49c2",
   "metadata": {},
   "outputs": [
    {
     "name": "stdout",
     "output_type": "stream",
     "text": [
      "9ba2ceb8-c6a0-4320-a0be-ed4e6783e810\n"
     ]
    }
   ],
   "source": [
    "mbid = \"9ba2ceb8-c6a0-4320-a0be-ed4e6783e810-0\"\n",
    "clean_mbid = \"-\".join(mbid.split(\"-\")[:-1])\n",
    "print(clean_mbid)\n"
   ]
  },
  {
   "cell_type": "code",
   "execution_count": null,
   "id": "4afd0135",
   "metadata": {},
   "outputs": [],
   "source": []
  },
  {
   "cell_type": "code",
   "execution_count": null,
   "id": "9dfbf98c",
   "metadata": {},
   "outputs": [],
   "source": []
  },
  {
   "cell_type": "code",
   "execution_count": null,
   "id": "0a353eb0",
   "metadata": {},
   "outputs": [],
   "source": []
  },
  {
   "cell_type": "code",
   "execution_count": null,
   "id": "6271216b",
   "metadata": {},
   "outputs": [],
   "source": []
  },
  {
   "cell_type": "code",
   "execution_count": null,
   "id": "60c4a969",
   "metadata": {},
   "outputs": [],
   "source": []
  },
  {
   "cell_type": "code",
   "execution_count": null,
   "id": "1815195b",
   "metadata": {},
   "outputs": [],
   "source": []
  },
  {
   "cell_type": "code",
   "execution_count": null,
   "id": "34d44405",
   "metadata": {},
   "outputs": [],
   "source": []
  },
  {
   "cell_type": "code",
   "execution_count": null,
   "id": "1be6738d",
   "metadata": {},
   "outputs": [],
   "source": []
  },
  {
   "cell_type": "code",
   "execution_count": null,
   "id": "30c91c84",
   "metadata": {},
   "outputs": [],
   "source": []
  },
  {
   "cell_type": "code",
   "execution_count": null,
   "id": "f1bb7950",
   "metadata": {},
   "outputs": [],
   "source": []
  },
  {
   "cell_type": "code",
   "execution_count": null,
   "id": "fa0ddb7d",
   "metadata": {},
   "outputs": [],
   "source": []
  },
  {
   "cell_type": "code",
   "execution_count": null,
   "id": "851627b1",
   "metadata": {},
   "outputs": [],
   "source": []
  },
  {
   "cell_type": "code",
   "execution_count": null,
   "id": "0528884f",
   "metadata": {},
   "outputs": [],
   "source": []
  },
  {
   "cell_type": "code",
   "execution_count": null,
   "id": "dbdef7bb",
   "metadata": {},
   "outputs": [],
   "source": []
  },
  {
   "cell_type": "code",
   "execution_count": null,
   "id": "8a0b52c5",
   "metadata": {},
   "outputs": [],
   "source": []
  },
  {
   "cell_type": "code",
   "execution_count": null,
   "id": "e29ae503",
   "metadata": {},
   "outputs": [],
   "source": []
  },
  {
   "cell_type": "code",
   "execution_count": null,
   "id": "4356ef11",
   "metadata": {},
   "outputs": [],
   "source": []
  },
  {
   "cell_type": "code",
   "execution_count": null,
   "id": "97bc8d98",
   "metadata": {},
   "outputs": [],
   "source": []
  },
  {
   "cell_type": "code",
   "execution_count": null,
   "id": "a0dceef3",
   "metadata": {},
   "outputs": [],
   "source": []
  },
  {
   "cell_type": "code",
   "execution_count": null,
   "id": "08bbbcc4",
   "metadata": {},
   "outputs": [],
   "source": []
  },
  {
   "cell_type": "code",
   "execution_count": null,
   "id": "0169a3fe",
   "metadata": {},
   "outputs": [],
   "source": []
  },
  {
   "cell_type": "code",
   "execution_count": null,
   "id": "f59bb95a",
   "metadata": {},
   "outputs": [],
   "source": []
  },
  {
   "cell_type": "code",
   "execution_count": 12,
   "id": "150f2575",
   "metadata": {},
   "outputs": [
    {
     "name": "stdout",
     "output_type": "stream",
     "text": [
      "{'recording-count': 10408,\n",
      " 'recording-list': [{'artist-credit': [{'artist': {'alias-list': [{'alias': 'Scott '\n",
      "                                                                            'Anthony '\n",
      "                                                                            'Arceneaux '\n",
      "                                                                            'Jr.',\n",
      "                                                                   'sort-name': 'Arceneaux, '\n",
      "                                                                                'Scott '\n",
      "                                                                                'Anthony '\n",
      "                                                                                'Jr.',\n",
      "                                                                   'type': 'Legal '\n",
      "                                                                           'name'},\n",
      "                                                                  {'alias': 'Scrim',\n",
      "                                                                   'sort-name': 'Scrim'}],\n",
      "                                                   'disambiguation': '$uicideboy$',\n",
      "                                                   'id': 'c14c784b-2b14-492f-9eaf-269de7a87431',\n",
      "                                                   'name': '$crim',\n",
      "                                                   'sort-name': 'Scrim'},\n",
      "                                        'name': '$crim'}],\n",
      "                     'artist-credit-phrase': '$crim',\n",
      "                     'ext:score': '100',\n",
      "                     'id': '3fa2f162-3a12-4fb6-9c2f-203d8b44c719',\n",
      "                     'isrc-list': ['QZAPK2000099'],\n",
      "                     'length': '173514',\n",
      "                     'release-list': [{'artist-credit': [{'artist': {'disambiguation': '$uicideboy$',\n",
      "                                                                     'id': 'c14c784b-2b14-492f-9eaf-269de7a87431',\n",
      "                                                                     'name': '$crim',\n",
      "                                                                     'sort-name': 'Scrim'},\n",
      "                                                          'name': '$crim'}],\n",
      "                                       'artist-credit-phrase': '$crim',\n",
      "                                       'country': 'XW',\n",
      "                                       'date': '2020-05-15',\n",
      "                                       'id': '993e1e3a-c7f5-4a0c-a207-8a09e98c55dd',\n",
      "                                       'medium-count': 1,\n",
      "                                       'medium-list': [{'format': 'Digital '\n",
      "                                                                  'Media',\n",
      "                                                        'position': '1',\n",
      "                                                        'track-count': 20,\n",
      "                                                        'track-list': [{'id': '036a1bee-13f9-49a3-8778-1e70b82419c1',\n",
      "                                                                        'length': '173514',\n",
      "                                                                        'number': '11',\n",
      "                                                                        'title': 'Euphoria '\n",
      "                                                                                 'Euphoria',\n",
      "                                                                        'track_or_recording_length': '173514'}]}],\n",
      "                                       'medium-track-count': 20,\n",
      "                                       'release-event-list': [{'area': {'id': '525d4e18-3d00-31b9-a58b-a146a916de8f',\n",
      "                                                                        'iso-3166-1-code-list': ['XW'],\n",
      "                                                                        'name': '[Worldwide]',\n",
      "                                                                        'sort-name': '[Worldwide]'},\n",
      "                                                               'date': '2020-05-15'}],\n",
      "                                       'release-group': {'id': '1b5e74d2-e65e-440c-9cbe-ad6e79f285e0',\n",
      "                                                         'primary-type': 'Album',\n",
      "                                                         'title': 'A Man Rose '\n",
      "                                                                  'From The '\n",
      "                                                                  'Dead',\n",
      "                                                         'type': 'Album'},\n",
      "                                       'status': 'Official',\n",
      "                                       'title': 'A Man Rose from the Dead'},\n",
      "                                      {'artist-credit': [{'artist': {'disambiguation': '$uicideboy$',\n",
      "                                                                     'id': 'c14c784b-2b14-492f-9eaf-269de7a87431',\n",
      "                                                                     'name': '$crim',\n",
      "                                                                     'sort-name': 'Scrim'},\n",
      "                                                          'name': 'Scrim'}],\n",
      "                                       'artist-credit-phrase': 'Scrim',\n",
      "                                       'country': 'XW',\n",
      "                                       'date': '2020-05-15',\n",
      "                                       'id': 'b002d295-8177-4e3d-a7d3-2e5b1ffd6b7f',\n",
      "                                       'medium-count': 1,\n",
      "                                       'medium-list': [{'format': 'Digital '\n",
      "                                                                  'Media',\n",
      "                                                        'position': '1',\n",
      "                                                        'track-count': 20,\n",
      "                                                        'track-list': [{'id': 'cb0e370e-b0a2-48c2-ae4a-de4d95427382',\n",
      "                                                                        'length': '173000',\n",
      "                                                                        'number': '11',\n",
      "                                                                        'title': 'Euphoria '\n",
      "                                                                                 'Euphoria',\n",
      "                                                                        'track_or_recording_length': '173000'}]}],\n",
      "                                       'medium-track-count': 20,\n",
      "                                       'release-event-list': [{'area': {'id': '525d4e18-3d00-31b9-a58b-a146a916de8f',\n",
      "                                                                        'iso-3166-1-code-list': ['XW'],\n",
      "                                                                        'name': '[Worldwide]',\n",
      "                                                                        'sort-name': '[Worldwide]'},\n",
      "                                                               'date': '2020-05-15'}],\n",
      "                                       'release-group': {'id': '1b5e74d2-e65e-440c-9cbe-ad6e79f285e0',\n",
      "                                                         'primary-type': 'Album',\n",
      "                                                         'title': 'A Man Rose '\n",
      "                                                                  'From The '\n",
      "                                                                  'Dead',\n",
      "                                                         'type': 'Album'},\n",
      "                                       'status': 'Official',\n",
      "                                       'title': 'A Man Rose From The Dead'},\n",
      "                                      {'artist-credit': [{'artist': {'disambiguation': '$uicideboy$',\n",
      "                                                                     'id': 'c14c784b-2b14-492f-9eaf-269de7a87431',\n",
      "                                                                     'name': '$crim',\n",
      "                                                                     'sort-name': 'Scrim'},\n",
      "                                                          'name': '$crim'}],\n",
      "                                       'artist-credit-phrase': '$crim',\n",
      "                                       'country': 'FR',\n",
      "                                       'date': '2020-05-15',\n",
      "                                       'id': '34a37a8e-0573-49c1-9626-76e32ca2ac72',\n",
      "                                       'medium-count': 1,\n",
      "                                       'medium-list': [{'format': 'Digital '\n",
      "                                                                  'Media',\n",
      "                                                        'position': '1',\n",
      "                                                        'track-count': 20,\n",
      "                                                        'track-list': [{'id': '3531bb7b-c27b-4402-ac8b-f0e848027466',\n",
      "                                                                        'length': '173515',\n",
      "                                                                        'number': '11',\n",
      "                                                                        'title': 'Euphoria '\n",
      "                                                                                 'Euphoria',\n",
      "                                                                        'track_or_recording_length': '173515'}]}],\n",
      "                                       'medium-track-count': 20,\n",
      "                                       'release-event-list': [{'area': {'id': '08310658-51eb-3801-80de-5a0739207115',\n",
      "                                                                        'iso-3166-1-code-list': ['FR'],\n",
      "                                                                        'name': 'France',\n",
      "                                                                        'sort-name': 'France'},\n",
      "                                                               'date': '2020-05-15'}],\n",
      "                                       'release-group': {'id': '1b5e74d2-e65e-440c-9cbe-ad6e79f285e0',\n",
      "                                                         'primary-type': 'Album',\n",
      "                                                         'title': 'A Man Rose '\n",
      "                                                                  'From The '\n",
      "                                                                  'Dead',\n",
      "                                                         'type': 'Album'},\n",
      "                                       'status': 'Official',\n",
      "                                       'title': 'A Man Rose from the Dead'}],\n",
      "                     'title': 'Euphoria Euphoria'}]}\n",
      "🎵 Title: Euphoria Euphoria\n",
      "🧑‍🎤 Artist: $crim\n",
      "🔑 MBID: 3fa2f162-3a12-4fb6-9c2f-203d8b44c719\n"
     ]
    }
   ],
   "source": [
    "\n",
    "# Set a user agent\n",
    "musicbrainzngs.set_useragent(\"music-trend-project\", \"0.1\", \"your_email@example.com\")\n",
    "\n",
    "# Search for a track\n",
    "result = musicbrainzngs.search_recordings(query=\"Euphoria\", limit=1)\n",
    "pprint.pprint(result)\n",
    "track = result['recording-list'][0]\n",
    "\n",
    "print(\"🎵 Title:\", track['title'])\n",
    "print(\"🧑‍🎤 Artist:\", track['artist-credit'][0]['name'])\n",
    "print(\"🔑 MBID:\", track['id'])\n"
   ]
  },
  {
   "cell_type": "code",
   "execution_count": null,
   "id": "306fbec6",
   "metadata": {},
   "outputs": [],
   "source": []
  },
  {
   "cell_type": "code",
   "execution_count": 3,
   "id": "5bc1d03c",
   "metadata": {},
   "outputs": [
    {
     "name": "stdout",
     "output_type": "stream",
     "text": [
      "🎛️ Acoustic Features (high-level):\n",
      "{'danceability': {'all': {'danceable': 0.00907512474805, 'not_danceable': 0.99092489481}, 'probability': 0.99092489481, 'value': 'not_danceable', 'version': {'essentia': '2.1-beta4', 'essentia_build_sha': 'b0b9016bb43cc2dafcda53132c1610db4853c6a1', 'essentia_git_sha': 'v2.1_beta4', 'extractor': 'music 1.0', 'gaia': '2.4.5', 'gaia_git_sha': 'v2.4.4-44-g95f4851', 'models_essentia_git_sha': 'v2.1_beta1'}}, 'gender': {'all': {'female': 0.20377586782, 'male': 0.796224117279}, 'probability': 0.796224117279, 'value': 'male', 'version': {'essentia': '2.1-beta4', 'essentia_build_sha': 'b0b9016bb43cc2dafcda53132c1610db4853c6a1', 'essentia_git_sha': 'v2.1_beta4', 'extractor': 'music 1.0', 'gaia': '2.4.5', 'gaia_git_sha': 'v2.4.4-44-g95f4851', 'models_essentia_git_sha': 'v2.1_beta1'}}, 'genre_dortmund': {'all': {'alternative': 3.45486239617e-09, 'blues': 4.17774437267e-09, 'electronic': 0.999997079372, 'folkcountry': 1.06058018901e-06, 'funksoulrnb': 6.48767368716e-08, 'jazz': 1.63540221365e-06, 'pop': 3.3791238252e-08, 'raphiphop': 1.61525068876e-08, 'rock': 9.68694777725e-08}, 'probability': 0.999997079372, 'value': 'electronic', 'version': {'essentia': '2.1-beta4', 'essentia_build_sha': 'b0b9016bb43cc2dafcda53132c1610db4853c6a1', 'essentia_git_sha': 'v2.1_beta4', 'extractor': 'music 1.0', 'gaia': '2.4.5', 'gaia_git_sha': 'v2.4.4-44-g95f4851', 'models_essentia_git_sha': 'v2.1_beta1'}}, 'genre_electronic': {'all': {'ambient': 0.440445870161, 'dnb': 0.00771736446768, 'house': 0.152519986033, 'techno': 0.0313390865922, 'trance': 0.367977678776}, 'probability': 0.440445870161, 'value': 'ambient', 'version': {'essentia': '2.1-beta4', 'essentia_build_sha': 'b0b9016bb43cc2dafcda53132c1610db4853c6a1', 'essentia_git_sha': 'v2.1_beta4', 'extractor': 'music 1.0', 'gaia': '2.4.5', 'gaia_git_sha': 'v2.4.4-44-g95f4851', 'models_essentia_git_sha': 'v2.1_beta1'}}, 'genre_rosamerica': {'all': {'cla': 0.00664091017097, 'dan': 0.00391393667087, 'hip': 0.00114692130592, 'jaz': 0.00672022765502, 'pop': 0.00681642163545, 'rhy': 0.0056858737953, 'roc': 0.964194357395, 'spe': 0.00488137220964}, 'probability': 0.964194357395, 'value': 'roc', 'version': {'essentia': '2.1-beta4', 'essentia_build_sha': 'b0b9016bb43cc2dafcda53132c1610db4853c6a1', 'essentia_git_sha': 'v2.1_beta4', 'extractor': 'music 1.0', 'gaia': '2.4.5', 'gaia_git_sha': 'v2.4.4-44-g95f4851', 'models_essentia_git_sha': 'v2.1_beta1'}}, 'genre_tzanetakis': {'all': {'blu': 0.0626541376114, 'cla': 0.0348133966327, 'cou': 0.0783501937985, 'dis': 0.104547761381, 'hip': 0.15693578124, 'jaz': 0.313987255096, 'met': 0.044816005975, 'pop': 0.0627349764109, 'reg': 0.0627352520823, 'roc': 0.0784252434969}, 'probability': 0.313987255096, 'value': 'jaz', 'version': {'essentia': '2.1-beta4', 'essentia_build_sha': 'b0b9016bb43cc2dafcda53132c1610db4853c6a1', 'essentia_git_sha': 'v2.1_beta4', 'extractor': 'music 1.0', 'gaia': '2.4.5', 'gaia_git_sha': 'v2.4.4-44-g95f4851', 'models_essentia_git_sha': 'v2.1_beta1'}}, 'ismir04_rhythm': {'all': {'ChaChaCha': 0.105298772454, 'Jive': 0.0256816949695, 'Quickstep': 0.00836592912674, 'Rumba-American': 0.0187527965754, 'Rumba-International': 0.0130105158314, 'Rumba-Misc': 0.0104236584157, 'Samba': 0.0146293696016, 'Tango': 0.089918486774, 'VienneseWaltz': 0.70630979538, 'Waltz': 0.00760899251327}, 'probability': 0.70630979538, 'value': 'VienneseWaltz', 'version': {'essentia': '2.1-beta4', 'essentia_build_sha': 'b0b9016bb43cc2dafcda53132c1610db4853c6a1', 'essentia_git_sha': 'v2.1_beta4', 'extractor': 'music 1.0', 'gaia': '2.4.5', 'gaia_git_sha': 'v2.4.4-44-g95f4851', 'models_essentia_git_sha': 'v2.1_beta1'}}, 'mood_acoustic': {'all': {'acoustic': 0.10686776787, 'not_acoustic': 0.893132209778}, 'probability': 0.893132209778, 'value': 'not_acoustic', 'version': {'essentia': '2.1-beta4', 'essentia_build_sha': 'b0b9016bb43cc2dafcda53132c1610db4853c6a1', 'essentia_git_sha': 'v2.1_beta4', 'extractor': 'music 1.0', 'gaia': '2.4.5', 'gaia_git_sha': 'v2.4.4-44-g95f4851', 'models_essentia_git_sha': 'v2.1_beta1'}}, 'mood_aggressive': {'all': {'aggressive': 0.240787476301, 'not_aggressive': 0.759212493896}, 'probability': 0.759212493896, 'value': 'not_aggressive', 'version': {'essentia': '2.1-beta4', 'essentia_build_sha': 'b0b9016bb43cc2dafcda53132c1610db4853c6a1', 'essentia_git_sha': 'v2.1_beta4', 'extractor': 'music 1.0', 'gaia': '2.4.5', 'gaia_git_sha': 'v2.4.4-44-g95f4851', 'models_essentia_git_sha': 'v2.1_beta1'}}, 'mood_electronic': {'all': {'electronic': 0.271400809288, 'not_electronic': 0.728599190712}, 'probability': 0.728599190712, 'value': 'not_electronic', 'version': {'essentia': '2.1-beta4', 'essentia_build_sha': 'b0b9016bb43cc2dafcda53132c1610db4853c6a1', 'essentia_git_sha': 'v2.1_beta4', 'extractor': 'music 1.0', 'gaia': '2.4.5', 'gaia_git_sha': 'v2.4.4-44-g95f4851', 'models_essentia_git_sha': 'v2.1_beta1'}}, 'mood_happy': {'all': {'happy': 0.0854432433844, 'not_happy': 0.914556741714}, 'probability': 0.914556741714, 'value': 'not_happy', 'version': {'essentia': '2.1-beta4', 'essentia_build_sha': 'b0b9016bb43cc2dafcda53132c1610db4853c6a1', 'essentia_git_sha': 'v2.1_beta4', 'extractor': 'music 1.0', 'gaia': '2.4.5', 'gaia_git_sha': 'v2.4.4-44-g95f4851', 'models_essentia_git_sha': 'v2.1_beta1'}}, 'mood_party': {'all': {'not_party': 0.936928510666, 'party': 0.0630714595318}, 'probability': 0.936928510666, 'value': 'not_party', 'version': {'essentia': '2.1-beta4', 'essentia_build_sha': 'b0b9016bb43cc2dafcda53132c1610db4853c6a1', 'essentia_git_sha': 'v2.1_beta4', 'extractor': 'music 1.0', 'gaia': '2.4.5', 'gaia_git_sha': 'v2.4.4-44-g95f4851', 'models_essentia_git_sha': 'v2.1_beta1'}}, 'mood_relaxed': {'all': {'not_relaxed': 0.213424682617, 'relaxed': 0.786575317383}, 'probability': 0.786575317383, 'value': 'relaxed', 'version': {'essentia': '2.1-beta4', 'essentia_build_sha': 'b0b9016bb43cc2dafcda53132c1610db4853c6a1', 'essentia_git_sha': 'v2.1_beta4', 'extractor': 'music 1.0', 'gaia': '2.4.5', 'gaia_git_sha': 'v2.4.4-44-g95f4851', 'models_essentia_git_sha': 'v2.1_beta1'}}, 'mood_sad': {'all': {'not_sad': 0.640450417995, 'sad': 0.359549582005}, 'probability': 0.640450417995, 'value': 'not_sad', 'version': {'essentia': '2.1-beta4', 'essentia_build_sha': 'b0b9016bb43cc2dafcda53132c1610db4853c6a1', 'essentia_git_sha': 'v2.1_beta4', 'extractor': 'music 1.0', 'gaia': '2.4.5', 'gaia_git_sha': 'v2.4.4-44-g95f4851', 'models_essentia_git_sha': 'v2.1_beta1'}}, 'moods_mirex': {'all': {'Cluster1': 0.0778945088387, 'Cluster2': 0.0519467145205, 'Cluster3': 0.354223400354, 'Cluster4': 0.0591796115041, 'Cluster5': 0.456755787134}, 'probability': 0.456755787134, 'value': 'Cluster5', 'version': {'essentia': '2.1-beta4', 'essentia_build_sha': 'b0b9016bb43cc2dafcda53132c1610db4853c6a1', 'essentia_git_sha': 'v2.1_beta4', 'extractor': 'music 1.0', 'gaia': '2.4.5', 'gaia_git_sha': 'v2.4.4-44-g95f4851', 'models_essentia_git_sha': 'v2.1_beta1'}}, 'timbre': {'all': {'bright': 0.727070689201, 'dark': 0.272929340601}, 'probability': 0.727070689201, 'value': 'bright', 'version': {'essentia': '2.1-beta4', 'essentia_build_sha': 'b0b9016bb43cc2dafcda53132c1610db4853c6a1', 'essentia_git_sha': 'v2.1_beta4', 'extractor': 'music 1.0', 'gaia': '2.4.5', 'gaia_git_sha': 'v2.4.4-44-g95f4851', 'models_essentia_git_sha': 'v2.1_beta1'}}, 'tonal_atonal': {'all': {'atonal': 0.785722613335, 'tonal': 0.214277401567}, 'probability': 0.785722613335, 'value': 'atonal', 'version': {'essentia': '2.1-beta4', 'essentia_build_sha': 'b0b9016bb43cc2dafcda53132c1610db4853c6a1', 'essentia_git_sha': 'v2.1_beta4', 'extractor': 'music 1.0', 'gaia': '2.4.5', 'gaia_git_sha': 'v2.4.4-44-g95f4851', 'models_essentia_git_sha': 'v2.1_beta1'}}, 'voice_instrumental': {'all': {'instrumental': 0.950851559639, 'voice': 0.0491484366357}, 'probability': 0.950851559639, 'value': 'instrumental', 'version': {'essentia': '2.1-beta4', 'essentia_build_sha': 'b0b9016bb43cc2dafcda53132c1610db4853c6a1', 'essentia_git_sha': 'v2.1_beta4', 'extractor': 'music 1.0', 'gaia': '2.4.5', 'gaia_git_sha': 'v2.4.4-44-g95f4851', 'models_essentia_git_sha': 'v2.1_beta1'}}}\n"
     ]
    }
   ],
   "source": [
    "import requests\n",
    "\n",
    "mbid = track['id']  # from previous step\n",
    "url = f\"https://acousticbrainz.org/api/v1/{mbid}/high-level\"\n",
    "\n",
    "response = requests.get(url)\n",
    "if response.status_code == 200:\n",
    "    data = response.json()\n",
    "    print(\"🎛️ Acoustic Features (high-level):\")\n",
    "    print(data[\"highlevel\"])\n",
    "else:\n",
    "    print(f\"❌ Could not fetch features for {mbid}\")\n"
   ]
  },
  {
   "cell_type": "code",
   "execution_count": null,
   "id": "75baf74d",
   "metadata": {},
   "outputs": [],
   "source": []
  },
  {
   "cell_type": "code",
   "execution_count": null,
   "id": "1e1eedb1",
   "metadata": {},
   "outputs": [],
   "source": []
  },
  {
   "cell_type": "code",
   "execution_count": null,
   "id": "c6842968",
   "metadata": {},
   "outputs": [],
   "source": []
  },
  {
   "cell_type": "markdown",
   "id": "874c5f9b",
   "metadata": {},
   "source": [
    "MusicBrianz seems to be a metadat databased; they have informations about the songs, artists, release not about the song itself?\n",
    "MBID -> MusicBrainz ID\n",
    "UUID (long string of characters) that is uniquely IDing a track, artist, an album,k release grou, etc.\n",
    "\n",
    "this MBID will be important, as it has been implemented as the foreign key for AcousticBrainz, and they are another database (with other info?)\n",
    "\n"
   ]
  },
  {
   "cell_type": "markdown",
   "id": "0a5a0238",
   "metadata": {},
   "source": [
    "ok so acoustic brainz i guess goes into more cateogirizing the acoustics of the song... based on probabilities\n",
    "what is gaia?\n",
    "\n",
    "are they using human catogozing too? ok anyways this pretty cool \n",
    "\n",
    "hopefully they have variety in nationalities and genres"
   ]
  },
  {
   "cell_type": "code",
   "execution_count": null,
   "id": "788f1430",
   "metadata": {},
   "outputs": [],
   "source": []
  },
  {
   "cell_type": "markdown",
   "id": "b119e22f",
   "metadata": {},
   "source": [
    "# data set for exploratory analysis"
   ]
  },
  {
   "cell_type": "code",
   "execution_count": null,
   "id": "35e31645",
   "metadata": {},
   "outputs": [],
   "source": []
  },
  {
   "cell_type": "code",
   "execution_count": null,
   "id": "fd78d698",
   "metadata": {},
   "outputs": [],
   "source": []
  },
  {
   "cell_type": "code",
   "execution_count": null,
   "id": "061c1488",
   "metadata": {},
   "outputs": [],
   "source": []
  },
  {
   "cell_type": "code",
   "execution_count": null,
   "id": "f41dcfcd",
   "metadata": {},
   "outputs": [],
   "source": []
  },
  {
   "cell_type": "code",
   "execution_count": null,
   "id": "67da3a88",
   "metadata": {},
   "outputs": [],
   "source": []
  },
  {
   "cell_type": "code",
   "execution_count": null,
   "id": "16f9cfb9",
   "metadata": {},
   "outputs": [],
   "source": []
  },
  {
   "cell_type": "code",
   "execution_count": null,
   "id": "3730fad2",
   "metadata": {},
   "outputs": [],
   "source": []
  },
  {
   "cell_type": "code",
   "execution_count": null,
   "id": "6176f316",
   "metadata": {},
   "outputs": [],
   "source": []
  },
  {
   "cell_type": "code",
   "execution_count": null,
   "id": "b0aec4f0",
   "metadata": {},
   "outputs": [],
   "source": []
  },
  {
   "cell_type": "code",
   "execution_count": null,
   "id": "3b6ae9fb",
   "metadata": {},
   "outputs": [],
   "source": []
  },
  {
   "cell_type": "code",
   "execution_count": null,
   "id": "f95e7891",
   "metadata": {},
   "outputs": [],
   "source": []
  },
  {
   "cell_type": "code",
   "execution_count": null,
   "id": "82245907",
   "metadata": {},
   "outputs": [],
   "source": []
  },
  {
   "cell_type": "code",
   "execution_count": null,
   "id": "9aa37267",
   "metadata": {},
   "outputs": [],
   "source": []
  }
 ],
 "metadata": {
  "kernelspec": {
   "display_name": "Python 3 (ipykernel)",
   "language": "python",
   "name": "python3"
  },
  "language_info": {
   "codemirror_mode": {
    "name": "ipython",
    "version": 3
   },
   "file_extension": ".py",
   "mimetype": "text/x-python",
   "name": "python",
   "nbconvert_exporter": "python",
   "pygments_lexer": "ipython3",
   "version": "3.11.5"
  }
 },
 "nbformat": 4,
 "nbformat_minor": 5
}
