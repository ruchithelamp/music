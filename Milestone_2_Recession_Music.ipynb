{
  "nbformat": 4,
  "nbformat_minor": 0,
  "metadata": {
    "colab": {
      "provenance": [],
      "toc_visible": true,
      "include_colab_link": true
    },
    "kernelspec": {
      "name": "python3",
      "display_name": "Python 3"
    },
    "language_info": {
      "name": "python"
    }
  },
  "cells": [
    {
      "cell_type": "markdown",
      "metadata": {
        "id": "view-in-github",
        "colab_type": "text"
      },
      "source": [
        "<a href=\"https://colab.research.google.com/github/ruchithelamp/music/blob/main/Milestone_2_Recession_Music.ipynb\" target=\"_parent\"><img src=\"https://colab.research.google.com/assets/colab-badge.svg\" alt=\"Open In Colab\"/></a>"
      ]
    },
    {
      "cell_type": "code",
      "execution_count": 2,
      "metadata": {
        "id": "QWBrTZM4uTr4",
        "colab": {
          "base_uri": "https://localhost:8080/"
        },
        "outputId": "61c9dca4-b04e-47b5-e322-2110f37047bf",
        "collapsed": true
      },
      "outputs": [
        {
          "output_type": "stream",
          "name": "stdout",
          "text": [
            "Mounted at /content/drive\n"
          ]
        }
      ],
      "source": [
        "#mounting Google Drive to this Google Colab\n",
        "from google.colab import drive\n",
        "drive.mount('/content/drive', force_remount=True)\n",
        "\n",
        "#Connecting to the shared drive folder (NOTE: You must have a copy of this in your My Drive for this to work!!)\n",
        "team_folder = '/content/drive/My Drive/music_anthro_M2'\n",
        "\n",
        "#imports and such\n",
        "import os\n",
        "import json\n",
        "import pandas as pd\n",
        "import glob\n",
        "\n",
        "\n",
        "##This whole next chunk of code is for collecting and aggregating the data files for each year for musicbrainz and discogs\n",
        "  #Still need to add genuis and acousticbrainz once these are added to the music_data_unzipped file!!\n",
        "data_path = '/content/drive/My Drive/music_anthro_M2/music_data_unzipped'\n",
        "years = [f for f in os.listdir(data_path) if os.path.isdir(os.path.join(data_path, f))]\n",
        "\n",
        "#Opening and aggregating all discogs json files by year\n",
        "df_discogs_by_year = {}\n",
        "\n",
        "for year in years:\n",
        "    discogs_folder = os.path.join(data_path, year, 'discogs')\n",
        "    json_files = glob.glob(os.path.join(discogs_folder, '*.json'))\n",
        "\n",
        "    year_data = []\n",
        "    for f in json_files:\n",
        "        try:\n",
        "            with open(f, 'r', encoding='utf-8') as file:\n",
        "                content = json.load(file)\n",
        "                if isinstance(content, list):\n",
        "                    year_data.extend(content)\n",
        "                elif isinstance(content, dict):\n",
        "                    year_data.append(content)\n",
        "        except:\n",
        "            pass\n",
        "\n",
        "    if year_data:\n",
        "        df_discogs_by_year[year] = pd.DataFrame(year_data)\n",
        "\n",
        "#Opening and aggregating all musicbrainz json files by year\n",
        "df_musicbrainz_by_year = {}\n",
        "\n",
        "for year in years:\n",
        "    mb_folder = os.path.join(data_path, year, 'musicbrainz')\n",
        "    json_files = glob.glob(os.path.join(mb_folder, '*.json'))\n",
        "\n",
        "    all_records = []\n",
        "\n",
        "    for f in json_files:\n",
        "        try:\n",
        "            with open(f, 'r', encoding='utf-8') as file:\n",
        "                content = json.load(file)\n",
        "                if isinstance(content, dict) and 'recordings' in content:\n",
        "                    all_records.extend(content['recordings'])\n",
        "                elif isinstance(content, list):\n",
        "                    all_records.extend(content)\n",
        "                elif isinstance(content, dict):\n",
        "                    all_records.append(content)\n",
        "        except:\n",
        "            pass\n",
        "\n",
        "    if all_records:\n",
        "        df_musicbrainz_by_year[year] = pd.DataFrame(all_records)"
      ]
    }
  ]
}