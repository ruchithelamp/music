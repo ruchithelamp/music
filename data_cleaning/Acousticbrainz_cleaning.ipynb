{
 "cells": [
  {
   "cell_type": "code",
   "execution_count": 1,
   "id": "50b965fa-044a-4ed4-9f44-3817535ab9c7",
   "metadata": {},
   "outputs": [],
   "source": [
    "import pandas as pd\n",
    "\n",
    "#df1 = pd.read_csv('musicbrainz_2007_releases.csv', low_memory=False)\n",
    "#df2 = pd.read_csv('acousticBrainz__1.csv')\n",
    "df3 = pd.read_csv('csv_chunk_01__1.csv', low_memory=False)"
   ]
  },
  {
   "cell_type": "code",
   "execution_count": 12,
   "id": "e3ed8af7-daa5-49ba-81af-afaed331687e",
   "metadata": {},
   "outputs": [],
   "source": [
    "#print(df1.shape, '\\n', df3.shape)"
   ]
  },
  {
   "cell_type": "code",
   "execution_count": 13,
   "id": "106ca38b-f551-4409-941c-d6c0f22250fe",
   "metadata": {},
   "outputs": [],
   "source": [
    "#sample = df3[:15]"
   ]
  },
  {
   "cell_type": "code",
   "execution_count": 14,
   "id": "7d5b0219-dc8c-468a-bc35-89b99e91f5c5",
   "metadata": {},
   "outputs": [],
   "source": [
    "import re\n",
    "from datetime import datetime\n",
    "\n",
    "def extract_date_components(value):\n",
    "    \"\"\"Extract year, month, day from string representations of lists\"\"\"\n",
    "\n",
    "    if pd.isna(value) or value is None:\n",
    "        return None, None, None\n",
    "\n",
    "    value_str = str(value).strip()\n",
    "\n",
    "    if value_str.startswith(\"['\") and value_str.endswith(\"']\"):\n",
    "        date_str = value_str[2:-2]  # Remove ['  and  ']\n",
    "    else:\n",
    "        date_str = value_str\n",
    "\n",
    "    if len(date_str) == 4:\n",
    "        return int(date_str), None, None\n",
    "\n",
    "    else: \n",
    "        try:\n",
    "            parsed = datetime.strptime(date_str[:10], '%Y-%m-%d')\n",
    "            return parsed.year, parsed.month, parsed.day\n",
    "        except ValueError:\n",
    "            return None, None, None\n",
    "    \n",
    "    return None, None, None"
   ]
  },
  {
   "cell_type": "code",
   "execution_count": 15,
   "id": "98920176-c788-4566-a7aa-f306b831991c",
   "metadata": {},
   "outputs": [],
   "source": [
    "df3[['year', 'month', 'day']] = df3['metadata_tags_date'].apply(lambda x: pd.Series(extract_date_components(x)))"
   ]
  },
  {
   "cell_type": "code",
   "execution_count": 16,
   "id": "1a368e89-08f8-4060-b8cc-a4c46a24dbfb",
   "metadata": {},
   "outputs": [
    {
     "name": "stdout",
     "output_type": "stream",
     "text": [
      "0    1973.0\n",
      "1    1973.0\n",
      "2    1973.0\n",
      "3    1973.0\n",
      "4    1973.0\n",
      "5    1973.0\n",
      "6    1973.0\n",
      "7    1973.0\n",
      "8    1977.0\n",
      "9    1977.0\n",
      "Name: year, dtype: float64\n"
     ]
    },
    {
     "data": {
      "text/plain": [
       "dtype('float64')"
      ]
     },
     "execution_count": 16,
     "metadata": {},
     "output_type": "execute_result"
    }
   ],
   "source": [
    "print(df3['year'].iloc[:10])\n",
    "df3['year'].dtype"
   ]
  },
  {
   "cell_type": "code",
   "execution_count": 17,
   "id": "c65ef192-f53e-4e05-85d4-51ea9099f951",
   "metadata": {},
   "outputs": [
    {
     "name": "stdout",
     "output_type": "stream",
     "text": [
      "(18137, 94)\n"
     ]
    }
   ],
   "source": [
    "df3 = df3[df3['year'].isin([2007, 2008, 2009, 2020, 2025])]\n",
    "print(df3.shape)"
   ]
  },
  {
   "cell_type": "code",
   "execution_count": 18,
   "id": "e62878ff-2482-41a7-8052-48e2d606f5c5",
   "metadata": {},
   "outputs": [],
   "source": [
    "df3.columns = df3.columns.str.replace(r'^highlevel_', '', regex=True)"
   ]
  },
  {
   "cell_type": "markdown",
   "id": "2e82f502-6c87-4f09-b4b8-74987a0459e7",
   "metadata": {},
   "source": [
    "Looking at the remaining columns, we should probably recode all binary options to 0 and 1, with 1 being True and 0 being False.\n",
    "\n",
    "-seems to be some inconsistencies with the probabilites and the values ('danceability' has values of 1, but still marked 'undanceable'?)\n",
    "\n",
    "Can probably drop some metadata tags. From 'track_id' to 'metadata_tags_genre' has data, but 'metadata_tags_discsubtitle' to 'megadata_tags_albumtitle' are blank."
   ]
  },
  {
   "cell_type": "code",
   "execution_count": 20,
   "id": "f8840a2d-e972-4355-9587-4ee9add2d94b",
   "metadata": {},
   "outputs": [],
   "source": [
    "drop_list = ['metadata_tags_discsubtitle',\n",
    " 'metadata_tags_length',\n",
    " 'metadata_tags_album artist',\n",
    " 'metadata_tags_musicbrainz_albumartist',\n",
    " 'metadata_tags_musicbrainz_albumartistsortname',\n",
    " 'metadata_tags_musicbrainz_variousartists',\n",
    " 'metadata_tags_\\\\\"artist',\n",
    " 'metadata_tags_\\\\\"date',\n",
    " 'metadata_tags_\\\\\"genre',\n",
    " 'metadata_tags_\\\\\"title',\n",
    " 'metadata_tags_bpm',\n",
    " 'metadata_tags_releasedate',\n",
    " 'metadata_tags_retail date',\n",
    " 'metadata_tags_rip date',\n",
    " 'metadata_tags_origartist',\n",
    " 'metadata_tags_originalartist',\n",
    " 'metadata_tags_album_artist',\n",
    " 'metadata_tags_origdate',\n",
    " 'metadata_tags_date_added',\n",
    " 'metadata_tags_original date',\n",
    " 'metadata_tags_taggingdate',\n",
    " 'metadata_tags_quodlibet::albumartist',\n",
    " 'metadata_tags_setsubtitle',\n",
    " 'metadata_tags_subtitle',\n",
    " 'metadata_tags_artist_latin',\n",
    " 'metadata_tags_albumartist_latin',\n",
    " 'metadata_tags_title_latin',\n",
    " 'metadata_tags_artistsortorder',\n",
    " 'metadata_tags__albumartist_latin',\n",
    " 'metadata_tags__artist_latin',\n",
    " 'metadata_tags__titlelatin',\n",
    " 'metadata_tags_discogs_artist_link',\n",
    " 'metadata_tags_artist credit',\n",
    " 'metadata_tags_titlesort',\n",
    " 'metadata_tags_wwwartist',\n",
    " 'metadata_tags_musicbrainz album artist',\n",
    " 'metadata_tags_musicbrainz album artist sortname',\n",
    " 'metadata_tags_genretype',\n",
    " 'metadata_tags_originaldate',\n",
    " 'metadata_tags_dates',\n",
    " 'metadata_tags_albumtitle']\n",
    "\n",
    "df3.drop(columns=drop_list, inplace=True)"
   ]
  },
  {
   "cell_type": "code",
   "execution_count": 21,
   "id": "c9177bb5-e229-41a6-b84a-0b67c1f7abd0",
   "metadata": {},
   "outputs": [
    {
     "data": {
      "text/plain": [
       "(18137, 53)"
      ]
     },
     "execution_count": 21,
     "metadata": {},
     "output_type": "execute_result"
    }
   ],
   "source": [
    "df3.shape"
   ]
  },
  {
   "cell_type": "markdown",
   "id": "b951ad70-36c4-40ec-8e1a-8a8839db0f39",
   "metadata": {},
   "source": [
    "Binary columns: danceability_value, gender_value, mood_acoustic_value, mood_aggressive_value, mood_electronic_value, mood_happy_value, mood_party_value, mood_relaxed_value, mood_sad_value, timbre_value, tonal_atonal_value, voice_instrumental_value.\n",
    "\n",
    "For metadata_tags_: need to strip [''] for cleaner processing.-COMPLETED"
   ]
  },
  {
   "cell_type": "code",
   "execution_count": 23,
   "id": "d48640c8-b2ab-4a58-a3aa-d34a406d2de0",
   "metadata": {},
   "outputs": [],
   "source": [
    " strip_list = ['metadata_tags_albumartist',\n",
    " 'metadata_tags_musicbrainz_albumartistid',\n",
    " 'metadata_tags_albumartistsort',\n",
    " 'metadata_tags_artists',\n",
    " 'metadata_tags_artistsort',\n",
    " 'metadata_tags_musicbrainz_recordingid',\n",
    " 'metadata_tags_genre']\n",
    "\n",
    "def clean_strings(value):\n",
    "    if pd.isna(value) or value is None:\n",
    "        return None\n",
    "\n",
    "    value_str = str(value).strip()\n",
    "\n",
    "    if value_str.startswith(\"['\") and value_str.endswith(\"']\"):\n",
    "        return value_str[2:-2]  # Remove [' and ']\n",
    "    else:\n",
    "        return value_str\n",
    "\n",
    "# Apply function to each column in strip_list\n",
    "for col in strip_list:\n",
    "    df3[col] = df3[col].apply(clean_strings)"
   ]
  },
  {
   "cell_type": "code",
   "execution_count": 24,
   "id": "bb6c9ef9-3880-4925-97c5-a7a28ce7432d",
   "metadata": {},
   "outputs": [],
   "source": [
    "binary_map = {\n",
    "    'not_danceable': 1, 'danceable': 0,\n",
    "    'female': 1, 'male': 0,\n",
    "    'not_acoustic': 1, 'acoustic': 0,\n",
    "    'not_aggressive': 1, 'aggressive': 0,\n",
    "    'electronic': 1, 'not_electronic': 0,\n",
    "    'happy': 1, 'not_happy': 0,\n",
    "    'party': 1, 'not_party': 0,\n",
    "    'relaxed': 1, 'not_relaxed': 0,\n",
    "    'sad': 1, 'not_sad': 0,\n",
    "    'bright': 1, 'dark': 0,\n",
    "    'atonal': 1, 'tonal': 0,\n",
    "    'instrumental': 1, 'voice': 0\n",
    "}\n",
    "\n",
    "cols_to_binarize = ['danceability_value', 'gender_value', 'mood_acoustic_value', 'mood_aggressive_value',\n",
    "                    'mood_electronic_value', 'mood_happy_value', 'mood_party_value', 'mood_relaxed_value',\n",
    "                    'mood_sad_value', 'timbre_value', 'tonal_atonal_value', 'voice_instrumental_value']\n",
    "\n",
    "df3[cols_to_binarize] = df3[cols_to_binarize].replace(binary_map)"
   ]
  },
  {
   "cell_type": "code",
   "execution_count": 25,
   "id": "e54bb9c0-1dfa-432b-9cc3-e5f7c961abb5",
   "metadata": {},
   "outputs": [
    {
     "data": {
      "text/html": [
       "<div>\n",
       "<style scoped>\n",
       "    .dataframe tbody tr th:only-of-type {\n",
       "        vertical-align: middle;\n",
       "    }\n",
       "\n",
       "    .dataframe tbody tr th {\n",
       "        vertical-align: top;\n",
       "    }\n",
       "\n",
       "    .dataframe thead th {\n",
       "        text-align: right;\n",
       "    }\n",
       "</style>\n",
       "<table border=\"1\" class=\"dataframe\">\n",
       "  <thead>\n",
       "    <tr style=\"text-align: right;\">\n",
       "      <th></th>\n",
       "      <th>danceability_probability</th>\n",
       "      <th>danceability_value</th>\n",
       "      <th>gender_probability</th>\n",
       "      <th>gender_value</th>\n",
       "      <th>genre_dortmund_probability</th>\n",
       "      <th>genre_dortmund_value</th>\n",
       "      <th>genre_electronic_probability</th>\n",
       "      <th>genre_electronic_value</th>\n",
       "      <th>genre_rosamerica_probability</th>\n",
       "      <th>genre_rosamerica_value</th>\n",
       "      <th>...</th>\n",
       "      <th>track_id</th>\n",
       "      <th>metadata_tags_albumartist</th>\n",
       "      <th>metadata_tags_musicbrainz_albumartistid</th>\n",
       "      <th>metadata_tags_albumartistsort</th>\n",
       "      <th>metadata_tags_artists</th>\n",
       "      <th>metadata_tags_artistsort</th>\n",
       "      <th>metadata_tags_genre</th>\n",
       "      <th>year</th>\n",
       "      <th>month</th>\n",
       "      <th>day</th>\n",
       "    </tr>\n",
       "  </thead>\n",
       "  <tbody>\n",
       "    <tr>\n",
       "      <th>99962</th>\n",
       "      <td>0.938419</td>\n",
       "      <td>0</td>\n",
       "      <td>0.999645</td>\n",
       "      <td>1</td>\n",
       "      <td>0.983799</td>\n",
       "      <td>electronic</td>\n",
       "      <td>0.663520</td>\n",
       "      <td>ambient</td>\n",
       "      <td>0.678507</td>\n",
       "      <td>pop</td>\n",
       "      <td>...</td>\n",
       "      <td>05f302b5-863a-4c9f-8b75-cadd958e5556-0</td>\n",
       "      <td>佐々美 (民安 ともえ)</td>\n",
       "      <td>e0fc452e-da92-4917-852e-bfa14ec5f4b1', '91d180...</td>\n",
       "      <td>Sasasegawa, Sasami (民安ともえ)</td>\n",
       "      <td>佐々美', '民安 ともえ</td>\n",
       "      <td>Sasasegawa, Sasami (民安ともえ)</td>\n",
       "      <td>Little Busters, Comiket, C77</td>\n",
       "      <td>2009.0</td>\n",
       "      <td>12.0</td>\n",
       "      <td>29.0</td>\n",
       "    </tr>\n",
       "    <tr>\n",
       "      <th>99964</th>\n",
       "      <td>0.729671</td>\n",
       "      <td>1</td>\n",
       "      <td>0.994234</td>\n",
       "      <td>0</td>\n",
       "      <td>0.992211</td>\n",
       "      <td>electronic</td>\n",
       "      <td>0.603125</td>\n",
       "      <td>ambient</td>\n",
       "      <td>0.477018</td>\n",
       "      <td>pop</td>\n",
       "      <td>...</td>\n",
       "      <td>b1f60a30-66af-4ddd-8d67-e2bff0de05ea-0</td>\n",
       "      <td>Thomas Fersen</td>\n",
       "      <td>083a443a-dcba-4d48-aa62-fda1f130002f</td>\n",
       "      <td>Fersen, Thomas</td>\n",
       "      <td>None</td>\n",
       "      <td>Fersen, Thomas</td>\n",
       "      <td>Chanson Française</td>\n",
       "      <td>2008.0</td>\n",
       "      <td>9.0</td>\n",
       "      <td>8.0</td>\n",
       "    </tr>\n",
       "    <tr>\n",
       "      <th>99965</th>\n",
       "      <td>1.000000</td>\n",
       "      <td>1</td>\n",
       "      <td>0.622127</td>\n",
       "      <td>1</td>\n",
       "      <td>0.999965</td>\n",
       "      <td>electronic</td>\n",
       "      <td>0.926703</td>\n",
       "      <td>trance</td>\n",
       "      <td>0.713494</td>\n",
       "      <td>dan</td>\n",
       "      <td>...</td>\n",
       "      <td>50e488af-f31d-4222-a820-f65e100fc38b-0</td>\n",
       "      <td>佐々美 (民安 ともえ)</td>\n",
       "      <td>e0fc452e-da92-4917-852e-bfa14ec5f4b1', '91d180...</td>\n",
       "      <td>Sasasegawa, Sasami (民安ともえ)</td>\n",
       "      <td>佐々美', '民安 ともえ</td>\n",
       "      <td>Sasasegawa, Sasami (民安ともえ)</td>\n",
       "      <td>Little Busters, Comiket, C77</td>\n",
       "      <td>2009.0</td>\n",
       "      <td>12.0</td>\n",
       "      <td>29.0</td>\n",
       "    </tr>\n",
       "    <tr>\n",
       "      <th>99972</th>\n",
       "      <td>0.612141</td>\n",
       "      <td>0</td>\n",
       "      <td>0.993462</td>\n",
       "      <td>1</td>\n",
       "      <td>0.986113</td>\n",
       "      <td>electronic</td>\n",
       "      <td>0.692588</td>\n",
       "      <td>ambient</td>\n",
       "      <td>0.677026</td>\n",
       "      <td>pop</td>\n",
       "      <td>...</td>\n",
       "      <td>9854ec42-460b-4aef-a212-62875fa22a8a-0</td>\n",
       "      <td>佐々美 (民安 ともえ)</td>\n",
       "      <td>e0fc452e-da92-4917-852e-bfa14ec5f4b1', '91d180...</td>\n",
       "      <td>Sasasegawa, Sasami (民安ともえ)</td>\n",
       "      <td>佐々美', '民安 ともえ</td>\n",
       "      <td>Sasasegawa, Sasami (民安ともえ)</td>\n",
       "      <td>Little Busters, Comiket, C77</td>\n",
       "      <td>2009.0</td>\n",
       "      <td>12.0</td>\n",
       "      <td>29.0</td>\n",
       "    </tr>\n",
       "    <tr>\n",
       "      <th>99974</th>\n",
       "      <td>1.000000</td>\n",
       "      <td>1</td>\n",
       "      <td>0.622127</td>\n",
       "      <td>1</td>\n",
       "      <td>0.999984</td>\n",
       "      <td>electronic</td>\n",
       "      <td>0.976294</td>\n",
       "      <td>trance</td>\n",
       "      <td>0.971653</td>\n",
       "      <td>dan</td>\n",
       "      <td>...</td>\n",
       "      <td>885ed200-22ba-47ab-b800-1580fd71a520-0</td>\n",
       "      <td>佐々美 (民安 ともえ)</td>\n",
       "      <td>e0fc452e-da92-4917-852e-bfa14ec5f4b1', '91d180...</td>\n",
       "      <td>Sasasegawa, Sasami (民安ともえ)</td>\n",
       "      <td>佐々美', '民安 ともえ</td>\n",
       "      <td>Sasasegawa, Sasami (民安ともえ)</td>\n",
       "      <td>Little Busters, Comiket, C77</td>\n",
       "      <td>2009.0</td>\n",
       "      <td>12.0</td>\n",
       "      <td>29.0</td>\n",
       "    </tr>\n",
       "  </tbody>\n",
       "</table>\n",
       "<p>5 rows × 53 columns</p>\n",
       "</div>"
      ],
      "text/plain": [
       "       danceability_probability  danceability_value  gender_probability  \\\n",
       "99962                  0.938419                   0            0.999645   \n",
       "99964                  0.729671                   1            0.994234   \n",
       "99965                  1.000000                   1            0.622127   \n",
       "99972                  0.612141                   0            0.993462   \n",
       "99974                  1.000000                   1            0.622127   \n",
       "\n",
       "       gender_value  genre_dortmund_probability genre_dortmund_value  \\\n",
       "99962             1                    0.983799           electronic   \n",
       "99964             0                    0.992211           electronic   \n",
       "99965             1                    0.999965           electronic   \n",
       "99972             1                    0.986113           electronic   \n",
       "99974             1                    0.999984           electronic   \n",
       "\n",
       "       genre_electronic_probability genre_electronic_value  \\\n",
       "99962                      0.663520                ambient   \n",
       "99964                      0.603125                ambient   \n",
       "99965                      0.926703                 trance   \n",
       "99972                      0.692588                ambient   \n",
       "99974                      0.976294                 trance   \n",
       "\n",
       "       genre_rosamerica_probability genre_rosamerica_value  ...  \\\n",
       "99962                      0.678507                    pop  ...   \n",
       "99964                      0.477018                    pop  ...   \n",
       "99965                      0.713494                    dan  ...   \n",
       "99972                      0.677026                    pop  ...   \n",
       "99974                      0.971653                    dan  ...   \n",
       "\n",
       "                                     track_id metadata_tags_albumartist  \\\n",
       "99962  05f302b5-863a-4c9f-8b75-cadd958e5556-0              佐々美 (民安 ともえ)   \n",
       "99964  b1f60a30-66af-4ddd-8d67-e2bff0de05ea-0             Thomas Fersen   \n",
       "99965  50e488af-f31d-4222-a820-f65e100fc38b-0              佐々美 (民安 ともえ)   \n",
       "99972  9854ec42-460b-4aef-a212-62875fa22a8a-0              佐々美 (民安 ともえ)   \n",
       "99974  885ed200-22ba-47ab-b800-1580fd71a520-0              佐々美 (民安 ともえ)   \n",
       "\n",
       "                 metadata_tags_musicbrainz_albumartistid  \\\n",
       "99962  e0fc452e-da92-4917-852e-bfa14ec5f4b1', '91d180...   \n",
       "99964               083a443a-dcba-4d48-aa62-fda1f130002f   \n",
       "99965  e0fc452e-da92-4917-852e-bfa14ec5f4b1', '91d180...   \n",
       "99972  e0fc452e-da92-4917-852e-bfa14ec5f4b1', '91d180...   \n",
       "99974  e0fc452e-da92-4917-852e-bfa14ec5f4b1', '91d180...   \n",
       "\n",
       "      metadata_tags_albumartistsort  metadata_tags_artists  \\\n",
       "99962    Sasasegawa, Sasami (民安ともえ)          佐々美', '民安 ともえ   \n",
       "99964                Fersen, Thomas                   None   \n",
       "99965    Sasasegawa, Sasami (民安ともえ)          佐々美', '民安 ともえ   \n",
       "99972    Sasasegawa, Sasami (民安ともえ)          佐々美', '民安 ともえ   \n",
       "99974    Sasasegawa, Sasami (民安ともえ)          佐々美', '民安 ともえ   \n",
       "\n",
       "         metadata_tags_artistsort           metadata_tags_genre    year  \\\n",
       "99962  Sasasegawa, Sasami (民安ともえ)  Little Busters, Comiket, C77  2009.0   \n",
       "99964              Fersen, Thomas             Chanson Française  2008.0   \n",
       "99965  Sasasegawa, Sasami (民安ともえ)  Little Busters, Comiket, C77  2009.0   \n",
       "99972  Sasasegawa, Sasami (民安ともえ)  Little Busters, Comiket, C77  2009.0   \n",
       "99974  Sasasegawa, Sasami (民安ともえ)  Little Busters, Comiket, C77  2009.0   \n",
       "\n",
       "       month   day  \n",
       "99962   12.0  29.0  \n",
       "99964    9.0   8.0  \n",
       "99965   12.0  29.0  \n",
       "99972   12.0  29.0  \n",
       "99974   12.0  29.0  \n",
       "\n",
       "[5 rows x 53 columns]"
      ]
     },
     "execution_count": 25,
     "metadata": {},
     "output_type": "execute_result"
    }
   ],
   "source": [
    "df3.tail()"
   ]
  },
  {
   "cell_type": "code",
   "execution_count": 44,
   "id": "7ee316b5-bfb7-4a39-b7a0-c048f93defee",
   "metadata": {},
   "outputs": [],
   "source": [
    "#print(df3['metadata_tags_musicbrainz_recordingid'].iloc[:3]) # Might be equal to 'release_id'"
   ]
  },
  {
   "cell_type": "code",
   "execution_count": 46,
   "id": "fe8b46e5-261a-4927-916f-062cf8f8408c",
   "metadata": {},
   "outputs": [],
   "source": [
    "#print(df3['track_id'].iloc[:3]) # Same number but missing end-# for recording_id  "
   ]
  },
  {
   "cell_type": "code",
   "execution_count": 48,
   "id": "4287a5a1-dc5b-45e4-a144-3b5b60cedf62",
   "metadata": {},
   "outputs": [],
   "source": [
    "df3.to_csv('acousticbrainz_cleaned.csv')"
   ]
  },
  {
   "cell_type": "code",
   "execution_count": null,
   "id": "084166b0-ccb5-4bad-acc5-414ce421a4b9",
   "metadata": {},
   "outputs": [],
   "source": []
  }
 ],
 "metadata": {
  "kernelspec": {
   "display_name": "Python 3 (ipykernel)",
   "language": "python",
   "name": "python3"
  },
  "language_info": {
   "codemirror_mode": {
    "name": "ipython",
    "version": 3
   },
   "file_extension": ".py",
   "mimetype": "text/x-python",
   "name": "python",
   "nbconvert_exporter": "python",
   "pygments_lexer": "ipython3",
   "version": "3.11.5"
  }
 },
 "nbformat": 4,
 "nbformat_minor": 5
}
