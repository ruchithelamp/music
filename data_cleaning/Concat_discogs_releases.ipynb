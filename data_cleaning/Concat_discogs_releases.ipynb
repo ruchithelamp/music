{
 "cells": [
  {
   "cell_type": "code",
   "execution_count": 2,
   "id": "65fe276a",
   "metadata": {},
   "outputs": [],
   "source": [
    "import tqdm\n",
    "import pandas as pd\n",
    "import os \n",
    "\n",
    "df1 = pd.read_csv('/home/smacieje/data/discogs_2007_releases.csv', low_memory=False)\n",
    "df2 = pd.read_csv('/home/smacieje/data/discogs_2008_releases.csv', low_memory=False)\n",
    "df3 = pd.read_csv('/home/smacieje/data/discogs_2009_releases.csv', low_memory=False)\n",
    "df4 = pd.read_csv('/home/smacieje/data/discogs_2020_releases.csv', low_memory=False)\n",
    "df5 = pd.read_csv('/home/smacieje/data/discogs_2025_releases.csv', low_memory=False)"
   ]
  },
  {
   "cell_type": "code",
   "execution_count": 3,
   "id": "f8c381e2",
   "metadata": {},
   "outputs": [
    {
     "data": {
      "text/plain": [
       "(50000, 9)"
      ]
     },
     "execution_count": 3,
     "metadata": {},
     "output_type": "execute_result"
    }
   ],
   "source": [
    "concated = pd.concat([df1, df2, df3, df4, df5], ignore_index=True)\n",
    "concated.shape"
   ]
  },
  {
   "cell_type": "code",
   "execution_count": 4,
   "id": "387c024c",
   "metadata": {},
   "outputs": [],
   "source": [
    "concated = concated.rename(columns={'album_title':'album'})"
   ]
  },
  {
   "cell_type": "code",
   "execution_count": 5,
   "id": "89de8b5a",
   "metadata": {},
   "outputs": [],
   "source": [
    "concated.insert(3, \"title\", None)\n",
    "concated.insert(10, \"lyrics\", None)"
   ]
  },
  {
   "cell_type": "code",
   "execution_count": 8,
   "id": "121d2e56",
   "metadata": {},
   "outputs": [],
   "source": [
    "concated.drop_duplicates(subset=['release_id'], keep='first', inplace=True, ignore_index=True)"
   ]
  },
  {
   "cell_type": "code",
   "execution_count": 11,
   "id": "64b3e558",
   "metadata": {},
   "outputs": [
    {
     "name": "stdout",
     "output_type": "stream",
     "text": [
      "<class 'pandas.core.frame.DataFrame'>\n",
      "RangeIndex: 41847 entries, 0 to 41846\n",
      "Data columns (total 11 columns):\n",
      " #   Column      Non-Null Count  Dtype  \n",
      "---  ------      --------------  -----  \n",
      " 0   release_id  41847 non-null  int64  \n",
      " 1   album       41845 non-null  object \n",
      " 2   artist      41846 non-null  object \n",
      " 3   title       0 non-null      object \n",
      " 4   year        41847 non-null  int64  \n",
      " 5   country     41847 non-null  object \n",
      " 6   duration    0 non-null      float64\n",
      " 7   genre       41845 non-null  object \n",
      " 8   style       36584 non-null  object \n",
      " 9   source      41847 non-null  object \n",
      " 10  lyrics      0 non-null      object \n",
      "dtypes: float64(1), int64(2), object(8)\n",
      "memory usage: 3.5+ MB\n"
     ]
    }
   ],
   "source": [
    "concated.info()"
   ]
  },
  {
   "cell_type": "code",
   "execution_count": 15,
   "id": "14c532ec",
   "metadata": {},
   "outputs": [],
   "source": [
    "concated.to_csv('/home/smacieje/data/all_discogs_releases_concated.csv')"
   ]
  },
  {
   "cell_type": "code",
   "execution_count": 16,
   "id": "1d47d23c",
   "metadata": {},
   "outputs": [
    {
     "data": {
      "text/html": [
       "<div>\n",
       "<style scoped>\n",
       "    .dataframe tbody tr th:only-of-type {\n",
       "        vertical-align: middle;\n",
       "    }\n",
       "\n",
       "    .dataframe tbody tr th {\n",
       "        vertical-align: top;\n",
       "    }\n",
       "\n",
       "    .dataframe thead th {\n",
       "        text-align: right;\n",
       "    }\n",
       "</style>\n",
       "<table border=\"1\" class=\"dataframe\">\n",
       "  <thead>\n",
       "    <tr style=\"text-align: right;\">\n",
       "      <th></th>\n",
       "      <th>release_id</th>\n",
       "      <th>album</th>\n",
       "      <th>artist</th>\n",
       "      <th>title</th>\n",
       "      <th>year</th>\n",
       "      <th>country</th>\n",
       "      <th>duration</th>\n",
       "      <th>genre</th>\n",
       "      <th>style</th>\n",
       "      <th>source</th>\n",
       "      <th>lyrics</th>\n",
       "    </tr>\n",
       "  </thead>\n",
       "  <tbody>\n",
       "    <tr>\n",
       "      <th>0</th>\n",
       "      <td>5150648</td>\n",
       "      <td>Rhythms From A Cosmic Sky</td>\n",
       "      <td>Earthless</td>\n",
       "      <td>None</td>\n",
       "      <td>2007</td>\n",
       "      <td>US</td>\n",
       "      <td>NaN</td>\n",
       "      <td>Rock</td>\n",
       "      <td>Psychedelic Rock</td>\n",
       "      <td>discogs</td>\n",
       "      <td>None</td>\n",
       "    </tr>\n",
       "    <tr>\n",
       "      <th>1</th>\n",
       "      <td>1020690</td>\n",
       "      <td>Splurt</td>\n",
       "      <td>Landslide vs. Slaughtermob*</td>\n",
       "      <td>None</td>\n",
       "      <td>2007</td>\n",
       "      <td>UK</td>\n",
       "      <td>NaN</td>\n",
       "      <td>Electronic</td>\n",
       "      <td>Grime, Dubstep</td>\n",
       "      <td>discogs</td>\n",
       "      <td>None</td>\n",
       "    </tr>\n",
       "    <tr>\n",
       "      <th>2</th>\n",
       "      <td>1081258</td>\n",
       "      <td>The Way Of The Exploding Fist</td>\n",
       "      <td>The Outside Agency</td>\n",
       "      <td>None</td>\n",
       "      <td>2007</td>\n",
       "      <td>Netherlands</td>\n",
       "      <td>NaN</td>\n",
       "      <td>Electronic</td>\n",
       "      <td>Hardcore</td>\n",
       "      <td>discogs</td>\n",
       "      <td>None</td>\n",
       "    </tr>\n",
       "    <tr>\n",
       "      <th>3</th>\n",
       "      <td>1117995</td>\n",
       "      <td>Diana (The Herald)</td>\n",
       "      <td>Blank Dogs</td>\n",
       "      <td>None</td>\n",
       "      <td>2007</td>\n",
       "      <td>US</td>\n",
       "      <td>NaN</td>\n",
       "      <td>Rock</td>\n",
       "      <td>Lo-Fi, Experimental</td>\n",
       "      <td>discogs</td>\n",
       "      <td>None</td>\n",
       "    </tr>\n",
       "    <tr>\n",
       "      <th>4</th>\n",
       "      <td>1093984</td>\n",
       "      <td>Non Standard Institute Plays Non Standards</td>\n",
       "      <td>nsi.*</td>\n",
       "      <td>None</td>\n",
       "      <td>2007</td>\n",
       "      <td>Finland</td>\n",
       "      <td>NaN</td>\n",
       "      <td>Electronic</td>\n",
       "      <td>Modern Classical, Minimal</td>\n",
       "      <td>discogs</td>\n",
       "      <td>None</td>\n",
       "    </tr>\n",
       "  </tbody>\n",
       "</table>\n",
       "</div>"
      ],
      "text/plain": [
       "   release_id                                       album  \\\n",
       "0     5150648                   Rhythms From A Cosmic Sky   \n",
       "1     1020690                                      Splurt   \n",
       "2     1081258               The Way Of The Exploding Fist   \n",
       "3     1117995                          Diana (The Herald)   \n",
       "4     1093984  Non Standard Institute Plays Non Standards   \n",
       "\n",
       "                        artist title  year      country  duration       genre  \\\n",
       "0                    Earthless  None  2007           US       NaN        Rock   \n",
       "1  Landslide vs. Slaughtermob*  None  2007           UK       NaN  Electronic   \n",
       "2           The Outside Agency  None  2007  Netherlands       NaN  Electronic   \n",
       "3                   Blank Dogs  None  2007           US       NaN        Rock   \n",
       "4                        nsi.*  None  2007      Finland       NaN  Electronic   \n",
       "\n",
       "                       style   source lyrics  \n",
       "0           Psychedelic Rock  discogs   None  \n",
       "1             Grime, Dubstep  discogs   None  \n",
       "2                   Hardcore  discogs   None  \n",
       "3        Lo-Fi, Experimental  discogs   None  \n",
       "4  Modern Classical, Minimal  discogs   None  "
      ]
     },
     "execution_count": 16,
     "metadata": {},
     "output_type": "execute_result"
    }
   ],
   "source": [
    "concated.head()"
   ]
  }
 ],
 "metadata": {
  "kernelspec": {
   "display_name": "Python 3 (ipykernel)",
   "language": "python",
   "name": "python3"
  },
  "language_info": {
   "codemirror_mode": {
    "name": "ipython",
    "version": 3
   },
   "file_extension": ".py",
   "mimetype": "text/x-python",
   "name": "python",
   "nbconvert_exporter": "python",
   "pygments_lexer": "ipython3",
   "version": "3.9.7"
  }
 },
 "nbformat": 4,
 "nbformat_minor": 5
}
