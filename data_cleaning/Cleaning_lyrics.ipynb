{
 "cells": [
  {
   "cell_type": "markdown",
   "id": "9ca29d19-4d3b-4d0b-a4d8-f1e522e4fe03",
   "metadata": {},
   "source": [
    "Data cleaning for lyrics. This is to apply language detection and '[]' bracket removal to a dataframe which already has lyrics, and further apply tokenization and sentiment scoring.\n",
    "\n",
    "Works well, need to convert to .py script"
   ]
  },
  {
   "cell_type": "code",
   "execution_count": null,
   "id": "4848fcb2-97b8-4d02-8b7e-f2418b0338e0",
   "metadata": {},
   "outputs": [],
   "source": [
    "# Cleaning:\n",
    "# Not all songs same length\n",
    "# Not all have [Verse 1] or [Intro] as start\n",
    "# -if using '[' as strip point\n",
    "# -if not, can use 'Lyrics' as strip point\n",
    "# if neither, leave it, and list locations (to check results)\n",
    "# If they have a '[' in the lyrics, strip up to the first one\n",
    "# words with dashes '-' or in parentheses '()' or #\n",
    "# words in other languages\n",
    "\n",
    "# Custom STOP words\n",
    "# [Intro, Chorus, Verse #, Bridge, Interlude, x#, Pre-Chorus]"
   ]
  },
  {
   "cell_type": "code",
   "execution_count": 1,
   "id": "946ac405-8e00-47bb-a5f7-8eba1531a1ab",
   "metadata": {},
   "outputs": [
    {
     "data": {
      "text/html": [
       "<div>\n",
       "<style scoped>\n",
       "    .dataframe tbody tr th:only-of-type {\n",
       "        vertical-align: middle;\n",
       "    }\n",
       "\n",
       "    .dataframe tbody tr th {\n",
       "        vertical-align: top;\n",
       "    }\n",
       "\n",
       "    .dataframe thead th {\n",
       "        text-align: right;\n",
       "    }\n",
       "</style>\n",
       "<table border=\"1\" class=\"dataframe\">\n",
       "  <thead>\n",
       "    <tr style=\"text-align: right;\">\n",
       "      <th></th>\n",
       "      <th>release_id</th>\n",
       "      <th>album_title</th>\n",
       "      <th>track_title</th>\n",
       "      <th>track_position</th>\n",
       "      <th>duration</th>\n",
       "      <th>year</th>\n",
       "      <th>country</th>\n",
       "      <th>genre</th>\n",
       "      <th>style</th>\n",
       "      <th>artist</th>\n",
       "      <th>source</th>\n",
       "      <th>lyrics</th>\n",
       "    </tr>\n",
       "  </thead>\n",
       "  <tbody>\n",
       "    <tr>\n",
       "      <th>0</th>\n",
       "      <td>NaN</td>\n",
       "      <td>TiK ToK</td>\n",
       "      <td>TiK ToK</td>\n",
       "      <td>NaN</td>\n",
       "      <td>3:20</td>\n",
       "      <td>2009</td>\n",
       "      <td>US</td>\n",
       "      <td>Pop</td>\n",
       "      <td>NaN</td>\n",
       "      <td>Kesha</td>\n",
       "      <td>NaN</td>\n",
       "      <td>Wake up in the mornin’ feelin’ like P. Diddy (...</td>\n",
       "    </tr>\n",
       "    <tr>\n",
       "      <th>1</th>\n",
       "      <td>NaN</td>\n",
       "      <td>Ur So Gay</td>\n",
       "      <td>Ur So Gay</td>\n",
       "      <td>NaN</td>\n",
       "      <td>3:39</td>\n",
       "      <td>2007</td>\n",
       "      <td>US</td>\n",
       "      <td>Pop</td>\n",
       "      <td>NaN</td>\n",
       "      <td>Katy Perry</td>\n",
       "      <td>NaN</td>\n",
       "      <td>NaN</td>\n",
       "    </tr>\n",
       "    <tr>\n",
       "      <th>2</th>\n",
       "      <td>NaN</td>\n",
       "      <td>Ur So Gay</td>\n",
       "      <td>Use Your Love</td>\n",
       "      <td>NaN</td>\n",
       "      <td>3:03</td>\n",
       "      <td>2007</td>\n",
       "      <td>US</td>\n",
       "      <td>Pop</td>\n",
       "      <td>NaN</td>\n",
       "      <td>Katy Perry</td>\n",
       "      <td>NaN</td>\n",
       "      <td>NaN</td>\n",
       "    </tr>\n",
       "    <tr>\n",
       "      <th>3</th>\n",
       "      <td>NaN</td>\n",
       "      <td>Ur So Gay</td>\n",
       "      <td>Lost</td>\n",
       "      <td>NaN</td>\n",
       "      <td>4:20</td>\n",
       "      <td>2007</td>\n",
       "      <td>US</td>\n",
       "      <td>Pop</td>\n",
       "      <td>NaN</td>\n",
       "      <td>Katy Perry</td>\n",
       "      <td>NaN</td>\n",
       "      <td>NaN</td>\n",
       "    </tr>\n",
       "    <tr>\n",
       "      <th>4</th>\n",
       "      <td>NaN</td>\n",
       "      <td>One Of The Boys</td>\n",
       "      <td>One Of The Boys</td>\n",
       "      <td>NaN</td>\n",
       "      <td>4:07</td>\n",
       "      <td>2008</td>\n",
       "      <td>US</td>\n",
       "      <td>Pop</td>\n",
       "      <td>NaN</td>\n",
       "      <td>Katy Perry</td>\n",
       "      <td>NaN</td>\n",
       "      <td>[Intro]\\nDo-do-do\\nDo-do-do-do-do-do\\nDo-do-do...</td>\n",
       "    </tr>\n",
       "  </tbody>\n",
       "</table>\n",
       "</div>"
      ],
      "text/plain": [
       "   release_id      album_title      track_title  track_position duration  \\\n",
       "0         NaN          TiK ToK          TiK ToK             NaN     3:20   \n",
       "1         NaN        Ur So Gay        Ur So Gay             NaN     3:39   \n",
       "2         NaN        Ur So Gay    Use Your Love             NaN     3:03   \n",
       "3         NaN        Ur So Gay             Lost             NaN     4:20   \n",
       "4         NaN  One Of The Boys  One Of The Boys             NaN     4:07   \n",
       "\n",
       "   year country genre  style      artist  source  \\\n",
       "0  2009      US   Pop    NaN       Kesha     NaN   \n",
       "1  2007      US   Pop    NaN  Katy Perry     NaN   \n",
       "2  2007      US   Pop    NaN  Katy Perry     NaN   \n",
       "3  2007      US   Pop    NaN  Katy Perry     NaN   \n",
       "4  2008      US   Pop    NaN  Katy Perry     NaN   \n",
       "\n",
       "                                              lyrics  \n",
       "0  Wake up in the mornin’ feelin’ like P. Diddy (...  \n",
       "1                                                NaN  \n",
       "2                                                NaN  \n",
       "3                                                NaN  \n",
       "4  [Intro]\\nDo-do-do\\nDo-do-do-do-do-do\\nDo-do-do...  "
      ]
     },
     "execution_count": 1,
     "metadata": {},
     "output_type": "execute_result"
    }
   ],
   "source": [
    "import pandas as pd\n",
    "import langdetect\n",
    "\n",
    "df = pd.read_csv(\"Recession_artists.csv\", low_memory=False)\n",
    "#df.drop(columns='lyrics_found')\n",
    "#df.drop(columns='Unnamed: 0', inplace=True)\n",
    "df.head()"
   ]
  },
  {
   "cell_type": "code",
   "execution_count": 3,
   "id": "c6916551-53b5-44d7-8cb9-b2736d500206",
   "metadata": {},
   "outputs": [],
   "source": [
    "from langdetect import detect\n",
    "def safe_detect(text):\n",
    "    try:\n",
    "        return detect(text)\n",
    "    except:\n",
    "        return \"unknown\"\n",
    "\n",
    "df['language'] = df['lyrics'].apply(safe_detect)"
   ]
  },
  {
   "cell_type": "code",
   "execution_count": null,
   "id": "99fce29c-6a19-4e87-b474-9ce51d0d6919",
   "metadata": {},
   "outputs": [],
   "source": [
    "df_subset = df[df['lyrics'].notna()].copy()\n",
    "df_subset.shape"
   ]
  },
  {
   "cell_type": "code",
   "execution_count": null,
   "id": "fecd9845-2fbb-4a4f-93bd-c8b3682f7b15",
   "metadata": {},
   "outputs": [],
   "source": [
    "# may need to alter this choice, as there are multi-lingual tracks ending up in here\n",
    "df_subset = df_subset[df_subset['language'] == 'en'].reindex()\n",
    "df_subset.shape"
   ]
  },
  {
   "cell_type": "code",
   "execution_count": null,
   "id": "ded1353b-64a3-4490-8dae-9e404c9d743a",
   "metadata": {},
   "outputs": [],
   "source": [
    "# Pre-check of troublemakers\n",
    "print(df_subset['lyrics'].iloc[1], '\\n-----')\n",
    "print(df_subset['lyrics'].iloc[30], '\\n-----')\n",
    "print(df_subset['lyrics'].iloc[40], '\\n-----')\n",
    "print(df_subset['lyrics'].iloc[50], '\\n-----')\n",
    "print(df_subset['lyrics'].iloc[80])"
   ]
  },
  {
   "cell_type": "code",
   "execution_count": 5,
   "id": "af9752df-c46d-4942-a0ca-b6e6c7cf0628",
   "metadata": {},
   "outputs": [],
   "source": [
    "import re\n",
    "\n",
    "unmatched_lyrics = []\n",
    "\n",
    "def clean_lyrics(text):\n",
    "    if pd.isna(text):\n",
    "        return text\n",
    "    match = re.search(r'\\[.*?\\]', text)\n",
    "    match1 = re.search(r'Lyrics', text)\n",
    "    if match:\n",
    "        return text[match.start():].strip()\n",
    "    elif match1:\n",
    "        return text[match1.end():].strip()\n",
    "    else:\n",
    "        unmatched_lyrics.append(text)\n",
    "        return text.strip()  # Return original text if no bracketed section\n",
    "\n",
    "#df_subset['clean_lyrics'] = df_subset['lyrics'].apply(clean_lyrics)\n",
    "df['clean_lyrics'] = df['lyrics'].apply(clean_lyrics)"
   ]
  },
  {
   "cell_type": "code",
   "execution_count": null,
   "id": "4409088b-bfbc-4f1e-8be3-e1b13bd7e69b",
   "metadata": {},
   "outputs": [],
   "source": [
    "# Re-check to confirm the troublemakers were cleaned\n",
    "print(\"Number of tracks that don't meet either condition:\", len(unmatched_lyrics))\n",
    "print(df_subset['clean_lyrics'].iloc[1], '\\n-----')\n",
    "print(df_subset['clean_lyrics'].iloc[30], '\\n-----')\n",
    "print(df_subset['clean_lyrics'].iloc[40], '\\n-----')\n",
    "print(df_subset['clean_lyrics'].iloc[50], '\\n-----')\n",
    "print(df_subset['clean_lyrics'].iloc[80])"
   ]
  },
  {
   "cell_type": "code",
   "execution_count": 21,
   "id": "337765e9-2089-4259-88fc-73e2d07991b7",
   "metadata": {},
   "outputs": [
    {
     "name": "stdout",
     "output_type": "stream",
     "text": [
      "Found 73 unique bracketed phrases:\n",
      "['[Break: Britney Spears]', '[Break]', '[Breakdown: Britney Spears & Avant]', '[Breakdown: Lady Gaga]', '[Breakdown]', '[Bridge: Britney Spears & Danja]', '[Bridge: Britney Spears]', '[Bridge: Danja & Britney Spears]', '[Bridge: Lady Gaga & Akon]', '[Bridge: Lady Gaga, Beyoncé & Both]', '[Bridge: Lady Gaga]', '[Bridge]', '[Chorus 1]', '[Chorus 2]', '[Chorus: Britney Spears & Danja]', '[Chorus: Britney Spears, Bloodshy & Robyn]', '[Chorus: Britney Spears]', '[Chorus: Danja & Britney Spears]', '[Chorus: Lady Gaga & Akon]', '[Chorus: Lady Gaga & Beyoncé, Lady Gaga]', '[Chorus: Lady Gaga & Space Cowboy]', '[Chorus: Lady Gaga]', '[Chorus: Lyrica Anderson]', '[Chorus]', '[Instrumental Break]', '[Interlude: Akon]', '[Interlude: Britney Spears & Danja]', '[Interlude]', '[Intro: Annie Lennox]', '[Intro: Avant]', '[Intro: Britney Spears]', '[Intro: Danja & Britney Spears]', '[Intro: Danja]', '[Intro: Lady Gaga & Akon]', '[Intro: Lady Gaga]', '[Intro]', '[Outro: Britney Spears & Annie Lennox]', '[Outro: Britney Spears & Avant]', '[Outro: Danja]', '[Outro: Space Cowboy]', '[Outro]', '[Post-Chorus: Avant]', '[Post-Chorus: Britney Spears & Danja]', '[Post-Chorus: Britney Spears]', '[Post-Chorus: Lady Gaga & Beyoncé]', '[Post-Chorus: Lady Gaga]', '[Post-Chorus]', '[Pre Chorus]', '[Pre-Chorus: Britney Spears]', '[Pre-Chorus: Lady Gaga & Akon]', '[Pre-Chorus]', '[Refrain: Lady Gaga & Space Cowboy]', '[Refrain: Lady Gaga]', '[Refrain]', '[Spoken Bridge]', '[Spoken Interlude]', '[Spoken]', '[Verse 1: Britney Spears & Robyn]', '[Verse 1: Britney Spears]', '[Verse 1: Lady Gaga & Akon]', '[Verse 1: Lady Gaga]', '[Verse 1]', '[Verse 2: Beyoncé]', '[Verse 2: Britney Spears & Robyn]', '[Verse 2: Britney Spears]', '[Verse 2: Flo Rida]', '[Verse 2: Lady Gaga & Akon]', '[Verse 2]', \"[Verse 3: Colby O'Donis & Akon]\", '[Verse 3: Danja & Britney Spears]', '[Verse 3]', '[Verse 4]', '[Verse]']\n"
     ]
    }
   ],
   "source": [
    "# Need to create a list of all bracketed words for unique stopword list\n",
    "unique_brackets = set().union(*df['clean_lyrics'].dropna().apply(\n",
    "    lambda x: set(re.findall(r'\\[.*?\\]', x))\n",
    "))\n",
    "\n",
    "print(f\"Found {len(unique_brackets)} unique bracketed phrases:\")\n",
    "print(sorted(unique_brackets))"
   ]
  },
  {
   "cell_type": "code",
   "execution_count": 23,
   "id": "b734a732-0df8-4dba-9bef-5cf89200dcf3",
   "metadata": {},
   "outputs": [],
   "source": [
    "# oookay, looks like it will be better to remove them instead to have clean lyrics to work with.\n",
    "# Now we need to figure out how to discard repetitions in lyrics, since they don't add anything to \n",
    "# change the sentiment or understanding.\n",
    "\n",
    "df['clean_lyrics'] = (\n",
    "    df['clean_lyrics']\n",
    "    .str.replace(r'\\[.*?\\]', '', regex=True)         # Remove all bracketed phrases\n",
    "    .str.replace(r'\\s+', ' ', regex=True)            # Normalize extra spaces\n",
    "    .str.strip()                                     # Trim leading/trailing spaces\n",
    ")"
   ]
  },
  {
   "cell_type": "code",
   "execution_count": 25,
   "id": "c4bf2a33-80c3-4f42-962d-abfe7828ac58",
   "metadata": {},
   "outputs": [
    {
     "name": "stdout",
     "output_type": "stream",
     "text": [
      "Found 0 bracketed phrases:\n",
      "[]\n"
     ]
    }
   ],
   "source": [
    "# Double-check that it worked\n",
    "check_brackets = set().union(*df['clean_lyrics'].dropna().apply(\n",
    "    lambda x: set(re.findall(r'\\[.*?\\]', x))\n",
    "))\n",
    "\n",
    "print(f\"Found {len(check_brackets)} bracketed phrases:\")\n",
    "print(sorted(check_brackets))"
   ]
  },
  {
   "cell_type": "code",
   "execution_count": 33,
   "id": "babfe867-485a-409a-a6fe-f66f6825c38d",
   "metadata": {},
   "outputs": [],
   "source": []
  }
 ],
 "metadata": {
  "kernelspec": {
   "display_name": "Python 3 (ipykernel)",
   "language": "python",
   "name": "python3"
  },
  "language_info": {
   "codemirror_mode": {
    "name": "ipython",
    "version": 3
   },
   "file_extension": ".py",
   "mimetype": "text/x-python",
   "name": "python",
   "nbconvert_exporter": "python",
   "pygments_lexer": "ipython3",
   "version": "3.11.5"
  }
 },
 "nbformat": 4,
 "nbformat_minor": 5
}
