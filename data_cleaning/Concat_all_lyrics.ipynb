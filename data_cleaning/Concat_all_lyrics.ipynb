{
 "cells": [
  {
   "cell_type": "code",
   "execution_count": 1,
   "id": "ba090dc7",
   "metadata": {},
   "outputs": [],
   "source": [
    "#pip install langdetect, gensim, transformers, torch, tensorflow"
   ]
  },
  {
   "cell_type": "code",
   "execution_count": 3,
   "id": "10340548",
   "metadata": {},
   "outputs": [],
   "source": [
    "import pandas as pd\n",
    "#import gensim\n",
    "#from transformers import pipeline\n",
    "#from tqdm import tqdm\n",
    "\n",
    "df1 = pd.read_csv('/home/smacieje/data/all_discogs_lyrics_concated.csv', low_memory=False)\n",
    "df2 = pd.read_csv('/home/smacieje/data/concat_musicbrainz_lyrics.csv', low_memory=False)"
   ]
  },
  {
   "cell_type": "code",
   "execution_count": 4,
   "id": "15108b55",
   "metadata": {},
   "outputs": [],
   "source": [
    "df1.drop(columns=['Unnamed: 0'], inplace=True)\n",
    "df2.drop(columns=['Unnamed: 0'], inplace=True)"
   ]
  },
  {
   "cell_type": "code",
   "execution_count": 5,
   "id": "935dc7ff",
   "metadata": {},
   "outputs": [],
   "source": [
    "df1.rename(columns={'release_id':'id', 'year':'date'}, inplace=True)\n",
    "df2.rename(columns={'MBID':'id', 'track_length_ms':'duration'}, inplace=True)"
   ]
  },
  {
   "cell_type": "code",
   "execution_count": 6,
   "id": "aef48fbc",
   "metadata": {},
   "outputs": [],
   "source": [
    "#df1.insert(3, \"date\", None)\n",
    "df2.insert(5, \"genre\", None)\n",
    "df2.insert(6, \"style\", None)"
   ]
  },
  {
   "cell_type": "code",
   "execution_count": 7,
   "id": "7e602ea5",
   "metadata": {},
   "outputs": [],
   "source": [
    "def convert_to_seconds(value):\n",
    "    \"\"\"Convert duration from MM:SS format to seconds.\"\"\"\n",
    "    try:\n",
    "        minutes, seconds = map(int, str(value).split(':'))\n",
    "        return minutes * 60 + seconds\n",
    "    except:\n",
    "        return None"
   ]
  },
  {
   "cell_type": "code",
   "execution_count": 8,
   "id": "2584462b",
   "metadata": {},
   "outputs": [],
   "source": [
    "df1['duration'] = df1['duration'].apply(convert_to_seconds)"
   ]
  },
  {
   "cell_type": "code",
   "execution_count": 9,
   "id": "7d4e9190",
   "metadata": {},
   "outputs": [],
   "source": [
    "column_order = ['title', 'duration', 'album', 'date', 'artist',\n",
    "                'genre', 'style', 'id', 'country', 'source', 'lyrics']\n",
    "    \n",
    "df1 = df1[column_order]"
   ]
  },
  {
   "cell_type": "code",
   "execution_count": null,
   "id": "f8da1e89",
   "metadata": {},
   "outputs": [],
   "source": [
    "df1.head()"
   ]
  },
  {
   "cell_type": "code",
   "execution_count": null,
   "id": "06e3153c",
   "metadata": {},
   "outputs": [],
   "source": [
    "df2.head()"
   ]
  },
  {
   "cell_type": "code",
   "execution_count": 10,
   "id": "40530ecd",
   "metadata": {},
   "outputs": [
    {
     "data": {
      "text/plain": [
       "(1655257, 11)"
      ]
     },
     "execution_count": 10,
     "metadata": {},
     "output_type": "execute_result"
    }
   ],
   "source": [
    "concated = pd.concat([df1, df2], ignore_index=True)\n",
    "concated.shape"
   ]
  },
  {
   "cell_type": "code",
   "execution_count": 11,
   "id": "9e4834b6",
   "metadata": {},
   "outputs": [],
   "source": [
    "from langdetect import detect\n",
    "def safe_detect(text):\n",
    "    try:\n",
    "        return detect(text)\n",
    "    except:\n",
    "        return \"unknown\"\n",
    "\n",
    "concated['language'] = concated['lyrics'].apply(safe_detect)"
   ]
  },
  {
   "cell_type": "code",
   "execution_count": 12,
   "id": "cae63cab",
   "metadata": {},
   "outputs": [
    {
     "data": {
      "text/plain": [
       "(15274, 12)"
      ]
     },
     "execution_count": 12,
     "metadata": {},
     "output_type": "execute_result"
    }
   ],
   "source": [
    "df_subset = concated[concated['lyrics'].notna()].copy()\n",
    "df_subset.shape"
   ]
  },
  {
   "cell_type": "code",
   "execution_count": 13,
   "id": "70de682b",
   "metadata": {},
   "outputs": [
    {
     "data": {
      "text/plain": [
       "(10872, 12)"
      ]
     },
     "execution_count": 13,
     "metadata": {},
     "output_type": "execute_result"
    }
   ],
   "source": [
    "df_subset = df_subset[df_subset['language'] == 'en'].reindex()\n",
    "df_subset.shape"
   ]
  },
  {
   "cell_type": "code",
   "execution_count": 14,
   "id": "6d72b62f",
   "metadata": {},
   "outputs": [],
   "source": [
    "import re\n",
    "\n",
    "unmatched_lyrics = []\n",
    "\n",
    "def clean_lyrics(text):\n",
    "    if pd.isna(text):\n",
    "        return text\n",
    "    match = re.search(r'\\[.*?\\]', text)\n",
    "    match1 = re.search(r'Lyrics', text)\n",
    "    if match:\n",
    "        return text[match.start():].strip()\n",
    "    elif match1:\n",
    "        return text[match1.end():].strip()\n",
    "    else:\n",
    "        unmatched_lyrics.append(text)\n",
    "        return text.strip()  # Return original text if no bracketed section\n",
    "\n",
    "df_subset['clean_lyrics'] = df_subset['lyrics'].apply(clean_lyrics)"
   ]
  },
  {
   "cell_type": "code",
   "execution_count": 15,
   "id": "43750e4b",
   "metadata": {},
   "outputs": [],
   "source": [
    "df_subset['clean_lyrics'] = (\n",
    "    df_subset['clean_lyrics']\n",
    "    .str.replace(r'\\[.*?\\]', '', regex=True)         # Remove all bracketed phrases\n",
    "    .str.replace(r'\\s+', ' ', regex=True)            # Normalize extra spaces\n",
    "    .str.strip()                                     # Trim leading/trailing spaces\n",
    ")"
   ]
  },
  {
   "cell_type": "code",
   "execution_count": 16,
   "id": "07f616c2",
   "metadata": {},
   "outputs": [],
   "source": [
    "df_subset.to_csv('/home/smacieje/data/all_en_lyrics_clean.csv')"
   ]
  },
  {
   "cell_type": "code",
   "execution_count": null,
   "id": "cf43b924",
   "metadata": {},
   "outputs": [],
   "source": []
  },
  {
   "cell_type": "code",
   "execution_count": null,
   "id": "18c43217",
   "metadata": {},
   "outputs": [],
   "source": []
  },
  {
   "cell_type": "code",
   "execution_count": null,
   "id": "8312d72e",
   "metadata": {},
   "outputs": [],
   "source": []
  }
 ],
 "metadata": {
  "kernelspec": {
   "display_name": "Python 3 (ipykernel)",
   "language": "python",
   "name": "python3"
  },
  "language_info": {
   "codemirror_mode": {
    "name": "ipython",
    "version": 3
   },
   "file_extension": ".py",
   "mimetype": "text/x-python",
   "name": "python",
   "nbconvert_exporter": "python",
   "pygments_lexer": "ipython3",
   "version": "3.9.7"
  }
 },
 "nbformat": 4,
 "nbformat_minor": 5
}
