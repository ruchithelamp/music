{
 "cells": [
  {
   "cell_type": "markdown",
   "id": "b3606b0e-91d5-499d-b962-f62ff28df173",
   "metadata": {},
   "source": [
    "## Data cleaning\n",
    "Using a checkpoint file to look at some of the data and see best methods for cleaning and visuals. "
   ]
  },
  {
   "cell_type": "code",
   "execution_count": 1,
   "id": "38589924-1d50-4be6-a313-a9ab98759922",
   "metadata": {},
   "outputs": [],
   "source": [
    "import pandas as pd"
   ]
  },
  {
   "cell_type": "code",
   "execution_count": 13,
   "id": "dd88af36-e77d-497f-a9ab-ecd098afd3e3",
   "metadata": {},
   "outputs": [],
   "source": [
    "df = pd.read_csv('lyrics_checkpoint.csv', low_memory=False) "
   ]
  },
  {
   "cell_type": "code",
   "execution_count": 15,
   "id": "1bb5ef25-6ed5-4ff2-b24e-bba95d4ddf18",
   "metadata": {},
   "outputs": [
    {
     "data": {
      "text/plain": [
       "(34876, 15)"
      ]
     },
     "execution_count": 15,
     "metadata": {},
     "output_type": "execute_result"
    }
   ],
   "source": [
    "df.shape"
   ]
  },
  {
   "cell_type": "code",
   "execution_count": 17,
   "id": "8cafa249-e3ae-4dcd-93e1-1c2961a98942",
   "metadata": {},
   "outputs": [],
   "source": [
    "# view all columns\n",
    "pd.set_option('display.max_columns', None)\n",
    "# view all rows\n",
    "pd.set_option('display.max_rows', None)"
   ]
  },
  {
   "cell_type": "code",
   "execution_count": 23,
   "id": "d4de9cdb-47fd-4e07-96b7-69e9ef9525db",
   "metadata": {},
   "outputs": [
    {
     "name": "stdout",
     "output_type": "stream",
     "text": [
      "<class 'pandas.core.frame.DataFrame'>\n",
      "RangeIndex: 34876 entries, 0 to 34875\n",
      "Data columns (total 15 columns):\n",
      " #   Column           Non-Null Count  Dtype  \n",
      "---  ------           --------------  -----  \n",
      " 0   title            34875 non-null  object \n",
      " 1   track_length_ms  4836 non-null   float64\n",
      " 2   album            34876 non-null  object \n",
      " 3   release_date     5279 non-null   object \n",
      " 4   artist           34876 non-null  object \n",
      " 5   MBID             5279 non-null   object \n",
      " 6   source           34876 non-null  object \n",
      " 7   release_id       29597 non-null  float64\n",
      " 8   track_position   29596 non-null  object \n",
      " 9   duration         18123 non-null  object \n",
      " 10  year             29597 non-null  float64\n",
      " 11  country          29327 non-null  object \n",
      " 12  genre            29597 non-null  object \n",
      " 13  style            25384 non-null  object \n",
      " 14  lyrics           4073 non-null   object \n",
      "dtypes: float64(3), object(12)\n",
      "memory usage: 4.0+ MB\n",
      "None \n",
      "-----\n",
      "title                  1\n",
      "track_length_ms    30040\n",
      "album                  0\n",
      "release_date       29597\n",
      "artist                 0\n",
      "MBID               29597\n",
      "source                 0\n",
      "release_id          5279\n",
      "track_position      5280\n",
      "duration           16753\n",
      "year                5279\n",
      "country             5549\n",
      "genre               5279\n",
      "style               9492\n",
      "lyrics             30803\n",
      "dtype: int64 \n",
      "-----\n",
      "        title  track_length_ms  \\\n",
      "count   34875     4.836000e+03   \n",
      "unique  33020              NaN   \n",
      "top     Intro              NaN   \n",
      "freq       76              NaN   \n",
      "mean      NaN     2.556313e+05   \n",
      "std       NaN     2.085099e+05   \n",
      "min       NaN     8.000000e+03   \n",
      "25%       NaN     1.810000e+05   \n",
      "50%       NaN     2.270000e+05   \n",
      "75%       NaN     2.830000e+05   \n",
      "max       NaN     6.360013e+06   \n",
      "\n",
      "                                                    album release_date  \\\n",
      "count                                               34876         5279   \n",
      "unique                                               2872          255   \n",
      "top     The Word Of Promise New Testament Audio NKJV B...         2009   \n",
      "freq                                                  244          497   \n",
      "mean                                                  NaN          NaN   \n",
      "std                                                   NaN          NaN   \n",
      "min                                                   NaN          NaN   \n",
      "25%                                                   NaN          NaN   \n",
      "50%                                                   NaN          NaN   \n",
      "75%                                                   NaN          NaN   \n",
      "max                                                   NaN          NaN   \n",
      "\n",
      "         artist                                  MBID   source    release_id  \\\n",
      "count     34876                                  5279    34876  2.959700e+04   \n",
      "unique     3276                                  5279        2           NaN   \n",
      "top     Various  f8aef4de-682e-3d5f-89c2-de0c812bca71  discogs           NaN   \n",
      "freq        703                                     1    29597           NaN   \n",
      "mean        NaN                                   NaN      NaN  1.266517e+07   \n",
      "std         NaN                                   NaN      NaN  1.146546e+07   \n",
      "min         NaN                                   NaN      NaN  8.885190e+05   \n",
      "25%         NaN                                   NaN      NaN  2.662615e+06   \n",
      "50%         NaN                                   NaN      NaN  8.557685e+06   \n",
      "75%         NaN                                   NaN      NaN  1.720051e+07   \n",
      "max         NaN                                   NaN      NaN  3.413393e+07   \n",
      "\n",
      "       track_position duration          year country  genre        style  \\\n",
      "count           29596    18123  29597.000000   29327  29597        25384   \n",
      "unique           1291      957           NaN      81    156         1151   \n",
      "top                 1     3:20           NaN      US   Rock  Death Metal   \n",
      "freq             1975      136           NaN    6572  11314          538   \n",
      "mean              NaN      NaN   2013.123729     NaN    NaN          NaN   \n",
      "std               NaN      NaN      7.080425     NaN    NaN          NaN   \n",
      "min               NaN      NaN   2007.000000     NaN    NaN          NaN   \n",
      "25%               NaN      NaN   2008.000000     NaN    NaN          NaN   \n",
      "50%               NaN      NaN   2009.000000     NaN    NaN          NaN   \n",
      "75%               NaN      NaN   2020.000000     NaN    NaN          NaN   \n",
      "max               NaN      NaN   2025.000000     NaN    NaN          NaN   \n",
      "\n",
      "                                      lyrics  \n",
      "count                                   4073  \n",
      "unique                                  4008  \n",
      "top     2 ContributorsDELETE IT Lyrics......  \n",
      "freq                                      11  \n",
      "mean                                     NaN  \n",
      "std                                      NaN  \n",
      "min                                      NaN  \n",
      "25%                                      NaN  \n",
      "50%                                      NaN  \n",
      "75%                                      NaN  \n",
      "max                                      NaN  \n"
     ]
    }
   ],
   "source": [
    "# prints a report listing all column names, number of null values & the datatype in the column.\n",
    "print(df.info(), '\\n-----')\n",
    "# prints the number of nulls per column\n",
    "print(df.isnull().sum(), '\\n-----')\n",
    "# prints the descriptive statistics including the min and max values, the numbers at each quartile as well as the standard deviation of the data. This is useful in identifying outliers.\n",
    "print(df.describe(include='all'))"
   ]
  },
  {
   "cell_type": "code",
   "execution_count": 25,
   "id": "54efc55a-e2d3-4956-8dab-363c988eae5e",
   "metadata": {},
   "outputs": [
    {
     "data": {
      "text/plain": [
       "title              33020\n",
       "track_length_ms     2503\n",
       "album               2872\n",
       "release_date         255\n",
       "artist              3276\n",
       "MBID                5279\n",
       "source                 2\n",
       "release_id          2420\n",
       "track_position      1291\n",
       "duration             957\n",
       "year                   5\n",
       "country               81\n",
       "genre                156\n",
       "style               1151\n",
       "lyrics              4008\n",
       "dtype: int64"
      ]
     },
     "execution_count": 25,
     "metadata": {},
     "output_type": "execute_result"
    }
   ],
   "source": [
    "df.nunique()"
   ]
  },
  {
   "cell_type": "code",
   "execution_count": 33,
   "id": "0450378e-3f9d-40fc-a92e-bdd1b59d535a",
   "metadata": {},
   "outputs": [
    {
     "name": "stdout",
     "output_type": "stream",
     "text": [
      "1855 \n",
      "------\n",
      "29596 \n",
      "-----\n",
      "32455 \n",
      "-----\n"
     ]
    }
   ],
   "source": [
    "# Possible 'joining keys' for merging and duplicate checking\n",
    "print(df.duplicated(subset=['title']).sum(), '\\n------')\n",
    "print(df.duplicated(subset=['MBID']).sum(), '\\n-----')\n",
    "print(df.duplicated(subset=['release_id']).sum(), '\\n-----')"
   ]
  },
  {
   "cell_type": "code",
   "execution_count": 37,
   "id": "f1e7837b-1a2a-4983-9dfc-043aef590c1f",
   "metadata": {},
   "outputs": [
    {
     "name": "stdout",
     "output_type": "stream",
     "text": [
      "artist\n",
      "Various                                            703\n",
      "Chrisye                                            184\n",
      "Johnny Hallyday                                    107\n",
      "Fantasy (16)                                        92\n",
      "Καίτη Γαρμπή                                        72\n",
      "Feuerschwanz                                        70\n",
      "Daniele Silvestri                                   68\n",
      "Κώστας Χατζής, Αλέξανδρος Χατζής, Julie Massino     67\n",
      "Sissy Spacek                                        67\n",
      "PMMP                                                67\n",
      "Name: count, dtype: int64\n",
      "genre\n",
      "Rock                                                                                  0.382268\n",
      "Electronic                                                                            0.093928\n",
      "Hip Hop                                                                               0.059364\n",
      "Folk, World, & Country                                                                0.050748\n",
      "Pop                                                                                   0.048552\n",
      "Rock, Pop                                                                             0.038450\n",
      "Jazz                                                                                  0.029192\n",
      "Electronic, Rock                                                                      0.027739\n",
      "Rock, Folk, World, & Country                                                          0.025138\n",
      "Pop, Folk, World, & Country                                                           0.012231\n",
      "Classical                                                                             0.011724\n",
      "Electronic, Pop                                                                       0.011184\n",
      "Funk / Soul                                                                           0.010981\n",
      "Non-Music                                                                             0.009697\n",
      "Rock, Blues                                                                           0.009460\n",
      "Funk / Soul, Pop                                                                      0.008413\n",
      "Rock, Pop, Folk, World, & Country                                                     0.007602\n",
      "Jazz, Rock                                                                            0.006217\n",
      "Electronic, Hip Hop                                                                   0.005947\n",
      "Stage & Screen                                                                        0.005474\n",
      "Blues                                                                                 0.005237\n",
      "Rock, Blues, Folk, World, & Country                                                   0.005136\n",
      "Latin                                                                                 0.005136\n",
      "Reggae                                                                                0.004798\n",
      "Electronic, Rock, Pop                                                                 0.004257\n",
      "Rock, Blues, Pop                                                                      0.003615\n",
      "Electronic, Non-Music                                                                 0.003581\n",
      "Classical, Folk, World, & Country                                                     0.003345\n",
      "Electronic, Jazz                                                                      0.003345\n",
      "Latin, Folk, World, & Country                                                         0.003041\n",
      "Pop, Children's                                                                       0.002838\n",
      "Jazz, Funk / Soul                                                                     0.002635\n",
      "Rock, Classical                                                                       0.002568\n",
      "Hip Hop, Rock                                                                         0.002500\n",
      "Electronic, Reggae                                                                    0.002500\n",
      "Electronic, Folk, World, & Country                                                    0.002466\n",
      "Jazz, Latin                                                                           0.002433\n",
      "Electronic, Classical                                                                 0.002365\n",
      "Hip Hop, Pop                                                                          0.002331\n",
      "Rock, Non-Music                                                                       0.002331\n",
      "Latin, Pop                                                                            0.002264\n",
      "Pop, Stage & Screen                                                                   0.002264\n",
      "Jazz, Pop                                                                             0.002162\n",
      "Electronic, Stage & Screen                                                            0.002095\n",
      "Classical, Stage & Screen                                                             0.002095\n",
      "Children's                                                                            0.001960\n",
      "Pop, Rock                                                                             0.001892\n",
      "Jazz, Folk, World, & Country                                                          0.001858\n",
      "Rock, Latin                                                                           0.001791\n",
      "Rock, Pop, Children's                                                                 0.001757\n",
      "Electronic, Jazz, Funk / Soul                                                         0.001723\n",
      "Jazz, Rock, Pop                                                                       0.001588\n",
      "Rock, Funk / Soul                                                                     0.001588\n",
      "Non-Music, Pop                                                                        0.001554\n",
      "Electronic, Rock, Classical                                                           0.001520\n",
      "Hip Hop, Funk / Soul                                                                  0.001453\n",
      "Pop, Classical                                                                        0.001318\n",
      "Electronic, Funk / Soul                                                               0.001250\n",
      "Electronic, Hip Hop, Funk / Soul                                                      0.001047\n",
      "Electronic, Jazz, Rock                                                                0.000980\n",
      "Jazz, Latin, Pop, Folk, World, & Country                                              0.000980\n",
      "Blues, Folk, World, & Country                                                         0.000912\n",
      "Rock, Funk / Soul, Pop, Folk, World, & Country                                        0.000878\n",
      "Pop, Classical, Stage & Screen                                                        0.000878\n",
      "Electronic, Jazz, Folk, World, & Country                                              0.000878\n",
      "Electronic, Blues, Pop                                                                0.000845\n",
      "Rock, Blues, Pop, Folk, World, & Country                                              0.000777\n",
      "Electronic, Rock, Non-Music, Stage & Screen                                           0.000777\n",
      "Jazz, Blues, Folk, World, & Country                                                   0.000743\n",
      "Electronic, Brass & Military, Stage & Screen                                          0.000710\n",
      "Funk / Soul, Blues                                                                    0.000710\n",
      "Hip Hop, Rock, Blues                                                                  0.000710\n",
      "Electronic, Rock, Classical, Stage & Screen                                           0.000676\n",
      "Jazz, Classical, Folk, World, & Country                                               0.000676\n",
      "Hip Hop, Funk / Soul, Folk, World, & Country                                          0.000676\n",
      "Latin, Children's                                                                     0.000642\n",
      "Electronic, Classical, Stage & Screen                                                 0.000642\n",
      "Electronic, Hip Hop, Reggae, Pop                                                      0.000608\n",
      "Jazz, Classical                                                                       0.000608\n",
      "Children's, Folk, World, & Country                                                    0.000608\n",
      "Jazz, Reggae, Funk / Soul, Folk, World, & Country                                     0.000574\n",
      "Rock, Classical, Folk, World, & Country                                               0.000574\n",
      "Hip Hop, Reggae, Pop                                                                  0.000541\n",
      "Electronic, Rock, Reggae                                                              0.000541\n",
      "Rock, Latin, Folk, World, & Country                                                   0.000507\n",
      "Hip Hop, Reggae                                                                       0.000507\n",
      "Funk / Soul, Latin                                                                    0.000507\n",
      "Electronic, Reggae, Blues, Folk, World, & Country                                     0.000507\n",
      "Electronic, Non-Music, Folk, World, & Country                                         0.000507\n",
      "Electronic, Hip Hop, Rock, Funk / Soul, Pop                                           0.000507\n",
      "Rock, Funk / Soul, Pop                                                                0.000473\n",
      "Latin, Pop, Folk, World, & Country                                                    0.000473\n",
      "Classical, Children's                                                                 0.000473\n",
      "Jazz, Rock, Blues, Folk, World, & Country                                             0.000473\n",
      "Non-Music, Folk, World, & Country                                                     0.000473\n",
      "Electronic, Hip Hop, Jazz, Funk / Soul, Pop                                           0.000473\n",
      "Hip Hop, Rock, Pop                                                                    0.000473\n",
      "Rock, Folk, World, & Country, Stage & Screen                                          0.000473\n",
      "Hip Hop, Latin                                                                        0.000473\n",
      "Jazz, Stage & Screen                                                                  0.000473\n",
      "Electronic, Rock, Stage & Screen                                                      0.000473\n",
      "Jazz, Rock, Latin, Folk, World, & Country                                             0.000473\n",
      "Funk / Soul, Rock                                                                     0.000439\n",
      "Reggae, Latin                                                                         0.000439\n",
      "Jazz, Rock, Pop, Stage & Screen                                                       0.000439\n",
      "Rock, Reggae                                                                          0.000439\n",
      "Electronic, Blues, Folk, World, & Country                                             0.000439\n",
      "Jazz, Funk / Soul, Folk, World, & Country                                             0.000439\n",
      "Electronic, Hip Hop, Pop, Classical, Folk, World, & Country, Stage & Screen           0.000439\n",
      "Electronic, Hip Hop, Rock                                                             0.000439\n",
      "Reggae, Children's                                                                    0.000439\n",
      "Classical, Folk, World, & Country, Pop, Rock                                          0.000439\n",
      "Hip Hop, Latin, Funk / Soul, Pop                                                      0.000439\n",
      "Jazz, Rock, Latin, Pop                                                                0.000405\n",
      "Electronic, Pop, Classical                                                            0.000405\n",
      "Funk / Soul, Jazz                                                                     0.000405\n",
      "Electronic, Funk / Soul, Pop                                                          0.000405\n",
      "Electronic, Hip Hop, Jazz, Folk, World, & Country                                     0.000405\n",
      "Jazz, Latin, Funk / Soul                                                              0.000405\n",
      "Jazz, Pop, Classical, Brass & Military, Folk, World, & Country                        0.000405\n",
      "Rock, Classical, Children's                                                           0.000405\n",
      "Hip Hop, Non-Music, Folk, World, & Country                                            0.000405\n",
      "Electronic, Folk, World, & Country, Funk / Soul, Hip Hop, Latin, Pop, Reggae, Rock    0.000405\n",
      "Electronic, Latin, Pop                                                                0.000405\n",
      "Hip Hop, Rock, Reggae                                                                 0.000405\n",
      "Electronic, Reggae, Folk, World, & Country                                            0.000372\n",
      "Hip Hop, Jazz, Funk / Soul                                                            0.000372\n",
      "Latin, Funk / Soul, Folk, World, & Country                                            0.000372\n",
      "Hip Hop, Pop, Reggae                                                                  0.000372\n",
      "Electronic, Pop, Rock                                                                 0.000338\n",
      "Rock, Stage & Screen                                                                  0.000338\n",
      "Jazz, Rock, Blues, Pop, Folk, World, & Country                                        0.000338\n",
      "Rock, Latin, Pop                                                                      0.000338\n",
      "Funk / Soul, Brass & Military                                                         0.000338\n",
      "Funk / Soul, Folk, World, & Country                                                   0.000338\n",
      "Folk, World, & Country, Rock                                                          0.000338\n",
      "Jazz, Brass & Military                                                                0.000338\n",
      "Rock, Reggae, Latin, Funk / Soul, Pop                                                 0.000338\n",
      "Jazz, Rock, Funk / Soul, Blues, Classical                                             0.000338\n",
      "Hip Hop, Jazz                                                                         0.000338\n",
      "Jazz, Latin, Pop                                                                      0.000304\n",
      "Jazz, Rock, Non-Music                                                                 0.000304\n",
      "Electronic, Jazz, Pop                                                                 0.000304\n",
      "Electronic, Jazz, Rock, Non-Music                                                     0.000304\n",
      "Rock, Funk / Soul, Folk, World, & Country                                             0.000304\n",
      "Rock, Funk / Soul, Blues, Pop, Folk, World, & Country                                 0.000304\n",
      "Jazz, Non-Music                                                                       0.000304\n",
      "Blues, Funk / Soul, Jazz                                                              0.000304\n",
      "Electronic, Rock, Latin, Funk / Soul, Pop, Folk, World, & Country                     0.000304\n",
      "Jazz, Rock, Classical                                                                 0.000270\n",
      "Rock, Latin, Stage & Screen                                                           0.000270\n",
      "Electronic, Rock, Non-Music                                                           0.000237\n",
      "Electronic, Jazz, Non-Music                                                           0.000237\n",
      "Jazz, Funk / Soul, Blues, Folk, World, & Country                                      0.000203\n",
      "Electronic, Rock, Folk, World, & Country                                              0.000169\n",
      "Electronic, Hip Hop, Pop                                                              0.000169\n",
      "Name: proportion, dtype: float64\n"
     ]
    }
   ],
   "source": [
    "print(df['artist'].value_counts().head(10))\n",
    "print(df['genre'].value_counts(normalize=True))"
   ]
  },
  {
   "cell_type": "code",
   "execution_count": 53,
   "id": "e50ae3b5-196a-4b68-baa0-125f7fece191",
   "metadata": {},
   "outputs": [],
   "source": [
    "# We don't need this\n",
    "df.drop(columns=['track_position'], inplace=True)\n",
    "\n",
    "# Fix dates to be more granular for processing\n",
    "df['release_date'] = pd.to_datetime(df['release_date'], errors='coerce')\n",
    "\n",
    "# Create individual columns\n",
    "df['release_year'] = df['release_date'].dt.year\n",
    "df['release_month'] = df['release_date'].dt.month\n",
    "df['release_day'] = df['release_date'].dt.day\n",
    "\n",
    "# Fill missing discogs 'release_date' using 'year' column\n",
    "df['release_date_fallback'] = pd.to_datetime(df['year'], format='%Y', errors='coerce')"
   ]
  },
  {
   "cell_type": "code",
   "execution_count": 51,
   "id": "1e4383c3-cd62-4d00-9588-1706458989be",
   "metadata": {
    "collapsed": true,
    "jupyter": {
     "outputs_hidden": true
    }
   },
   "outputs": [
    {
     "ename": "KeyError",
     "evalue": "\"['language'] not in index\"",
     "output_type": "error",
     "traceback": [
      "\u001b[1;31m---------------------------------------------------------------------------\u001b[0m",
      "\u001b[1;31mKeyError\u001b[0m                                  Traceback (most recent call last)",
      "Cell \u001b[1;32mIn[51], line 13\u001b[0m\n\u001b[0;32m     11\u001b[0m \u001b[38;5;66;03m# One-hot encode and run t-SNE\u001b[39;00m\n\u001b[0;32m     12\u001b[0m ohe \u001b[38;5;241m=\u001b[39m OneHotEncoder()\n\u001b[1;32m---> 13\u001b[0m X \u001b[38;5;241m=\u001b[39m ohe\u001b[38;5;241m.\u001b[39mfit_transform(df[[\u001b[38;5;124m'\u001b[39m\u001b[38;5;124mgenre\u001b[39m\u001b[38;5;124m'\u001b[39m, \u001b[38;5;124m'\u001b[39m\u001b[38;5;124mlanguage\u001b[39m\u001b[38;5;124m'\u001b[39m]]\u001b[38;5;241m.\u001b[39mfillna(\u001b[38;5;124m\"\u001b[39m\u001b[38;5;124mUnknown\u001b[39m\u001b[38;5;124m\"\u001b[39m))\u001b[38;5;241m.\u001b[39mtoarray()\n\u001b[0;32m     15\u001b[0m X_embedded \u001b[38;5;241m=\u001b[39m TSNE(n_components\u001b[38;5;241m=\u001b[39m\u001b[38;5;241m2\u001b[39m, random_state\u001b[38;5;241m=\u001b[39m\u001b[38;5;241m42\u001b[39m)\u001b[38;5;241m.\u001b[39mfit_transform(X)\n\u001b[0;32m     17\u001b[0m \u001b[38;5;28;01mimport\u001b[39;00m \u001b[38;5;21;01mmatplotlib\u001b[39;00m\u001b[38;5;21;01m.\u001b[39;00m\u001b[38;5;21;01mpyplot\u001b[39;00m \u001b[38;5;28;01mas\u001b[39;00m \u001b[38;5;21;01mplt\u001b[39;00m\n",
      "File \u001b[1;32m~\\anaconda3\\Lib\\site-packages\\pandas\\core\\frame.py:3767\u001b[0m, in \u001b[0;36mDataFrame.__getitem__\u001b[1;34m(self, key)\u001b[0m\n\u001b[0;32m   3765\u001b[0m     \u001b[38;5;28;01mif\u001b[39;00m is_iterator(key):\n\u001b[0;32m   3766\u001b[0m         key \u001b[38;5;241m=\u001b[39m \u001b[38;5;28mlist\u001b[39m(key)\n\u001b[1;32m-> 3767\u001b[0m     indexer \u001b[38;5;241m=\u001b[39m \u001b[38;5;28mself\u001b[39m\u001b[38;5;241m.\u001b[39mcolumns\u001b[38;5;241m.\u001b[39m_get_indexer_strict(key, \u001b[38;5;124m\"\u001b[39m\u001b[38;5;124mcolumns\u001b[39m\u001b[38;5;124m\"\u001b[39m)[\u001b[38;5;241m1\u001b[39m]\n\u001b[0;32m   3769\u001b[0m \u001b[38;5;66;03m# take() does not accept boolean indexers\u001b[39;00m\n\u001b[0;32m   3770\u001b[0m \u001b[38;5;28;01mif\u001b[39;00m \u001b[38;5;28mgetattr\u001b[39m(indexer, \u001b[38;5;124m\"\u001b[39m\u001b[38;5;124mdtype\u001b[39m\u001b[38;5;124m\"\u001b[39m, \u001b[38;5;28;01mNone\u001b[39;00m) \u001b[38;5;241m==\u001b[39m \u001b[38;5;28mbool\u001b[39m:\n",
      "File \u001b[1;32m~\\anaconda3\\Lib\\site-packages\\pandas\\core\\indexes\\base.py:5877\u001b[0m, in \u001b[0;36mIndex._get_indexer_strict\u001b[1;34m(self, key, axis_name)\u001b[0m\n\u001b[0;32m   5874\u001b[0m \u001b[38;5;28;01melse\u001b[39;00m:\n\u001b[0;32m   5875\u001b[0m     keyarr, indexer, new_indexer \u001b[38;5;241m=\u001b[39m \u001b[38;5;28mself\u001b[39m\u001b[38;5;241m.\u001b[39m_reindex_non_unique(keyarr)\n\u001b[1;32m-> 5877\u001b[0m \u001b[38;5;28mself\u001b[39m\u001b[38;5;241m.\u001b[39m_raise_if_missing(keyarr, indexer, axis_name)\n\u001b[0;32m   5879\u001b[0m keyarr \u001b[38;5;241m=\u001b[39m \u001b[38;5;28mself\u001b[39m\u001b[38;5;241m.\u001b[39mtake(indexer)\n\u001b[0;32m   5880\u001b[0m \u001b[38;5;28;01mif\u001b[39;00m \u001b[38;5;28misinstance\u001b[39m(key, Index):\n\u001b[0;32m   5881\u001b[0m     \u001b[38;5;66;03m# GH 42790 - Preserve name from an Index\u001b[39;00m\n",
      "File \u001b[1;32m~\\anaconda3\\Lib\\site-packages\\pandas\\core\\indexes\\base.py:5941\u001b[0m, in \u001b[0;36mIndex._raise_if_missing\u001b[1;34m(self, key, indexer, axis_name)\u001b[0m\n\u001b[0;32m   5938\u001b[0m     \u001b[38;5;28;01mraise\u001b[39;00m \u001b[38;5;167;01mKeyError\u001b[39;00m(\u001b[38;5;124mf\u001b[39m\u001b[38;5;124m\"\u001b[39m\u001b[38;5;124mNone of [\u001b[39m\u001b[38;5;132;01m{\u001b[39;00mkey\u001b[38;5;132;01m}\u001b[39;00m\u001b[38;5;124m] are in the [\u001b[39m\u001b[38;5;132;01m{\u001b[39;00maxis_name\u001b[38;5;132;01m}\u001b[39;00m\u001b[38;5;124m]\u001b[39m\u001b[38;5;124m\"\u001b[39m)\n\u001b[0;32m   5940\u001b[0m not_found \u001b[38;5;241m=\u001b[39m \u001b[38;5;28mlist\u001b[39m(ensure_index(key)[missing_mask\u001b[38;5;241m.\u001b[39mnonzero()[\u001b[38;5;241m0\u001b[39m]]\u001b[38;5;241m.\u001b[39munique())\n\u001b[1;32m-> 5941\u001b[0m \u001b[38;5;28;01mraise\u001b[39;00m \u001b[38;5;167;01mKeyError\u001b[39;00m(\u001b[38;5;124mf\u001b[39m\u001b[38;5;124m\"\u001b[39m\u001b[38;5;132;01m{\u001b[39;00mnot_found\u001b[38;5;132;01m}\u001b[39;00m\u001b[38;5;124m not in index\u001b[39m\u001b[38;5;124m\"\u001b[39m)\n",
      "\u001b[1;31mKeyError\u001b[0m: \"['language'] not in index\""
     ]
    }
   ],
   "source": [
    "# identify relevant columns\n",
    "#relevant_columns = ['col1', 'col2', 'col3']\n",
    "# create dummy variable columns\n",
    "#dummy_dataframe = pd.get_dummies(df[relevant_columns], drop_first=True, dtype=float) \n",
    "# check result\n",
    "#df.head()\n",
    "\n",
    "from sklearn.manifold import TSNE\n",
    "from sklearn.preprocessing import OneHotEncoder\n",
    "\n",
    "# One-hot encode and run t-SNE\n",
    "ohe = OneHotEncoder()\n",
    "X = ohe.fit_transform(df[['genre', 'language']].fillna(\"Unknown\")).toarray()\n",
    "\n",
    "X_embedded = TSNE(n_components=2, random_state=42).fit_transform(X)\n",
    "\n",
    "import matplotlib.pyplot as plt\n",
    "plt.scatter(X_embedded[:, 0], X_embedded[:, 1], alpha=0.5)\n",
    "plt.title(\"t-SNE Visualization of Genre+Language\")\n",
    "plt.show()"
   ]
  },
  {
   "cell_type": "markdown",
   "id": "23d986a0-53e5-4280-9f52-6600b477e2c8",
   "metadata": {},
   "source": [
    "## Data visualization"
   ]
  },
  {
   "cell_type": "code",
   "execution_count": 39,
   "id": "34f7afba-afc0-437c-abd4-57caaf1df588",
   "metadata": {},
   "outputs": [],
   "source": [
    "# import libraries\n",
    "import numpy as np\n",
    "import matplotlib.pyplot as plt\n",
    "import seaborn as sns\n",
    "import plotly.express as px\n",
    "import plotly.graph_objects as go\n",
    "from plotly.subplots import make_subplots"
   ]
  },
  {
   "cell_type": "code",
   "execution_count": 41,
   "id": "21990958-6ffb-4147-98c1-a53cd778daa0",
   "metadata": {},
   "outputs": [
    {
     "data": {
      "image/png": "[encoded data removed]",
      "text/plain": [
       "<Figure size 640x480 with 1 Axes>"
      ]
     },
     "metadata": {},
     "output_type": "display_data"
    }
   ],
   "source": [
    "sns.countplot(data=df, y='artist', order=df['artist'].value_counts().iloc[:10].index)\n",
    "plt.title('Top 10 Artists')\n",
    "plt.show()"
   ]
  },
  {
   "cell_type": "code",
   "execution_count": 43,
   "id": "f531d625-4939-4b9e-8703-1077cf35d00e",
   "metadata": {},
   "outputs": [
    {
     "data": {
      "text/plain": [
       "<Axes: title={'center': 'Top 10 Genres'}, ylabel='genre'>"
      ]
     },
     "execution_count": 43,
     "metadata": {},
     "output_type": "execute_result"
    },
    {
     "data": {
      "image/png": "[encoded data removed]",
      "text/plain": [
       "<Figure size 640x480 with 1 Axes>"
      ]
     },
     "metadata": {},
     "output_type": "display_data"
    }
   ],
   "source": [
    "# Genre distribution\n",
    "df['genre'].value_counts().iloc[:10].plot(kind='barh', title='Top 10 Genres')"
   ]
  },
  {
   "cell_type": "code",
   "execution_count": null,
   "id": "d2c0129f-6159-4822-a7cd-4721e7c01da3",
   "metadata": {},
   "outputs": [],
   "source": [
    "# incorporating sentiment analysis - need to use output_clean_lyrics or tokenize_mini_w_sentiment\n",
    "# Histogram\n",
    "df['sentiment_score'].hist(bins=30)\n",
    "plt.title('Distribution of Sentiment Scores')\n",
    "\n",
    "# Boxplot \n",
    "sns.boxplot(data=df, x='genre', y='sentiment_score')\n",
    "plt.xticks(rotation=45)\n",
    "\n",
    "# Mean sentiment\n",
    "df.groupby('genre')['sentiment_score'].mean().sort_values(ascending=False).plot(kind='bar')\n",
    "\n",
    "# Violin plot\n",
    "sns.violinplot(data=df, x='genre', y='sentiment_score', inner='quartile')\n",
    "plt.xticks(rotation=45)\n",
    "\n",
    "df.groupby('release_year')['sentiment_score'].mean().plot()\n",
    "plt.title(\"Average Sentiment Score per Year\")\n",
    "\n",
    "heatmap_data = df.groupby(['release_year', 'release_month']).size().unstack(fill_value=0)\n",
    "sns.heatmap(heatmap_data, cmap=\"YlGnBu\")\n",
    "plt.title(\"Release Frequency Heatmap\")"
   ]
  },
  {
   "cell_type": "code",
   "execution_count": 49,
   "id": "c3416017-b132-4ca3-b8ea-d4fc3d6318dc",
   "metadata": {},
   "outputs": [],
   "source": [
    "# Frequency encoding - replace each category with the frequency of its occurrence\n",
    "freq_map = df['genre'].value_counts().to_dict()\n",
    "df['genre_freq'] = df['genre'].map(freq_map)"
   ]
  },
  {
   "cell_type": "code",
   "execution_count": 55,
   "id": "3e2635b8-8393-4521-83a6-d3021a4fc017",
   "metadata": {},
   "outputs": [
    {
     "data": {
      "text/plain": [
       "Text(0.5, 1.0, 'Number of Songs Released per Year')"
      ]
     },
     "execution_count": 55,
     "metadata": {},
     "output_type": "execute_result"
    },
    {
     "data": {
      "image/png": "[encoded data removed]",
      "text/plain": [
       "<Figure size 640x480 with 1 Axes>"
      ]
     },
     "metadata": {},
     "output_type": "display_data"
    }
   ],
   "source": [
    "df['release_year'].value_counts().sort_index().plot(kind='bar')\n",
    "plt.title(\"Number of Songs Released per Year\")\n",
    "# Whoop! There's some 2019 songs in there!!!\n",
    "# Not accurate, due to the fact that this is a sample, but should be checked for the full dataset"
   ]
  },
  {
   "cell_type": "code",
   "execution_count": null,
   "id": "a61a8391-d462-43b4-92af-1e5b28287c33",
   "metadata": {},
   "outputs": [],
   "source": [
    "# Boxplots-good for visualizing statistical output of continuous quant data\n",
    "import seaborn as sns\n",
    "sns.set_theme(style=\"ticks\", palette=\"pastel\")\n",
    "\n",
    "# Load the example dataset\n",
    "data = df\n",
    "\n",
    "# Draw a nested boxplot to show bills by day and time\n",
    "sns.boxplot(x=\"day\", y=\"total_bill\",\n",
    "            hue=\"smoker\", palette=[\"m\", \"g\"],\n",
    "            data=data)\n",
    "sns.despine(offset=10, trim=True)"
   ]
  },
  {
   "cell_type": "code",
   "execution_count": null,
   "id": "917d7866-190f-4baa-a340-09a562ddb1d9",
   "metadata": {},
   "outputs": [],
   "source": [
    "# Barplots-good for showing counts (or use countplot), for categorical data\n",
    "# Version 1\n",
    "df = pd.crosstab(heart3['cp'], heart['output'])\n",
    "\n",
    "# Make the crosstab more visual\n",
    "sns.set(font_scale=1.3)\n",
    "sns.set_style(\"white\")\n",
    "\n",
    "df.plot(kind='bar',\n",
    "        figsize=(11,7),\n",
    "        color=['#e1d3c1', '#c64343']);\n",
    "\n",
    "plt.title(\"Heart Attack Risk vs. Chest Pain Type\", fontsize=20)\n",
    "plt.xlabel(\"Chest Pain types\", fontsize=16)\n",
    "plt.ylabel(\"Amount\", fontsize=16)\n",
    "plt.legend(['Lower Risk','Higher Risk'], fontsize=14)\n",
    "plt.xticks(rotation=0);\n",
    "\n",
    "# Version 2\n",
    "#--------------------------------------------\n",
    "plt.figure(figsize=(14,8))\n",
    "sns.set(font_scale=1.2)\n",
    "sns.set_style(\"white\")\n",
    "\n",
    "sns.countplot(x=heart[\"age\"],\n",
    "              palette='Reds')\n",
    "\n",
    "\n",
    "plt.title(\"Count of Patients Age\",fontsize=20)\n",
    "plt.xlabel(\"Age\",fontsize=16)\n",
    "plt.ylabel(\"Count\",fontsize=16)\n",
    "plt.show()\n",
    "\n",
    "# Version 3\n",
    "# ---------------------------------------------\n",
    "df = pd.crosstab(heart['output'],heart['sex'])\n",
    "\n",
    "sns.set_style(\"white\")\n",
    "\n",
    "df.plot(kind=\"bar\",\n",
    "        figsize=(6,6),\n",
    "        color=['#c64343', '#e1d3c1']);\n",
    "\n",
    "plt.title(\"Heart Attack Risk vs Sex \", fontsize=16)\n",
    "plt.xlabel(\"0 = Lower Risk                  1 = Higher Risk\", fontsize=16)\n",
    "plt.ylabel(\"Amount\", fontsize=16)\n",
    "plt.legend([\"Female\",\"Male\"], fontsize=14)\n",
    "plt.xticks(rotation=0)"
   ]
  },
  {
   "cell_type": "code",
   "execution_count": null,
   "id": "5b5ec995-45ec-463e-821d-8269dacbf2e0",
   "metadata": {},
   "outputs": [],
   "source": [
    "# Histograms-good for continuous quant data, shows DISTRIBUTION of data\n",
    "import seaborn as sns\n",
    "import matplotlib as mpl\n",
    "import matplotlib.pyplot as plt\n",
    "\n",
    "sns.set_theme(style=\"ticks\")\n",
    "\n",
    "diamonds = sns.load_dataset(\"diamonds\")\n",
    "\n",
    "f, ax = plt.subplots(figsize=(7, 5))\n",
    "sns.despine(f)\n",
    "\n",
    "sns.histplot(\n",
    "    diamonds,\n",
    "    x=\"price\", hue=\"cut\",\n",
    "    multiple=\"stack\",\n",
    "    palette=\"light:m_r\",\n",
    "    edgecolor=\".3\",\n",
    "    linewidth=.5,\n",
    "    log_scale=True,\n",
    ")\n",
    "ax.xaxis.set_major_formatter(mpl.ticker.ScalarFormatter())\n",
    "ax.set_xticks([500, 1000, 2000, 5000, 10000])"
   ]
  },
  {
   "cell_type": "code",
   "execution_count": null,
   "id": "dbb839a0-df44-4e23-a921-471acd53d3d8",
   "metadata": {},
   "outputs": [],
   "source": [
    "# Linemaps\n",
    "plt.figure(figsize=(8,6))\n",
    "\n",
    "sns.lineplot(y=\"chol\",\n",
    "             x=\"age\",\n",
    "             data=heart,\n",
    "             color=\"red\")\n",
    "\n",
    "plt.title(\"Cholesterol with Age\",fontsize=20)\n",
    "plt.xlabel(\"Age\",fontsize=16)\n",
    "plt.ylabel(\"Cholesterol Level\",fontsize=16)\n",
    "plt.show()"
   ]
  },
  {
   "cell_type": "code",
   "execution_count": null,
   "id": "5a98df8e-f519-4da9-b2e3-8185a3b7b2d8",
   "metadata": {},
   "outputs": [],
   "source": [
    "# Heatmaps-good for showing relationships between features (NUMERICAL ONLY)\n",
    "plt.figure(figsize=(12,10))\n",
    "sns.set(font_scale=0.9)\n",
    "\n",
    "sns.heatmap(heart.corr(),\n",
    "            annot=True,\n",
    "            cmap='Reds')\n",
    "\n",
    "plt.title(\"Correlation Between Variables\", size=15)\n",
    "plt.show()"
   ]
  },
  {
   "cell_type": "code",
   "execution_count": null,
   "id": "95870046-d681-41ee-a178-87994a125d76",
   "metadata": {},
   "outputs": [],
   "source": [
    "# Scatterplots-good for inital data visualization, discrete/continuous quant data\n",
    "import seaborn as sns\n",
    "import matplotlib.pyplot as plt\n",
    "sns.set_theme(style=\"whitegrid\")\n",
    "\n",
    "# Load the example diamonds dataset\n",
    "diamonds = sns.load_dataset(\"diamonds\")\n",
    "\n",
    "# Scatter plot of point colors and sizes to different\n",
    "# variables in the dataset\n",
    "f, ax = plt.subplots(figsize=(6.5, 6.5))\n",
    "sns.despine(f, left=True, bottom=True)\n",
    "clarity_ranking = [\"I1\", \"SI2\", \"SI1\", \"VS2\", \"VS1\", \"VVS2\", \"VVS1\", \"IF\"]\n",
    "sns.scatterplot(x=\"carat\", y=\"price\",\n",
    "                hue=\"clarity\", size=\"depth\",\n",
    "                palette=\"ch:r=-.2,d=.3_r\",\n",
    "                hue_order=clarity_ranking,\n",
    "                sizes=(1, 8), linewidth=0,\n",
    "                data=diamonds, ax=ax)"
   ]
  },
  {
   "cell_type": "code",
   "execution_count": null,
   "id": "2bf6b98c-04c0-4844-8a79-1f4991f415b0",
   "metadata": {},
   "outputs": [],
   "source": [
    "# Distribution\n",
    "#Version 1\n",
    "sns.set(font_scale=1.3)\n",
    "plt.figure(figsize=(8,6))\n",
    "sns.set_style(\"white\")\n",
    "\n",
    "sns.distplot(heart[heart[\"output\"]==0][\"chol\"],\n",
    "             color=\"blue\")\n",
    "sns.distplot(heart[heart[\"output\"]==1][\"chol\"],\n",
    "             color=\"red\")\n",
    "\n",
    "plt.title(\"Heart Attack Risk vs Cholesterol\", size=20)\n",
    "plt.xlabel(\"Cholesterol Level\", fontsize=16)\n",
    "plt.ylabel(\"Density\", fontsize=16)\n",
    "plt.legend([\"Lower Risk\",\"Higher Risk\"], fontsize=14)\n",
    "plt.show()\n",
    "\n",
    "# Version 2\n",
    "#----------------------------------------------------\n",
    "sns.set(font_scale=1.3)\n",
    "plt.figure(figsize=(8,6))\n",
    "sns.set_style(\"white\")\n",
    "\n",
    "sns.distplot(heart['age'],\n",
    "             color='red',\n",
    "             kde=True)\n",
    "\n",
    "\n",
    "plt.title(\"Distribution of Patients Age\",fontsize=20)\n",
    "plt.xlabel(\"Age\",fontsize=16)\n",
    "plt.ylabel(\"Density\",fontsize=16)\n",
    "plt.show()"
   ]
  },
  {
   "cell_type": "markdown",
   "id": "4af3f531-a3fb-463c-a891-f5cc8c5d3468",
   "metadata": {},
   "source": [
    "Data Cleaning\r\n",
    "\r\n",
    "1. Initial Assessment\r\n",
    "Use df.head(), df.info(), and df.describe() to understand the structure, data types, and basic statistics.\r\n",
    "Missing Values: Check for missing values using df.isnull().sum() and identify patterns. \r\n",
    "2. Handling Missing Data\r\n",
    "Analysis: Analyze patterns in missing data to choose the appropriate method.\r\n",
    "Imputation: Fill missing values using df.fillna() with methods like mean, median, or mode.\r\n",
    "Remove: Remove rows or columns with missing values using df.dropna(). \r\n",
    "3. Duplicates\r\n",
    "Use df.duplicated() to find duplicate rows.\r\n",
    "Use df.drop_duplicates() to remove them.\r\n",
    "4. Data Types\r\n",
    "Use df.dtypes to check data types of columns.\r\n",
    "Use df['column'].astype() or pd.to_datetime() to convert to the correct types.\r\n",
    "5. Text and Categorical Data\r\n",
    "Use string methods like lower(), upper(), strip(), and replace() to standardize text.\r\n",
    "Fix spelling variations and merge similar categories.\r\n",
    "Use regular expressions for complex pattern matching.\r\n",
    "6. Outliers\r\n",
    "Use visualizations (box plots, scatter plots) or statistical methods (IQR) to identify outliers.\r\n",
    "Decide to remove, transform, or cap outliers based on their nature and impact.\r\n",
    "7. Structural Errors\r\n",
    "Clean column names using string methods and ensure they are consistent.\r\n",
    "Apply consistent formatting across similar fields.\r\n",
    "8. Transformations\r\n",
    "Normalize numerical features using methods like min-max scaling or standardization.\r\n",
    "Encode categorical data using one-hot encoding or label encoding.\r\n",
    "9. Validation\r\n",
    "Validate and cross-check data against other sources or domain knowledge.\r\n",
    "Check summary statistics after cleaning to verify results.\r\n",
    "10. Saving Data\r\n",
    "Use df.to_csv() or similar functions to save the cleaned dataset.\r\n",
    "\r\n",
    "Data Cleaning Visualization Techniques\r\n",
    "Histograms: Used to visualize the distribution of numerical data. Helps identify outliers and skewness.\r\n",
    "Bar plots: Useful for visualizing categorical data and frequency distributions.\r\n",
    "Box plots: Show the distribution of numerical data, highlighting medians, quartiles, and outliers.\r\n",
    "Scatter plots: Display the relationship between two numerical variables, useful for identifying correlations.\r\n",
    "Heatmaps: Useful for visualizing the correlation matrix between numerical features.\r\n",
    "Line plots: Used for visualizing time series data or trends over a continuous variable.\r\n",
    "Missing data visualizations: Use heatmaps or bar plots to display the pattern and extent of missing values in the dataset.\r\n",
    "\r\n"
   ]
  },
  {
   "cell_type": "markdown",
   "id": "4b367629-c1e6-4a47-9fc8-edc629066dac",
   "metadata": {},
   "source": [
    "## Data transformation"
   ]
  },
  {
   "cell_type": "code",
   "execution_count": null,
   "id": "ff63a942-1b71-435e-a150-04b9c2bd39db",
   "metadata": {},
   "outputs": [],
   "source": []
  },
  {
   "cell_type": "code",
   "execution_count": null,
   "id": "1c604d07-dade-4610-9418-5469924e4716",
   "metadata": {},
   "outputs": [],
   "source": []
  },
  {
   "cell_type": "code",
   "execution_count": null,
   "id": "70f465bd-9d5b-4bbb-9285-7a5cff10baaa",
   "metadata": {},
   "outputs": [],
   "source": [
    "# PCA, ICA, LDA"
   ]
  }
 ],
 "metadata": {
  "kernelspec": {
   "display_name": "Python 3 (ipykernel)",
   "language": "python",
   "name": "python3"
  },
  "language_info": {
   "codemirror_mode": {
    "name": "ipython",
    "version": 3
   },
   "file_extension": ".py",
   "mimetype": "text/x-python",
   "name": "python",
   "nbconvert_exporter": "python",
   "pygments_lexer": "ipython3",
   "version": "3.11.5"
  }
 },
 "nbformat": 4,
 "nbformat_minor": 5
}
