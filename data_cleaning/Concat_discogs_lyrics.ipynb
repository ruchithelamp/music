{
 "cells": [
  {
   "cell_type": "code",
   "execution_count": 1,
   "id": "581b00ec",
   "metadata": {},
   "outputs": [
    {
     "name": "stderr",
     "output_type": "stream",
     "text": [
      "/home/smacieje/.local/lib/python3.9/site-packages/pandas/core/computation/expressions.py:21: UserWarning: Pandas requires version '2.8.4' or newer of 'numexpr' (version '2.7.3' currently installed).\n",
      "  from pandas.core.computation.check import NUMEXPR_INSTALLED\n",
      "/home/smacieje/.local/lib/python3.9/site-packages/pandas/core/arrays/masked.py:61: UserWarning: Pandas requires version '1.3.6' or newer of 'bottleneck' (version '1.3.2' currently installed).\n",
      "  from pandas.core import (\n"
     ]
    }
   ],
   "source": [
    "import tqdm\n",
    "import pandas as pd\n",
    "import os \n",
    "\n",
    "df1 = pd.read_csv('/home/smacieje/data/discogs_tracks_2007_with_lyrics.csv', low_memory=False)\n",
    "df2 = pd.read_csv('/home/smacieje/data/discogs_tracks_2008_with_lyrics.csv', low_memory=False)\n",
    "df3 = pd.read_csv('/home/smacieje/data/discogs_tracks_2009_with_lyrics.csv', low_memory=False)\n",
    "df4 = pd.read_csv('/home/smacieje/data/discogs_tracks_2020_with_lyrics.csv', low_memory=False)\n",
    "df5 = pd.read_csv('/home/smacieje/data/discogs_tracks_2025_with_lyrics.csv', low_memory=False)"
   ]
  },
  {
   "cell_type": "code",
   "execution_count": 2,
   "id": "ac5d6c80",
   "metadata": {},
   "outputs": [
    {
     "data": {
      "text/plain": [
       "(10435, 12)"
      ]
     },
     "execution_count": 2,
     "metadata": {},
     "output_type": "execute_result"
    }
   ],
   "source": [
    "concated = pd.concat([df1, df2, df3, df4, df5], ignore_index=True)\n",
    "concated.shape"
   ]
  },
  {
   "cell_type": "code",
   "execution_count": 3,
   "id": "937a9589",
   "metadata": {},
   "outputs": [],
   "source": [
    "concated.drop(columns=['track_position'], inplace=True)"
   ]
  },
  {
   "cell_type": "code",
   "execution_count": 4,
   "id": "ae7e279a",
   "metadata": {},
   "outputs": [],
   "source": [
    "concated = concated.rename(columns={'album_title':'album', 'track_title':'title'})"
   ]
  },
  {
   "cell_type": "code",
   "execution_count": 5,
   "id": "e55a1ef9",
   "metadata": {},
   "outputs": [],
   "source": [
    "new_order = ['release_id', 'album', 'artist', 'title', 'year', 'country', 'duration', 'genre',\n",
    "       'style', 'source', 'lyrics']\n",
    "concated = concated[new_order]"
   ]
  },
  {
   "cell_type": "code",
   "execution_count": 6,
   "id": "e5ee23dc",
   "metadata": {},
   "outputs": [
    {
     "data": {
      "text/html": [
       "<div>\n",
       "<style scoped>\n",
       "    .dataframe tbody tr th:only-of-type {\n",
       "        vertical-align: middle;\n",
       "    }\n",
       "\n",
       "    .dataframe tbody tr th {\n",
       "        vertical-align: top;\n",
       "    }\n",
       "\n",
       "    .dataframe thead th {\n",
       "        text-align: right;\n",
       "    }\n",
       "</style>\n",
       "<table border=\"1\" class=\"dataframe\">\n",
       "  <thead>\n",
       "    <tr style=\"text-align: right;\">\n",
       "      <th></th>\n",
       "      <th>release_id</th>\n",
       "      <th>album</th>\n",
       "      <th>artist</th>\n",
       "      <th>title</th>\n",
       "      <th>year</th>\n",
       "      <th>country</th>\n",
       "      <th>duration</th>\n",
       "      <th>genre</th>\n",
       "      <th>style</th>\n",
       "      <th>source</th>\n",
       "      <th>lyrics</th>\n",
       "    </tr>\n",
       "  </thead>\n",
       "  <tbody>\n",
       "    <tr>\n",
       "      <th>0</th>\n",
       "      <td>4274581</td>\n",
       "      <td>Anthems Of Resistance</td>\n",
       "      <td>Wolfpack Unleashed</td>\n",
       "      <td>Last Dance Of A Dying King</td>\n",
       "      <td>2007</td>\n",
       "      <td>Europe</td>\n",
       "      <td>NaN</td>\n",
       "      <td>Rock</td>\n",
       "      <td>Thrash</td>\n",
       "      <td>discogs</td>\n",
       "      <td>NaN</td>\n",
       "    </tr>\n",
       "    <tr>\n",
       "      <th>1</th>\n",
       "      <td>4274581</td>\n",
       "      <td>Anthems Of Resistance</td>\n",
       "      <td>Wolfpack Unleashed</td>\n",
       "      <td>Religion Of Control (Radio Edit)</td>\n",
       "      <td>2007</td>\n",
       "      <td>Europe</td>\n",
       "      <td>NaN</td>\n",
       "      <td>Rock</td>\n",
       "      <td>Thrash</td>\n",
       "      <td>discogs</td>\n",
       "      <td>NaN</td>\n",
       "    </tr>\n",
       "    <tr>\n",
       "      <th>2</th>\n",
       "      <td>4274581</td>\n",
       "      <td>Anthems Of Resistance</td>\n",
       "      <td>Wolfpack Unleashed</td>\n",
       "      <td>Next Victim</td>\n",
       "      <td>2007</td>\n",
       "      <td>Europe</td>\n",
       "      <td>NaN</td>\n",
       "      <td>Rock</td>\n",
       "      <td>Thrash</td>\n",
       "      <td>discogs</td>\n",
       "      <td>NaN</td>\n",
       "    </tr>\n",
       "    <tr>\n",
       "      <th>3</th>\n",
       "      <td>4274581</td>\n",
       "      <td>Anthems Of Resistance</td>\n",
       "      <td>Wolfpack Unleashed</td>\n",
       "      <td>Killing Fields</td>\n",
       "      <td>2007</td>\n",
       "      <td>Europe</td>\n",
       "      <td>NaN</td>\n",
       "      <td>Rock</td>\n",
       "      <td>Thrash</td>\n",
       "      <td>discogs</td>\n",
       "      <td>NaN</td>\n",
       "    </tr>\n",
       "    <tr>\n",
       "      <th>4</th>\n",
       "      <td>4274581</td>\n",
       "      <td>Anthems Of Resistance</td>\n",
       "      <td>Wolfpack Unleashed</td>\n",
       "      <td>Disgrace Erased</td>\n",
       "      <td>2007</td>\n",
       "      <td>Europe</td>\n",
       "      <td>NaN</td>\n",
       "      <td>Rock</td>\n",
       "      <td>Thrash</td>\n",
       "      <td>discogs</td>\n",
       "      <td>NaN</td>\n",
       "    </tr>\n",
       "  </tbody>\n",
       "</table>\n",
       "</div>"
      ],
      "text/plain": [
       "   release_id                  album              artist  \\\n",
       "0     4274581  Anthems Of Resistance  Wolfpack Unleashed   \n",
       "1     4274581  Anthems Of Resistance  Wolfpack Unleashed   \n",
       "2     4274581  Anthems Of Resistance  Wolfpack Unleashed   \n",
       "3     4274581  Anthems Of Resistance  Wolfpack Unleashed   \n",
       "4     4274581  Anthems Of Resistance  Wolfpack Unleashed   \n",
       "\n",
       "                              title  year country duration genre   style  \\\n",
       "0        Last Dance Of A Dying King  2007  Europe      NaN  Rock  Thrash   \n",
       "1  Religion Of Control (Radio Edit)  2007  Europe      NaN  Rock  Thrash   \n",
       "2                       Next Victim  2007  Europe      NaN  Rock  Thrash   \n",
       "3                    Killing Fields  2007  Europe      NaN  Rock  Thrash   \n",
       "4                   Disgrace Erased  2007  Europe      NaN  Rock  Thrash   \n",
       "\n",
       "    source lyrics  \n",
       "0  discogs    NaN  \n",
       "1  discogs    NaN  \n",
       "2  discogs    NaN  \n",
       "3  discogs    NaN  \n",
       "4  discogs    NaN  "
      ]
     },
     "execution_count": 6,
     "metadata": {},
     "output_type": "execute_result"
    }
   ],
   "source": [
    "concated.head()"
   ]
  },
  {
   "cell_type": "code",
   "execution_count": 7,
   "id": "0475bc99",
   "metadata": {},
   "outputs": [
    {
     "data": {
      "text/plain": [
       "(10435, 11)"
      ]
     },
     "execution_count": 7,
     "metadata": {},
     "output_type": "execute_result"
    }
   ],
   "source": [
    "concated.shape"
   ]
  },
  {
   "cell_type": "code",
   "execution_count": 8,
   "id": "7a0b029d",
   "metadata": {},
   "outputs": [
    {
     "name": "stdout",
     "output_type": "stream",
     "text": [
      "<class 'pandas.core.frame.DataFrame'>\n",
      "RangeIndex: 10435 entries, 0 to 10434\n",
      "Data columns (total 11 columns):\n",
      " #   Column      Non-Null Count  Dtype \n",
      "---  ------      --------------  ----- \n",
      " 0   release_id  10435 non-null  int64 \n",
      " 1   album       10435 non-null  object\n",
      " 2   artist      10435 non-null  object\n",
      " 3   title       10432 non-null  object\n",
      " 4   year        10435 non-null  int64 \n",
      " 5   country     10245 non-null  object\n",
      " 6   duration    3594 non-null   object\n",
      " 7   genre       10435 non-null  object\n",
      " 8   style       8167 non-null   object\n",
      " 9   source      10435 non-null  object\n",
      " 10  lyrics      3478 non-null   object\n",
      "dtypes: int64(2), object(9)\n",
      "memory usage: 896.9+ KB\n"
     ]
    }
   ],
   "source": [
    "concated.info()"
   ]
  },
  {
   "cell_type": "code",
   "execution_count": 9,
   "id": "36be58a9",
   "metadata": {},
   "outputs": [],
   "source": [
    "concated.to_csv('/home/smacieje/data/all_discogs_lyrics_concated.csv')"
   ]
  }
 ],
 "metadata": {
  "kernelspec": {
   "display_name": "Python 3 (ipykernel)",
   "language": "python",
   "name": "python3"
  },
  "language_info": {
   "codemirror_mode": {
    "name": "ipython",
    "version": 3
   },
   "file_extension": ".py",
   "mimetype": "text/x-python",
   "name": "python",
   "nbconvert_exporter": "python",
   "pygments_lexer": "ipython3",
   "version": "3.9.7"
  }
 },
 "nbformat": 4,
 "nbformat_minor": 5
}
