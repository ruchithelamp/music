{
 "cells": [
  {
   "cell_type": "markdown",
   "id": "bcd23b37-6331-411c-803d-41c1eab6a3d0",
   "metadata": {},
   "source": [
    "This is Ruchi's original attmpt at obtaining music data from various sources: LastFM, Genius Lyrics, and Musicbrainz. It shows us what kind of returns we can obtain from each site. "
   ]
  },
  {
   "cell_type": "code",
   "execution_count": null,
   "id": "6561f1f0-eeb7-43a1-9570-1018ce20a41a",
   "metadata": {},
   "outputs": [],
   "source": [
    "# Load libraries\n",
    "import os\n",
    "from dotenv import load_dotenv\n",
    "import musicbrainzngs\n",
    "import pprint\n",
    "import requests\n",
    "import lyricsgenius"
   ]
  },
  {
   "cell_type": "code",
   "execution_count": null,
   "id": "58ec33cb-a6b1-4b4e-8cb0-96b341169a5f",
   "metadata": {},
   "outputs": [],
   "source": [
    "# Set a user agent for MusicBrainz\n",
    "#musicbrainzngs.set_useragent(\"music-trend-project\", \"0.1\", \"your_email@example.com\")\n",
    "musicbrainzngs.set_useragent(\"music-study\", \"0.1\", \"ruchipatil@outlook.com\")\n",
    "\n",
    "# Search for a track\n",
    "result = musicbrainzngs.search_recordings(query=\"Euphoria\", limit=1)\n",
    "track = result['recording-list'][0]\n",
    "\n",
    "print(\"title: \", track['title'])\n",
    "print(\"artist: \", track['artist-credit'][0]['name'])\n",
    "print(\"MBID: \", track['id'])\n",
    "mbid = track['id']\n",
    "# for k, v in track.items():\n",
    "#     print(\"--------------------------------------------------------\")\n",
    "#     print(f'{k}: {v}')\n",
    "\n",
    "pprint.pprint(track)"
   ]
  },
  {
   "cell_type": "code",
   "execution_count": null,
   "id": "416b9226-9afe-414d-9903-98f141270885",
   "metadata": {},
   "outputs": [],
   "source": [
    "# Use mbid from previous step\n",
    "mbid = track['id']  \n",
    "url = f\"https://acousticbrainz.org/api/v1/{mbid}/high-level\"\n",
    "\n",
    "response = requests.get(url)\n",
    "if response.status_code == 200:\n",
    "    data = response.json()\n",
    "    print(\"🎛️ Acoustic Features (high-level):\")\n",
    "    print(data[\"highlevel\"])\n",
    "else:\n",
    "    print(f\"❌ Could not fetch features for {mbid}\")"
   ]
  },
  {
   "cell_type": "code",
   "execution_count": null,
   "id": "e2d024df-5449-4403-b7ae-72508048a5da",
   "metadata": {},
   "outputs": [],
   "source": [
    "# mbid = 'eb1ce8de-c51a-4e6a-a03f-15db3163f67e'\n",
    "\n",
    "url = f\"https://acousticbrainz.org/api/v1/{mbid}/high-level\"\n",
    "\n",
    "response = requests.get(url)\n",
    "\n",
    "if response.status_code == 200:\n",
    "    data = response.json()\n",
    "    print(\"features according to acoustic brainz\")\n",
    "    pprint.pprint(data)\n",
    "else:\n",
    "    print(\"error\", response.status_code)"
   ]
  },
  {
   "cell_type": "markdown",
   "id": "27f869ab-41a3-4df5-afbe-f0ebc6e4e9f8",
   "metadata": {},
   "source": [
    "The unique mbid looks like a great way to pull music information from Musicbrainz. We need to set up our API call requests to pull all songs for a given set of years. We should have JSON returns, as these are easy to dump into a Pandas Dataframe and then we can transform into CSV for saving if needed. \n",
    "We then need to run all songs through another API call set for Genius Lyrics to get the lyrics. (into separate file, then merge?)\n",
    "Once we have all the songs and lyrics, we need to select the subset that has English lyrics."
   ]
  },
  {
   "cell_type": "code",
   "execution_count": null,
   "id": "2a5a11ab-ec88-46a3-b4f0-29ff49e3334b",
   "metadata": {},
   "outputs": [],
   "source": [
    "# Set user agent for LastFM\n",
    "load_dotenv()\n",
    "\n",
    "lastfm_key = os.getenv(\"LAST_FM_API_KEY\")\n",
    "artist = \"Kendrick Lamar\"\n",
    "track_name = \"Euphoria\"\n",
    "\n",
    "url = f\"http://ws.audioscrobbler.com/2.0/?method=track.getInfo&artist={artist}&track={track_name}&api_key={lastfm_key}&format=json\"\n",
    "response = requests.get(url)\n",
    "if response.status_code == 200:\n",
    "    info = response.json()\n",
    "    print(\"🎧 Playcount:\", info['track']['playcount'])\n",
    "    print(\"🏷️ Tags:\", [tag['name'] for tag in info['track']['toptags']['tag']])\n",
    "else:\n",
    "    print(\"❌ Last.fm request failed\")"
   ]
  },
  {
   "cell_type": "code",
   "execution_count": null,
   "id": "3a981597-441b-4cc9-9b26-52ead6851639",
   "metadata": {},
   "outputs": [],
   "source": [
    "# Second attempt LastFM\n",
    "load_dotenv()\n",
    "\n",
    "lastfm_key = os.getenv(\"LAST_FM_API_KEY\")\n",
    "artist = \"britney\"\n",
    "track = \"womanizer\"\n",
    "\n",
    "url = f\"http://ws.audioscrobbler.com/2.0/?method=track.getInfo&artist={artist}&track={track}&api_key={lastfm_key}&format=json\"\n",
    "response = requests.get(url)\n",
    "if response.status_code == 200:\n",
    "    data = response.json()\n",
    "    pprint.pprint(data)\n",
    "else:\n",
    "    print(\"erm idk error: \", response.status_code)"
   ]
  },
  {
   "cell_type": "code",
   "execution_count": null,
   "id": "c30cb799-9c3d-4005-bd95-e8dd6f9238b5",
   "metadata": {},
   "outputs": [],
   "source": [
    "# Set user agent for Genius Lyrics\n",
    "load_dotenv()\n",
    "genius_token = os.getenv(\"GENIUS_API_TOKEN\")\n",
    "genius = lyricsgenius.Genius(genius_token)\n",
    "\n",
    "song = genius.search_song(\"womanizer\", \"britney\")\n",
    "\n",
    "if song:\n",
    "    print(\"yay we found song: \", song.title, \"by\", song.artist)\n",
    "    print(song.lyrics[:500])                                    # show first 500 chars\n",
    "else:                                                           # need to set 'continue' so function doesn't stop\n",
    "    print(\"WOMPWOMP song not found\")"
   ]
  },
  {
   "cell_type": "code",
   "execution_count": null,
   "id": "75a4bcc2-9fba-405e-9ec7-161f59ad98e8",
   "metadata": {},
   "outputs": [],
   "source": [
    "import requests\n",
    "DISCOGS_TOKEN = \"xmWNqVMtvKoFllImiTkEbgIMpgmdVRVggXqrWJPQ\"   #\"your_discogs_token_here\"\n",
    "\n",
    "def search_discogs_by_year(year, per_page=10):\n",
    "    url = \"https://api.discogs.com/database/search\"\n",
    "    headers = {\"User-Agent\": \"YourAppName/1.0\"}\n",
    "    params = {\n",
    "        \"token\": DISCOGS_TOKEN,\n",
    "        \"year\": year,\n",
    "        \"type\": \"release\",\n",
    "        \"format\": \"Album\",\n",
    "        \"per_page\": per_page,\n",
    "        \"page\": 1\n",
    "    }\n",
    "\n",
    "    response = requests.get(url, headers=headers, params=params)\n",
    "    data = response.json()\n",
    "    results = data.get(\"results\", [])\n",
    "    return results\n",
    "\n",
    "results = search_discogs_by_year(2020, per_page=20)\n",
    "#print(results[0])\n",
    "import pprint\n",
    "pprint.pprint(results[:3])"
   ]
  },
  {
   "cell_type": "code",
   "execution_count": null,
   "id": "7b591036-baf9-44c4-8167-970159ddb9a1",
   "metadata": {},
   "outputs": [],
   "source": [
    "# Can we use Ruchi's Genius Lyrics setup?\n",
    "import pprint\n",
    "import requests\n",
    "import lyricsgenius\n",
    "\n",
    "GENIUS_API_TOKEN = \"r6vW9hyUck05RRuvBF4L1f5MjirVAeuHO0tauARd-aB1pt7xscCUVzMnFoFC2WTS\"\n",
    "genius = lyricsgenius.Genius(GENIUS_API_TOKEN)\n",
    "\n",
    "song = genius.search_song(\"womanizer\", \"britney\")\n",
    "\n",
    "if song:\n",
    "    pos = int(song.lyrics.find('[Verse 1]'))\n",
    "    print(song.lyrics[pos:])                                  # show first 500 chars print(song.lyrics[:500])\n",
    "else:                                                           # need to change index to only get song lyrics\n",
    "    print(\"Song not found\")\n",
    "\n",
    "# Genius has option to strip the headers too..."
   ]
  },
  {
   "cell_type": "code",
   "execution_count": null,
   "id": "c0bd2fac-7070-4471-816f-c3ed217e7e85",
   "metadata": {},
   "outputs": [],
   "source": [
    "import lyricsgenius\n",
    "\n",
    "GENIUS_API_TOKEN = \"r6vW9hyUck05RRuvBF4L1f5MjirVAeuHO0tauARd-aB1pt7xscCUVzMnFoFC2WTS\"\n",
    "\n",
    "# Initialize the Genius API client\n",
    "genius = lyricsgenius.Genius(GENIUS_API_TOKEN)\n",
    "\n",
    "# Other Genius settings for cleaner results\n",
    "genius.verbose = False\n",
    "genius.remove_section_headers = True\n",
    "genius.skip_non_songs = True\n",
    "\n",
    "song = genius.search_song(\"womanizer\", \"britney\")\n",
    "\n",
    "if song:\n",
    "    print(f\"🎵 Found song: {song.title} by {song.artist}\")\n",
    "    print(song.lyrics)  # Full lyrics to see results\n",
    "else:\n",
    "    print(\"🚫 Song not found.\")"
   ]
  },
  {
   "cell_type": "code",
   "execution_count": null,
   "id": "64b823ae-061c-4790-b85e-c87c11899422",
   "metadata": {},
   "outputs": [],
   "source": []
  }
 ],
 "metadata": {
  "kernelspec": {
   "display_name": "Python 3 (ipykernel)",
   "language": "python",
   "name": "python3"
  },
  "language_info": {
   "codemirror_mode": {
    "name": "ipython",
    "version": 3
   },
   "file_extension": ".py",
   "mimetype": "text/x-python",
   "name": "python",
   "nbconvert_exporter": "python",
   "pygments_lexer": "ipython3",
   "version": "3.11.5"
  }
 },
 "nbformat": 4,
 "nbformat_minor": 5
}
