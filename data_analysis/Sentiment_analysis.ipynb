{
 "cells": [
  {
   "cell_type": "markdown",
   "id": "884bc008-06f3-4427-9513-dafc513ebdac",
   "metadata": {},
   "source": [
    "## Version 1\n",
    "This is a DilBERT-base version, to better work with the emotions and layering of music lyrics."
   ]
  },
  {
   "cell_type": "code",
   "execution_count": null,
   "id": "e68599e4-ab97-44cf-b571-8b2447812803",
   "metadata": {},
   "outputs": [],
   "source": [
    "#pip install hf_xet"
   ]
  },
  {
   "cell_type": "code",
   "execution_count": null,
   "id": "e9f2d508-c6fd-409d-a3e1-c9bf134166f2",
   "metadata": {},
   "outputs": [],
   "source": [
    "import pandas as pd\n",
    "import gensim\n",
    "from transformers import pipeline, AutoTokenizer\n",
    "from tqdm import tqdm\n",
    "\n",
    "transformer = pipeline(\"sentiment-analysis\", model=\"distilbert-base-uncased-finetuned-sst-2-english\")"
   ]
  },
  {
   "cell_type": "code",
   "execution_count": null,
   "id": "b930977d-a860-4521-b03a-f9f3b703bea6",
   "metadata": {},
   "outputs": [],
   "source": [
    "tokenizer = AutoTokenizer.from_pretrained(\"distilbert-base-uncased-finetuned-sst-2-english\")\n",
    "\n",
    "def transformer_sentiment(text):\n",
    "    if pd.isna(text):\n",
    "        return None\n",
    "    \n",
    "    # Properly tokenize and truncate to max 512 tokens\n",
    "    tokens = tokenizer.encode(text, truncation=True, max_length=512)\n",
    "    truncated_text = tokenizer.decode(tokens, skip_special_tokens=True)\n",
    "    \n",
    "    result = transformer(truncated_text)[0]\n",
    "    return result['score'] if result['label'] == 'POSITIVE' else -result['score']"
   ]
  },
  {
   "cell_type": "code",
   "execution_count": null,
   "id": "d010f106-cb78-4e57-8ab1-7792101e4903",
   "metadata": {},
   "outputs": [],
   "source": [
    "#df_subset['sentiment_score'] = df_subset['clean_lyrics'].apply(lambda lyric: transformer_sentiment(lyric.strip()) if pd.notna(lyric) else None)\n",
    "df['sentiment_score'] = df['clean_lyrics'].apply(\n",
    "    lambda lyric: transformer_sentiment(lyric.strip()) if pd.notna(lyric) else None\n",
    ")"
   ]
  },
  {
   "cell_type": "code",
   "execution_count": null,
   "id": "271c23f8-b638-4293-b6d7-42d566fd764b",
   "metadata": {},
   "outputs": [],
   "source": [
    "df.head()"
   ]
  },
  {
   "cell_type": "code",
   "execution_count": null,
   "id": "b760b644-2e54-4ce1-9ca4-d66e3b3db401",
   "metadata": {},
   "outputs": [],
   "source": [
    "df.to_csv(\"all_en_lyrics_processed.csv\")"
   ]
  },
  {
   "cell_type": "markdown",
   "id": "0787e24e-ec36-4607-91ed-7abbe11c94e8",
   "metadata": {},
   "source": [
    "## Version 2 \n",
    "### Batch processing for the large datasets"
   ]
  },
  {
   "cell_type": "code",
   "execution_count": null,
   "id": "d548a3e1-4282-4902-b033-a6c3936422f2",
   "metadata": {},
   "outputs": [],
   "source": [
    "import pandas as pd\n",
    "import numpy as np\n",
    "from transformers import pipeline, AutoTokenizer\n",
    "from tqdm import tqdm\n",
    "import time\n",
    "import pickle\n",
    "import os\n",
    "import torch"
   ]
  },
  {
   "cell_type": "code",
   "execution_count": null,
   "id": "327e84f5-210c-4545-aff5-e0739ac7291a",
   "metadata": {},
   "outputs": [],
   "source": [
    "transformer = pipeline(\"sentiment-analysis\", \n",
    "                      model=\"distilbert-base-uncased-finetuned-sst-2-english\",\n",
    "                      device=0 if torch.cuda.is_available() else -1)  # Can we use on Great Lakes?\n",
    "\n",
    "tokenizer = AutoTokenizer.from_pretrained(\"distilbert-base-uncased-finetuned-sst-2-english\")"
   ]
  },
  {
   "cell_type": "code",
   "execution_count": null,
   "id": "2e707e1c-e179-411c-adac-9e23a8dc3fe6",
   "metadata": {},
   "outputs": [],
   "source": [
    "def transformer_sentiment_batch(texts, batch_size=32):\n",
    "    results = []\n",
    "    \n",
    "    for i in tqdm(range(0, len(texts), batch_size), desc=\"Processing batches\"):\n",
    "        batch = texts[i:i+batch_size]\n",
    "\n",
    "        valid_texts = []\n",
    "        valid_indices = []\n",
    "        \n",
    "        for j, text in enumerate(batch):\n",
    "            if pd.notna(text) and text.strip():\n",
    "                valid_texts.append(text.strip())\n",
    "                valid_indices.append(j)\n",
    "        \n",
    "        if valid_texts:\n",
    "            batch_results = transformer(valid_texts, truncation=True, max_length=512)\n",
    "\n",
    "            batch_scores = [None] * len(batch)\n",
    "            for idx, result in zip(valid_indices, batch_results):\n",
    "                score = result['score'] if result['label'] == 'POSITIVE' else -result['score']\n",
    "                batch_scores[idx] = score\n",
    "            \n",
    "            results.extend(batch_scores)\n",
    "        else:\n",
    "            results.extend([None] * len(batch))\n",
    "    \n",
    "    return results"
   ]
  },
  {
   "cell_type": "code",
   "execution_count": null,
   "id": "48b73129-87bf-4da2-9537-19075e57de14",
   "metadata": {},
   "outputs": [],
   "source": [
    "def process_sample_first(df, sample_size=1000):\n",
    "    \"\"\"Process a sample first to estimate time and test the pipeline\"\"\"\n",
    "    print(f\"Processing sample of {sample_size} rows first...\")\n",
    "    \n",
    "    sample_df = df.sample(n=min(sample_size, len(df)), random_state=42)\n",
    "    \n",
    "    start_time = time.time()\n",
    "    sample_texts = sample_df['clean_lyrics'].tolist()\n",
    "    sample_results = transformer_sentiment_batch(sample_texts, batch_size=16)\n",
    "    end_time = time.time()\n",
    "    \n",
    "    processing_time = end_time - start_time\n",
    "    estimated_total_time = (processing_time / sample_size) * len(df)\n",
    "    \n",
    "    print(f\"Sample processing time: {processing_time:.2f} seconds\")\n",
    "    print(f\"Estimated total time: {estimated_total_time/60:.2f} minutes\")\n",
    "    print(f\"Successfully processed: {sum(1 for r in sample_results if r is not None)} out of {len(sample_results)}\")\n",
    "    \n",
    "    return sample_results, estimated_total_time"
   ]
  },
  {
   "cell_type": "code",
   "execution_count": null,
   "id": "a0264506-170c-4f38-b6ba-054feb1f0eb3",
   "metadata": {},
   "outputs": [],
   "source": [
    "# Sample test - 28 min\n",
    "sample_results, estimated_time = process_sample_first(df, sample_size=100)\n",
    "    \n",
    "if estimated_time > 3600:  # More than 1 hour\n",
    "    print(\"Estimated time is very long. Consider using TextBlob for quick results:\")\n",
    "    df['sentiment_score_quick'] = quick_sentiment_analysis(df)"
   ]
  },
  {
   "cell_type": "code",
   "execution_count": null,
   "id": "bf0eb271-c2e2-43e8-925c-21c594b219be",
   "metadata": {},
   "outputs": [],
   "source": [
    "# Simple batch processing\n",
    "texts = df['clean_lyrics'].tolist()\n",
    "df['sentiment_score'] = transformer_sentiment_batch(texts, batch_size=8)"
   ]
  },
  {
   "cell_type": "code",
   "execution_count": null,
   "id": "5b4108d4-5122-4c88-9ef6-e97be2b3de8d",
   "metadata": {},
   "outputs": [],
   "source": [
    "df"
   ]
  },
  {
   "cell_type": "code",
   "execution_count": null,
   "id": "80d2f7c1-d180-400c-902e-6d5d36d006bf",
   "metadata": {},
   "outputs": [],
   "source": [
    "df.to_csv('recession_artists_processed.csv')"
   ]
  },
  {
   "cell_type": "markdown",
   "id": "37e62932-5062-4201-b931-4b1b69ba71dd",
   "metadata": {},
   "source": [
    "## Version \n",
    "Trying a RoBERTa-base, which is for shorter texts like Twitter and social media posts."
   ]
  },
  {
   "cell_type": "code",
   "execution_count": null,
   "id": "be461106-9bc4-44ce-a492-7a854e6a58a7",
   "metadata": {},
   "outputs": [],
   "source": [
    "#pip install torch==2.6.0+cpu --index-url https://download.pytorch.org/whl/cpu"
   ]
  },
  {
   "cell_type": "code",
   "execution_count": 31,
   "id": "a99d7222-c009-422c-bc0f-7add824199c7",
   "metadata": {},
   "outputs": [],
   "source": [
    "from transformers import AutoTokenizer, AutoModelForSequenceClassification\n",
    "from scipy.special import softmax\n",
    "import numpy as np\n",
    "import pandas as pd\n",
    "\n",
    "MODEL = \"cardiffnlp/twitter-roberta-base-sentiment\"\n",
    "tokenizer = AutoTokenizer.from_pretrained(MODEL)\n",
    "model = AutoModelForSequenceClassification.from_pretrained(MODEL)"
   ]
  },
  {
   "cell_type": "code",
   "execution_count": 33,
   "id": "ce1f74bd-fe35-49ee-b8d5-c85d6b0f928c",
   "metadata": {},
   "outputs": [],
   "source": [
    "#def sentiment_analyzer2(text):\n",
    "#    if pd.isna(text): return None\n",
    "#    tokens = tokenizer(text[:512], return_tensors='pt', truncation=True)\n",
    "#    output = model(**tokens)\n",
    "#    scores = softmax(output.logits.detach().numpy()[0])\n",
    "#    labels = ['negative', 'neutral', 'positive']\n",
    "#    return dict(zip(labels, scores))"
   ]
  },
  {
   "cell_type": "code",
   "execution_count": 35,
   "id": "72dfdef7-8860-44dd-9f3d-d271254d07d7",
   "metadata": {},
   "outputs": [],
   "source": [
    "def sentiment_analyzer(text):\n",
    "    if pd.isna(text): return None\n",
    "\n",
    "    max_length = min(512, tokenizer.model_max_length)\n",
    "    \n",
    "    tokens = tokenizer(\n",
    "        text, \n",
    "        return_tensors='pt', \n",
    "        truncation=True,\n",
    "        max_length=max_length,\n",
    "        padding=True\n",
    "    )\n",
    "    \n",
    "    output = model(**tokens)\n",
    "    scores = softmax(output.logits.detach().numpy()[0])\n",
    "    labels = ['negative', 'neutral', 'positive']\n",
    "    return dict(zip(labels, scores))"
   ]
  },
  {
   "cell_type": "code",
   "execution_count": 37,
   "id": "ca465dfa-ca0a-4319-8f64-e39af44a95ea",
   "metadata": {},
   "outputs": [],
   "source": [
    "df = pd.read_csv('all_en_lyrics_processed.csv')"
   ]
  },
  {
   "cell_type": "code",
   "execution_count": 39,
   "id": "dffd28cf-4a1b-4a91-a817-87d95fc8f0d6",
   "metadata": {},
   "outputs": [],
   "source": [
    "df['sentiment'] = df['clean_lyrics'].apply(sentiment_analyzer)"
   ]
  },
  {
   "cell_type": "code",
   "execution_count": 41,
   "id": "46298099-cc9f-4579-a3c7-478f128b6729",
   "metadata": {},
   "outputs": [],
   "source": [
    "df['dominant_sentiment'] = df['sentiment'].apply(lambda x: max(x, key=x.get) if x else None)"
   ]
  },
  {
   "cell_type": "code",
   "execution_count": null,
   "id": "6d4b0143-e252-4157-a95b-b45198447d68",
   "metadata": {},
   "outputs": [],
   "source": [
    "df"
   ]
  },
  {
   "cell_type": "code",
   "execution_count": 43,
   "id": "156f238a-3813-4a44-adc4-445bd36d542f",
   "metadata": {},
   "outputs": [],
   "source": [
    "def map_sentiment_label(label):\n",
    "    mapping = {\n",
    "        'negative': -1,\n",
    "        'neutral': 0,\n",
    "        'positive': 1\n",
    "    }\n",
    "    return mapping.get(label, None)"
   ]
  },
  {
   "cell_type": "code",
   "execution_count": 45,
   "id": "63318140-ecab-4946-996f-b90523e046df",
   "metadata": {},
   "outputs": [],
   "source": [
    "df['sentiment_score'] = df['dominant_sentiment'].apply(map_sentiment_label)"
   ]
  },
  {
   "cell_type": "code",
   "execution_count": 53,
   "id": "0b9fc6dc-2a44-4a26-9ebc-33060d5e2462",
   "metadata": {},
   "outputs": [
    {
     "name": "stdout",
     "output_type": "stream",
     "text": [
      "sentiment_score\n",
      " 0.0    6902\n",
      "-1.0    2504\n",
      " 1.0    1404\n",
      "Name: count, dtype: int64\n"
     ]
    }
   ],
   "source": [
    "sentiment_counts = df['sentiment_score'].value_counts()\n",
    "print(sentiment_counts)"
   ]
  },
  {
   "cell_type": "code",
   "execution_count": 63,
   "id": "3e733304-4fdd-41c4-b896-1dcad3918858",
   "metadata": {},
   "outputs": [],
   "source": [
    "from sklearn.metrics import classification_report, confusion_matrix, accuracy_score\n",
    "import matplotlib.pyplot as plt\n",
    "import seaborn as sns\n",
    "\n",
    "def analyze_confidence(df):\n",
    "    confidences = []\n",
    "    for sentiment_dict in df['sentiment'].dropna():\n",
    "        max_confidence = max(sentiment_dict.values())\n",
    "        confidences.append(max_confidence)\n",
    "    \n",
    "    df_clean = df.dropna(subset=['sentiment']).copy()\n",
    "    df_clean['confidence'] = confidences\n",
    "    \n",
    "    plt.figure(figsize=(12, 4))\n",
    "    \n",
    "    plt.subplot(1, 2, 1)\n",
    "    plt.hist(confidences, bins=50, alpha=0.7)\n",
    "    plt.xlabel('Confidence Score')\n",
    "    plt.ylabel('Frequency')\n",
    "    plt.title('Distribution of Confidence Scores')\n",
    "    \n",
    "    plt.subplot(1, 2, 2)\n",
    "    sentiment_counts = df_clean['dominant_sentiment'].value_counts()\n",
    "    plt.bar(sentiment_counts.index, sentiment_counts.values)\n",
    "    plt.xlabel('Sentiment')\n",
    "    plt.ylabel('Count')\n",
    "    plt.title('Sentiment Distribution')\n",
    "    \n",
    "    plt.tight_layout()\n",
    "    plt.show()\n",
    "    \n",
    "    # Low confidence predictions (potential errors)\n",
    "    low_confidence = df_clean[df_clean['confidence'] < 0.5]\n",
    "    print(f\"Low confidence predictions: {len(low_confidence)} ({len(low_confidence)/len(df_clean)*100:.1f}%)\")\n",
    "    \n",
    "    return df_clean"
   ]
  },
  {
   "cell_type": "code",
   "execution_count": 64,
   "id": "8e9888f7-9c56-4c7e-ab6b-7a9842c76d90",
   "metadata": {},
   "outputs": [
    {
     "data": {
      "image/png": "[encoded data removed]",
      "text/plain": [
       "<Figure size 1200x400 with 2 Axes>"
      ]
     },
     "metadata": {},
     "output_type": "display_data"
    },
    {
     "name": "stdout",
     "output_type": "stream",
     "text": [
      "Low confidence predictions: 1797 (16.6%)\n"
     ]
    }
   ],
   "source": [
    "df_with_confidence = analyze_confidence(df)"
   ]
  },
  {
   "cell_type": "code",
   "execution_count": 55,
   "id": "ea511ce5-36fe-42bb-961d-594f01aafe5e",
   "metadata": {},
   "outputs": [],
   "source": [
    "df.to_csv('all_en_lyrics_processed_new.csv')"
   ]
  }
 ],
 "metadata": {
  "kernelspec": {
   "display_name": "Python 3 (ipykernel)",
   "language": "python",
   "name": "python3"
  },
  "language_info": {
   "codemirror_mode": {
    "name": "ipython",
    "version": 3
   },
   "file_extension": ".py",
   "mimetype": "text/x-python",
   "name": "python",
   "nbconvert_exporter": "python",
   "pygments_lexer": "ipython3",
   "version": "3.11.5"
  }
 },
 "nbformat": 4,
 "nbformat_minor": 5
}
