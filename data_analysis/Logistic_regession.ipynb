{
 "cells": [
  {
   "cell_type": "code",
   "execution_count": 1,
   "id": "f7e04f6f-537f-417e-8418-3fd50f57f8e9",
   "metadata": {},
   "outputs": [
    {
     "name": "stderr",
     "output_type": "stream",
     "text": [
      "C:\\Users\\Owner\\anaconda3\\Lib\\site-packages\\pandas\\core\\arrays\\masked.py:61: UserWarning: Pandas requires version '1.3.6' or newer of 'bottleneck' (version '1.3.5' currently installed).\n",
      "  from pandas.core import (\n"
     ]
    }
   ],
   "source": [
    "import pandas as pd\n",
    "import numpy as np\n",
    "from sklearn.feature_extraction.text import TfidfVectorizer\n",
    "from sklearn.linear_model import LogisticRegression\n",
    "from sklearn.model_selection import train_test_split, cross_val_score\n",
    "from sklearn.metrics import classification_report, confusion_matrix, roc_auc_score, roc_curve\n",
    "from sklearn.preprocessing import StandardScaler\n",
    "import matplotlib.pyplot as plt\n",
    "import seaborn as sns"
   ]
  },
  {
   "cell_type": "code",
   "execution_count": 25,
   "id": "488699b4-bc9f-4481-a8eb-cdaf981af3c9",
   "metadata": {},
   "outputs": [
    {
     "name": "stdout",
     "output_type": "stream",
     "text": [
      "Original dataset shape: (10872, 18)\n",
      "Rows with missing sentiment_score: 62\n",
      "Sentiment distribution:\n",
      "sentiment_binary\n",
      "0    9406\n",
      "1    1404\n",
      "Name: count, dtype: int64\n"
     ]
    }
   ],
   "source": [
    "df = pd.read_csv('all_en_lyrics_processed_new.csv')\n",
    "print(f\"Data shape: {df.shape}\")\n",
    "print(f\"Rows with missing sentiment_score: {df['sentiment_score'].isnull().sum()}\")\n",
    "\n",
    "df_clean = df.dropna(subset=['sentiment_score', 'clean_lyrics']).copy()\n",
    "df_clean = df_clean[df_clean['clean_lyrics'].str.strip() != ''].copy()\n",
    "\n",
    "# binary label needed for RoBERTa version, not Cardiff\n",
    "df_clean['sentiment_binary'] = (df_clean['sentiment_score'] > 0).astype(int)\n",
    "\n",
    "print(f\"Sentiment distribution:\\n{df_clean['sentiment_binary'].value_counts()}\")\n",
    "\n",
    "df = df_clean"
   ]
  },
  {
   "cell_type": "code",
   "execution_count": 5,
   "id": "d4a8557f-a22d-4750-9c5b-32519cc478e4",
   "metadata": {},
   "outputs": [
    {
     "name": "stdout",
     "output_type": "stream",
     "text": [
      "Creating TF-IDF features...\n",
      "TF-IDF matrix shape: (10810, 5000)\n"
     ]
    }
   ],
   "source": [
    "tfidf = TfidfVectorizer(\n",
    "    max_features=5000, \n",
    "    min_df=2,         \n",
    "    max_df=0.8,        \n",
    "    stop_words='english',\n",
    "    ngram_range=(1, 2) \n",
    ")\n",
    "\n",
    "X_tfidf = tfidf.fit_transform(df['clean_lyrics'].fillna(''))\n",
    "feature_names = tfidf.get_feature_names_out()\n",
    "\n",
    "print(f\"TF-IDF matrix shape: {X_tfidf.shape}\")"
   ]
  },
  {
   "cell_type": "code",
   "execution_count": 6,
   "id": "fdef1600-9aec-4c66-8a23-7a737f18b29d",
   "metadata": {},
   "outputs": [
    {
     "name": "stdout",
     "output_type": "stream",
     "text": [
      "Training set shape: (8648, 5000)\n",
      "Test set shape: (2162, 5000)\n",
      "Training logistic regression model...\n"
     ]
    }
   ],
   "source": [
    "y = df['sentiment_binary']\n",
    "\n",
    "X_train, X_test, y_train, y_test = train_test_split(\n",
    "    X_tfidf, y, test_size=0.2, random_state=42, stratify=y\n",
    ")\n",
    "\n",
    "print(f\"Training set shape: {X_train.shape}\")\n",
    "print(f\"Test set shape: {X_test.shape}\")\n",
    "\n",
    "lr_model = LogisticRegression(\n",
    "    random_state=42,\n",
    "    max_iter=1000,\n",
    "    C=1.0, \n",
    "    class_weight='balanced' \n",
    ")\n",
    "\n",
    "lr_model.fit(X_train, y_train)\n",
    "\n",
    "y_pred = lr_model.predict(X_test)\n",
    "y_pred_proba = lr_model.predict_proba(X_test)[:, 1]"
   ]
  },
  {
   "cell_type": "code",
   "execution_count": 7,
   "id": "1772282a-ac41-4458-aa53-0c1aed40cf7a",
   "metadata": {},
   "outputs": [
    {
     "name": "stdout",
     "output_type": "stream",
     "text": [
      "Classification Report:\n",
      "              precision    recall  f1-score   support\n",
      "\n",
      "           0       0.97      0.90      0.93      1881\n",
      "           1       0.55      0.82      0.66       281\n",
      "\n",
      "    accuracy                           0.89      2162\n",
      "   macro avg       0.76      0.86      0.79      2162\n",
      "weighted avg       0.92      0.89      0.90      2162\n",
      "\n",
      "\n",
      "Confusion Matrix:\n",
      "[[1689  192]\n",
      " [  50  231]]\n",
      "\n",
      "ROC AUC Score: 0.928\n",
      "Cross-validation accuracy: 0.886 (+/- 0.020)\n"
     ]
    }
   ],
   "source": [
    "print(\"Classification Report:\")\n",
    "print(classification_report(y_test, y_pred))\n",
    "\n",
    "cm = confusion_matrix(y_test, y_pred)\n",
    "print(\"\\nConfusion Matrix:\")\n",
    "print(cm)\n",
    "\n",
    "roc_auc = roc_auc_score(y_test, y_pred_proba)\n",
    "print(f\"\\nROC AUC Score: {roc_auc:.3f}\")\n",
    "\n",
    "cv_scores = cross_val_score(lr_model, X_train, y_train, cv=5, scoring='accuracy')\n",
    "print(f\"Cross-validation accuracy: {cv_scores.mean():.3f} (+/- {cv_scores.std() * 2:.3f})\")"
   ]
  },
  {
   "cell_type": "code",
   "execution_count": 8,
   "id": "878b8c3c-8274-4e55-80a8-9068a7f10ef0",
   "metadata": {},
   "outputs": [
    {
     "name": "stdout",
     "output_type": "stream",
     "text": [
      "Top 15 POSTIVE features:\n",
      "love                 Coef:  5.8922\n",
      "beautiful            Coef:  5.0976\n",
      "happy                Coef:  4.6945\n",
      "good                 Coef:  4.4025\n",
      "best                 Coef:  3.6122\n",
      "day                  Coef:  3.0222\n",
      "wonderful            Coef:  2.9568\n",
      "fun                  Coef:  2.7382\n",
      "congratulations      Coef:  2.7304\n",
      "baby                 Coef:  2.6964\n",
      "loving               Coef:  2.6441\n",
      "better               Coef:  2.6319\n",
      "life                 Coef:  2.6129\n",
      "ll                   Coef:  2.5298\n",
      "eternity             Coef:  2.4553\n",
      "\n",
      "Top 15 NEGATIVE features:\n",
      "don                  Coef: -3.2111\n",
      "left                 Coef: -3.1555\n",
      "fuck                 Coef: -3.0053\n",
      "shit                 Coef: -2.9088\n",
      "said                 Coef: -2.7112\n",
      "ain                  Coef: -2.6868\n",
      "saw                  Coef: -2.5717\n",
      "blood                Coef: -2.5392\n",
      "fight                Coef: -2.4164\n",
      "dead                 Coef: -2.3963\n",
      "broken               Coef: -2.3852\n",
      "ah                   Coef: -2.3348\n",
      "tell                 Coef: -2.3101\n",
      "nigga                Coef: -2.2630\n",
      "save                 Coef: -2.2260\n",
      "\n",
      "Top 20 most important features (by absolute coefficient):\n",
      "love                 Coef:  5.8922\n",
      "beautiful            Coef:  5.0976\n",
      "happy                Coef:  4.6945\n",
      "good                 Coef:  4.4025\n",
      "best                 Coef:  3.6122\n",
      "don                  Coef:  3.2111\n",
      "left                 Coef:  3.1555\n",
      "day                  Coef:  3.0222\n",
      "fuck                 Coef:  3.0053\n",
      "wonderful            Coef:  2.9568\n",
      "shit                 Coef:  2.9088\n",
      "fun                  Coef:  2.7382\n",
      "congratulations      Coef:  2.7304\n",
      "said                 Coef:  2.7112\n",
      "baby                 Coef:  2.6964\n",
      "ain                  Coef:  2.6868\n",
      "loving               Coef:  2.6441\n",
      "better               Coef:  2.6319\n",
      "life                 Coef:  2.6129\n",
      "saw                  Coef:  2.5717\n"
     ]
    }
   ],
   "source": [
    "# Feature Importance Analysis\n",
    "feature_coefficients = lr_model.coef_[0]\n",
    "\n",
    "feature_importance_df = pd.DataFrame({\n",
    "    'feature': feature_names,\n",
    "    'coefficient': feature_coefficients,\n",
    "    'abs_coefficient': np.abs(feature_coefficients)\n",
    "}).sort_values('abs_coefficient', ascending=False)\n",
    "\n",
    "print(\"Top 15 POSTIVE features:\")\n",
    "top_positive = feature_importance_df.nlargest(15, 'coefficient')\n",
    "for idx, row in top_positive.iterrows():\n",
    "    print(f\"{row['feature']:20s} Coef:{row['coefficient']:8.4f}\")\n",
    "\n",
    "print(\"\\nTop 15 NEGATIVE features:\")\n",
    "top_negative = feature_importance_df.nsmallest(15, 'coefficient')\n",
    "for idx, row in top_negative.iterrows():\n",
    "    print(f\"{row['feature']:20s} Coef:{row['coefficient']:8.4f}\")\n",
    "\n",
    "print(\"\\nTop 20 most important features (by absolute coefficient):\")\n",
    "top_important = feature_importance_df.head(20)\n",
    "for idx, row in top_important.iterrows():\n",
    "    print(f\"{row['feature']:20s} Coef:{row['abs_coefficient']:8.4f}\")"
   ]
  },
  {
   "cell_type": "code",
   "execution_count": 9,
   "id": "2e5dbbfa-21db-4953-9020-47a42e7c9886",
   "metadata": {},
   "outputs": [
    {
     "name": "stdout",
     "output_type": "stream",
     "text": [
      "Baseline accuracy (all features): 0.8863\n",
      "Without unigrams       : 0.8191 (drop: +0.0672)\n",
      "Without bigrams        : 0.8720 (drop: +0.0143)\n",
      "Without positive_words : 0.8738 (drop: +0.0125)\n",
      "Without negative_words : 0.8863 (drop: +0.0000)\n",
      "\n",
      "Ablation Analysis Summary:\n",
      "removed_features  num_features_removed  remaining_features  cv_accuracy  accuracy_drop\n",
      " none (baseline)                     0                5000     0.886333            NaN\n",
      "        unigrams                  3140                1860     0.819149   6.718421e-02\n",
      "         bigrams                  1860                3140     0.871994   1.433907e-02\n",
      "  positive_words                     6                4994     0.873844   1.248876e-02\n",
      "  negative_words                     4                4996     0.886333   1.337269e-07\n"
     ]
    }
   ],
   "source": [
    "# Ablation Analysis\n",
    "feature_groups = {\n",
    "    'unigrams': [f for f in feature_names if ' ' not in f],\n",
    "    'bigrams': [f for f in feature_names if ' ' in f],\n",
    "    'positive_words': ['love', 'happy', 'good', 'great', 'beautiful', 'wonderful'],\n",
    "    'negative_words': ['hate', 'sad', 'bad', 'terrible', 'awful', 'horrible']\n",
    "}\n",
    "\n",
    "filtered_groups = {}\n",
    "for group_name, words in feature_groups.items():\n",
    "    if group_name in ['unigrams', 'bigrams']:\n",
    "        filtered_groups[group_name] = words\n",
    "    else:\n",
    "        filtered_groups[group_name] = [w for w in words if w in feature_names]\n",
    "\n",
    "ablation_results = []\n",
    "\n",
    "baseline_score = cross_val_score(lr_model, X_train, y_train, cv=5, scoring='accuracy').mean()\n",
    "ablation_results.append({\n",
    "    'removed_features': 'none (baseline)',\n",
    "    'num_features_removed': 0,\n",
    "    'remaining_features': X_train.shape[1],\n",
    "    'cv_accuracy': baseline_score\n",
    "})\n",
    "\n",
    "print(f\"Baseline accuracy (all features): {baseline_score:.4f}\")\n",
    "\n",
    "for group_name, group_features in filtered_groups.items():\n",
    "    if len(group_features) == 0:\n",
    "        continue\n",
    "\n",
    "    if group_name in ['unigrams', 'bigrams']:\n",
    "        feature_indices_to_remove = [i for i, f in enumerate(feature_names) if f in group_features]\n",
    "    else:\n",
    "        feature_indices_to_remove = [i for i, f in enumerate(feature_names) if f in group_features]\n",
    "    \n",
    "    if len(feature_indices_to_remove) == 0:\n",
    "        continue\n",
    "\n",
    "    feature_mask = np.ones(X_train.shape[1], dtype=bool)\n",
    "    feature_mask[feature_indices_to_remove] = False\n",
    "\n",
    "    X_train_ablated = X_train[:, feature_mask]\n",
    "    \n",
    "    lr_ablated = LogisticRegression(\n",
    "        random_state=42, max_iter=1000, C=1.0, class_weight='balanced'\n",
    "    )\n",
    "    \n",
    "    ablated_score = cross_val_score(lr_ablated, X_train_ablated, y_train, cv=5, scoring='accuracy').mean()\n",
    "    \n",
    "    ablation_results.append({\n",
    "        'removed_features': group_name,\n",
    "        'num_features_removed': len(feature_indices_to_remove),\n",
    "        'remaining_features': X_train.shape[1] - len(feature_indices_to_remove),\n",
    "        'cv_accuracy': ablated_score,\n",
    "        'accuracy_drop': baseline_score - ablated_score\n",
    "    })\n",
    "    \n",
    "    print(f\"Without {group_name:15s}: {ablated_score:.4f} (drop: {baseline_score - ablated_score:+.4f})\")\n",
    "\n",
    "ablation_df = pd.DataFrame(ablation_results)\n",
    "print(\"\\nAblation Analysis Summary:\")\n",
    "print(ablation_df.to_string(index=False))"
   ]
  },
  {
   "cell_type": "code",
   "execution_count": 10,
   "id": "4885eb52-d8e7-4cdc-b2a1-99737f5fbe38",
   "metadata": {},
   "outputs": [
    {
     "name": "stdout",
     "output_type": "stream",
     "text": [
      "Top 15 most frequent features:\n",
      "don         Freq:   331.51 | Coef:  -3.2111\n",
      "love        Freq:   313.21 | Coef:   5.8922\n",
      "know        Freq:   301.22 | Coef:  -1.3320\n",
      "like        Freq:   301.04 | Coef:  -0.2950\n",
      "oh          Freq:   288.93 | Coef:   0.8839\n",
      "ll          Freq:   272.03 | Coef:   2.5298\n",
      "just        Freq:   270.18 | Coef:  -1.5395\n",
      "yeah        Freq:   244.48 | Coef:  -0.2488\n",
      "got         Freq:   226.75 | Coef:  -1.1123\n",
      "time        Freq:   211.62 | Coef:   0.2737\n",
      "ve          Freq:   209.94 | Coef:  -0.7241\n",
      "let         Freq:   197.86 | Coef:   0.6736\n",
      "come        Freq:   171.81 | Coef:   0.5656\n",
      "want        Freq:   168.19 | Coef:   0.0040\n",
      "baby        Freq:   164.76 | Coef:   2.6964\n"
     ]
    }
   ],
   "source": [
    "# Top features by frequency\n",
    "feature_frequencies = np.array(X_tfidf.sum(axis=0)).flatten()\n",
    "freq_df = pd.DataFrame({\n",
    "    'feature': feature_names,\n",
    "    'frequency': feature_frequencies,\n",
    "    'coefficient': feature_coefficients\n",
    "}).sort_values('frequency', ascending=False)\n",
    "\n",
    "print(\"Top 15 most frequent features:\")\n",
    "for idx, row in freq_df.head(15).iterrows():\n",
    "    print(f\"{row['feature']:10s}  Freq: {row['frequency']:8.2f} | Coef: {row['coefficient']:8.4f}\")"
   ]
  },
  {
   "cell_type": "code",
   "execution_count": 11,
   "id": "2dccbb73-6354-4000-aa68-9649ed9fc829",
   "metadata": {},
   "outputs": [
    {
     "data": {
      "image/png": "[encoded data removed]",
      "text/plain": [
       "<Figure size 600x400 with 1 Axes>"
      ]
     },
     "metadata": {},
     "output_type": "display_data"
    },
    {
     "data": {
      "image/png": "[encoded data removed]",
      "text/plain": [
       "<Figure size 400x300 with 1 Axes>"
      ]
     },
     "metadata": {},
     "output_type": "display_data"
    }
   ],
   "source": [
    "# Plot feature importance\n",
    "plt.figure(figsize=(6, 4))\n",
    "top_features = feature_importance_df.head(20)\n",
    "plt.barh(range(len(top_features)), top_features['coefficient'])\n",
    "plt.yticks(range(len(top_features)), top_features['feature'])\n",
    "plt.xlabel('Coefficient Value')\n",
    "plt.title('Top 20 Feature Coefficients')\n",
    "plt.gca().invert_yaxis()\n",
    "plt.tight_layout()\n",
    "plt.savefig('Top_20_feature_coefs_processed_new.png')\n",
    "plt.show()\n",
    "\n",
    "# Plot ROC curve\n",
    "fpr, tpr, _ = roc_curve(y_test, y_pred_proba)\n",
    "plt.figure(figsize=(4, 3))\n",
    "plt.plot(fpr, tpr, color='darkorange', lw=2, label=f'ROC curve (AUC = {roc_auc:.3f})')\n",
    "plt.plot([0, 1], [0, 1], color='navy', lw=2, linestyle='--')\n",
    "plt.xlim([0.0, 1.0])\n",
    "plt.ylim([0.0, 1.05])\n",
    "plt.xlabel('False Positive Rate')\n",
    "plt.ylabel('True Positive Rate')\n",
    "plt.title('Receiver Operating Characteristic (ROC) Curve')\n",
    "plt.legend(loc=\"lower right\")\n",
    "plt.savefig('ROC_curve_processed_new.png')\n",
    "plt.show()"
   ]
  },
  {
   "cell_type": "code",
   "execution_count": 12,
   "id": "29496641-4db0-44b7-b539-3d22181d5800",
   "metadata": {},
   "outputs": [
    {
     "name": "stdout",
     "output_type": "stream",
     "text": [
      "Total number of features: 5000\n",
      "Most important positive feature: love\n",
      "Most important negative feature: age love\n"
     ]
    }
   ],
   "source": [
    "print(f\"Total number of features: {X_tfidf.shape[1]}\")\n",
    "print(f\"Most important positive feature: {feature_importance_df.iloc[0]['feature']}\")\n",
    "print(f\"Most important negative feature: {feature_importance_df.iloc[-1]['feature']}\")"
   ]
  }
 ],
 "metadata": {
  "kernelspec": {
   "display_name": "Python 3 (ipykernel)",
   "language": "python",
   "name": "python3"
  },
  "language_info": {
   "codemirror_mode": {
    "name": "ipython",
    "version": 3
   },
   "file_extension": ".py",
   "mimetype": "text/x-python",
   "name": "python",
   "nbconvert_exporter": "python",
   "pygments_lexer": "ipython3",
   "version": "3.11.5"
  }
 },
 "nbformat": 4,
 "nbformat_minor": 5
}
